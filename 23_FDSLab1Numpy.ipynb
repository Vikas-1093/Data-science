{
  "nbformat": 4,
  "nbformat_minor": 0,
  "metadata": {
    "colab": {
      "name": "23_FDSLab1Numpy.ipynb",
      "provenance": [],
      "collapsed_sections": [],
      "authorship_tag": "ABX9TyNlghxgXNRWLnQSEH5CkaD7",
      "include_colab_link": true
    },
    "kernelspec": {
      "name": "python3",
      "display_name": "Python 3"
    },
    "language_info": {
      "name": "python"
    }
  },
  "cells": [
    {
      "cell_type": "markdown",
      "metadata": {
        "id": "view-in-github",
        "colab_type": "text"
      },
      "source": [
        "<a href=\"https://colab.research.google.com/github/Vikas-1093/Data-science/blob/main/23_FDSLab1Numpy.ipynb\" target=\"_parent\"><img src=\"https://colab.research.google.com/assets/colab-badge.svg\" alt=\"Open In Colab\"/></a>"
      ]
    },
    {
      "cell_type": "code",
      "metadata": {
        "colab": {
          "base_uri": "https://localhost:8080/"
        },
        "id": "VwJLNeDZP83J",
        "outputId": "9e88f5c7-8530-417b-baa0-160e795dea05"
      },
      "source": [
        "!ls sample_data"
      ],
      "execution_count": 1,
      "outputs": [
        {
          "output_type": "stream",
          "name": "stdout",
          "text": [
            "anscombe.json\t\t      mnist_test.csv\n",
            "california_housing_test.csv   mnist_train_small.csv\n",
            "california_housing_train.csv  README.md\n"
          ]
        }
      ]
    },
    {
      "cell_type": "code",
      "metadata": {
        "colab": {
          "base_uri": "https://localhost:8080/"
        },
        "id": "2mTmRiMDQLpu",
        "outputId": "e2a0d838-7f3c-4a0f-d35a-1581acc1cec6"
      },
      "source": [
        "print(\"hello\")"
      ],
      "execution_count": 2,
      "outputs": [
        {
          "output_type": "stream",
          "name": "stdout",
          "text": [
            "hello\n"
          ]
        }
      ]
    },
    {
      "cell_type": "code",
      "metadata": {
        "colab": {
          "base_uri": "https://localhost:8080/"
        },
        "id": "XrG7NximQO75",
        "outputId": "2a086c26-0812-48ab-92e8-ae744014e900"
      },
      "source": [
        "a = 4\n",
        "b = 6\n",
        "print('a = '+str(a) + ' & b = '+str(b))"
      ],
      "execution_count": 3,
      "outputs": [
        {
          "output_type": "stream",
          "name": "stdout",
          "text": [
            "a = 4 & b = 6\n"
          ]
        }
      ]
    },
    {
      "cell_type": "code",
      "metadata": {
        "colab": {
          "base_uri": "https://localhost:8080/"
        },
        "id": "3asKUAuPQQJw",
        "outputId": "7f3d3492-45ef-4dc9-b847-912ef160a658"
      },
      "source": [
        "type(a)"
      ],
      "execution_count": 4,
      "outputs": [
        {
          "output_type": "execute_result",
          "data": {
            "text/plain": [
              "int"
            ]
          },
          "metadata": {},
          "execution_count": 4
        }
      ]
    },
    {
      "cell_type": "code",
      "metadata": {
        "colab": {
          "base_uri": "https://localhost:8080/"
        },
        "id": "fm76bcLtQh0b",
        "outputId": "cbf0b322-5020-4876-8ffd-09b872a27b5c"
      },
      "source": [
        "s1 = \"RJ College\"\n",
        "type(s1)"
      ],
      "execution_count": 5,
      "outputs": [
        {
          "output_type": "execute_result",
          "data": {
            "text/plain": [
              "str"
            ]
          },
          "metadata": {},
          "execution_count": 5
        }
      ]
    },
    {
      "cell_type": "code",
      "metadata": {
        "colab": {
          "base_uri": "https://localhost:8080/"
        },
        "id": "1G64xc9LQlZ8",
        "outputId": "caf9f62a-b50a-45c2-9bd6-3784334c8495"
      },
      "source": [
        "pi = 3.145\n",
        "type(pi)"
      ],
      "execution_count": 6,
      "outputs": [
        {
          "output_type": "execute_result",
          "data": {
            "text/plain": [
              "float"
            ]
          },
          "metadata": {},
          "execution_count": 6
        }
      ]
    },
    {
      "cell_type": "markdown",
      "metadata": {
        "id": "zZcywvocQq6t"
      },
      "source": [
        "\n",
        "**Markdown Guide Practice**"
      ]
    },
    {
      "cell_type": "markdown",
      "metadata": {
        "id": "z7VvE9ovQtJK"
      },
      "source": [
        "**Equations**\n",
        "\n",
        "$y = x^2$\n",
        "\n",
        "$e^{i\\pi} + 1 = 0$\n",
        "\n",
        "\n",
        "$e^x=\\sum_{i=0}^\\infty \\frac{1}{i!}x^i$\n",
        "\n",
        "\n",
        "$\\frac{n!}{k!(n-k)!} = {n \\choose k}$\n",
        "\n",
        "\n",
        "$A_{m,n} =\n",
        " \\begin{pmatrix}\n",
        "  a_{1,1} &amp; a_{1,2} &amp; \\cdots &amp; a_{1,n} \\\\\n",
        "  a_{2,1} &amp; a_{2,2} &amp; \\cdots &amp; a_{2,n} \\\\\n",
        "  \\vdots  &amp; \\vdots  &amp; \\ddots &amp; \\vdots  \\\\\n",
        "  a_{m,1} &amp; a_{m,2} &amp; \\cdots &amp; a_{m,n}\n",
        " \\end{pmatrix}$"
      ]
    },
    {
      "cell_type": "markdown",
      "metadata": {
        "id": "XOUtjzWDRFGj"
      },
      "source": [
        "**NumPy**\n",
        "\n",
        "https://numpy.org/doc/stable/user/whatisnumpy.html"
      ]
    },
    {
      "cell_type": "code",
      "metadata": {
        "colab": {
          "base_uri": "https://localhost:8080/"
        },
        "id": "E9ly6LWkQsso",
        "outputId": "a66952bc-90a1-4f01-b6a2-ab5cddb00237"
      },
      "source": [
        "a = [1,2,3]\n",
        "a"
      ],
      "execution_count": 7,
      "outputs": [
        {
          "output_type": "execute_result",
          "data": {
            "text/plain": [
              "[1, 2, 3]"
            ]
          },
          "metadata": {},
          "execution_count": 7
        }
      ]
    },
    {
      "cell_type": "code",
      "metadata": {
        "colab": {
          "base_uri": "https://localhost:8080/"
        },
        "id": "J7HKW8nQRLt0",
        "outputId": "b722dd41-0491-41a0-ca86-fc6f13334c7d"
      },
      "source": [
        "type(a)\n"
      ],
      "execution_count": 8,
      "outputs": [
        {
          "output_type": "execute_result",
          "data": {
            "text/plain": [
              "list"
            ]
          },
          "metadata": {},
          "execution_count": 8
        }
      ]
    },
    {
      "cell_type": "code",
      "metadata": {
        "colab": {
          "base_uri": "https://localhost:8080/"
        },
        "id": "rd23I-wLROEd",
        "outputId": "6866bc80-dcfb-4834-bef7-a40e929ba260"
      },
      "source": [
        "b = [4,5,6]\n",
        "b"
      ],
      "execution_count": 9,
      "outputs": [
        {
          "output_type": "execute_result",
          "data": {
            "text/plain": [
              "[4, 5, 6]"
            ]
          },
          "metadata": {},
          "execution_count": 9
        }
      ]
    },
    {
      "cell_type": "code",
      "metadata": {
        "colab": {
          "base_uri": "https://localhost:8080/"
        },
        "id": "dPbHpQmRRQdK",
        "outputId": "46dc50c2-c813-474d-c460-6b21036838b0"
      },
      "source": [
        "#Multiplication\n",
        "c = []\n",
        "for i in range(len(a)):\n",
        "  c.append(a[i]*b[i])\n",
        "c"
      ],
      "execution_count": 10,
      "outputs": [
        {
          "output_type": "execute_result",
          "data": {
            "text/plain": [
              "[4, 10, 18]"
            ]
          },
          "metadata": {},
          "execution_count": 10
        }
      ]
    },
    {
      "cell_type": "code",
      "metadata": {
        "colab": {
          "base_uri": "https://localhost:8080/"
        },
        "id": "DA7WAqBaRXF1",
        "outputId": "3350eb7e-d4b5-40c8-d904-f7eec966a695"
      },
      "source": [
        "#Addition of two array\n",
        "c = []\n",
        "for i in range(len(a)):\n",
        "  c.append(a[i]+b[i])\n",
        "c"
      ],
      "execution_count": 11,
      "outputs": [
        {
          "output_type": "execute_result",
          "data": {
            "text/plain": [
              "[5, 7, 9]"
            ]
          },
          "metadata": {},
          "execution_count": 11
        }
      ]
    },
    {
      "cell_type": "code",
      "metadata": {
        "colab": {
          "base_uri": "https://localhost:8080/"
        },
        "id": "bZPZZDPrRYE0",
        "outputId": "eae9a1e2-31cf-42cd-ad57-6fd317cfd0c4"
      },
      "source": [
        "import time\n",
        "print(\"Sleeping\")\n",
        "time.sleep(30) # sleep for a while; interrupt me!\n",
        "print(\"Done Sleeping\")"
      ],
      "execution_count": 13,
      "outputs": [
        {
          "output_type": "stream",
          "name": "stdout",
          "text": [
            "Sleeping\n",
            "Done Sleeping\n"
          ]
        }
      ]
    },
    {
      "cell_type": "code",
      "metadata": {
        "id": "idE3t_IhRbZm"
      },
      "source": [
        "import numpy as np"
      ],
      "execution_count": 15,
      "outputs": []
    },
    {
      "cell_type": "code",
      "metadata": {
        "colab": {
          "base_uri": "https://localhost:8080/"
        },
        "id": "Yk8vagBHRtYi",
        "outputId": "d1d22666-8941-4ffb-8f82-27cd90376782"
      },
      "source": [
        "#define automatic array\n",
        "a = np.arange(15).reshape(3,5)\n",
        "a"
      ],
      "execution_count": 16,
      "outputs": [
        {
          "output_type": "execute_result",
          "data": {
            "text/plain": [
              "array([[ 0,  1,  2,  3,  4],\n",
              "       [ 5,  6,  7,  8,  9],\n",
              "       [10, 11, 12, 13, 14]])"
            ]
          },
          "metadata": {},
          "execution_count": 16
        }
      ]
    },
    {
      "cell_type": "code",
      "metadata": {
        "colab": {
          "base_uri": "https://localhost:8080/"
        },
        "id": "uOEDJ3e_RwCN",
        "outputId": "ca7d990e-28bb-4194-e8f7-e642eb1cdfe9"
      },
      "source": [
        "a.ndim"
      ],
      "execution_count": 18,
      "outputs": [
        {
          "output_type": "execute_result",
          "data": {
            "text/plain": [
              "2"
            ]
          },
          "metadata": {},
          "execution_count": 18
        }
      ]
    },
    {
      "cell_type": "code",
      "metadata": {
        "colab": {
          "base_uri": "https://localhost:8080/"
        },
        "id": "kry21orGRyEb",
        "outputId": "20055696-5c1f-45d9-de71-f743376079ae"
      },
      "source": [
        "a.dtype"
      ],
      "execution_count": 19,
      "outputs": [
        {
          "output_type": "execute_result",
          "data": {
            "text/plain": [
              "dtype('int64')"
            ]
          },
          "metadata": {},
          "execution_count": 19
        }
      ]
    },
    {
      "cell_type": "code",
      "metadata": {
        "colab": {
          "base_uri": "https://localhost:8080/",
          "height": 35
        },
        "id": "HlIEdUKNR2Om",
        "outputId": "08d360de-abbd-41f8-fe97-e8c7f5c58c45"
      },
      "source": [
        "a.dtype.name"
      ],
      "execution_count": 21,
      "outputs": [
        {
          "output_type": "execute_result",
          "data": {
            "application/vnd.google.colaboratory.intrinsic+json": {
              "type": "string"
            },
            "text/plain": [
              "'int64'"
            ]
          },
          "metadata": {},
          "execution_count": 21
        }
      ]
    },
    {
      "cell_type": "code",
      "metadata": {
        "colab": {
          "base_uri": "https://localhost:8080/"
        },
        "id": "_MfSowsGR4q2",
        "outputId": "7ad2f5aa-94da-4c7c-bb4e-c71595e0b82a"
      },
      "source": [
        "#itemsize = row + column\n",
        "a.itemsize"
      ],
      "execution_count": 22,
      "outputs": [
        {
          "output_type": "execute_result",
          "data": {
            "text/plain": [
              "8"
            ]
          },
          "metadata": {},
          "execution_count": 22
        }
      ]
    },
    {
      "cell_type": "code",
      "metadata": {
        "colab": {
          "base_uri": "https://localhost:8080/"
        },
        "id": "pMAuuPuWR9jy",
        "outputId": "a81163bc-31a9-4ce4-98bd-a0791ad90e76"
      },
      "source": [
        "#size = total no. of elements in the array\n",
        "a.size"
      ],
      "execution_count": 23,
      "outputs": [
        {
          "output_type": "execute_result",
          "data": {
            "text/plain": [
              "15"
            ]
          },
          "metadata": {},
          "execution_count": 23
        }
      ]
    },
    {
      "cell_type": "code",
      "metadata": {
        "colab": {
          "base_uri": "https://localhost:8080/"
        },
        "id": "Ih17g1-CR_D-",
        "outputId": "de03b15b-7060-4215-d929-646c3fb5d592"
      },
      "source": [
        "type(a)"
      ],
      "execution_count": 25,
      "outputs": [
        {
          "output_type": "execute_result",
          "data": {
            "text/plain": [
              "numpy.ndarray"
            ]
          },
          "metadata": {},
          "execution_count": 25
        }
      ]
    },
    {
      "cell_type": "code",
      "metadata": {
        "colab": {
          "base_uri": "https://localhost:8080/"
        },
        "id": "eI5mnMI_SBk0",
        "outputId": "ab767b0c-1479-43b8-85ca-3f5055e71527"
      },
      "source": [
        "#define array manually\n",
        "b = np.array([[12,13,14],[15,16,17]])\n",
        "b"
      ],
      "execution_count": 26,
      "outputs": [
        {
          "output_type": "execute_result",
          "data": {
            "text/plain": [
              "array([[12, 13, 14],\n",
              "       [15, 16, 17]])"
            ]
          },
          "metadata": {},
          "execution_count": 26
        }
      ]
    },
    {
      "cell_type": "code",
      "metadata": {
        "colab": {
          "base_uri": "https://localhost:8080/"
        },
        "id": "VBJOWPGPSEeu",
        "outputId": "6d04121a-8dff-46ba-98f6-6a2c489c5c8a"
      },
      "source": [
        "#reshape the manual array using 'reshape'\n",
        "\n",
        "c = b.reshape(3,2)\n",
        "c"
      ],
      "execution_count": 27,
      "outputs": [
        {
          "output_type": "execute_result",
          "data": {
            "text/plain": [
              "array([[12, 13],\n",
              "       [14, 15],\n",
              "       [16, 17]])"
            ]
          },
          "metadata": {},
          "execution_count": 27
        }
      ]
    },
    {
      "cell_type": "code",
      "metadata": {
        "colab": {
          "base_uri": "https://localhost:8080/"
        },
        "id": "8yU8XCoxSI_6",
        "outputId": "61046af0-2263-4218-da65-1ee0f080d953"
      },
      "source": [
        "#Create an array of 10 characters with 2 rows and 5 columns\n",
        "d = np.array(['p','a','v','a','n','y','a','d','a','v'])\n",
        "s = d.reshape(2,5)\n",
        "s"
      ],
      "execution_count": 28,
      "outputs": [
        {
          "output_type": "execute_result",
          "data": {
            "text/plain": [
              "array([['p', 'a', 'v', 'a', 'n'],\n",
              "       ['y', 'a', 'd', 'a', 'v']], dtype='<U1')"
            ]
          },
          "metadata": {},
          "execution_count": 28
        }
      ]
    }
  ]
}