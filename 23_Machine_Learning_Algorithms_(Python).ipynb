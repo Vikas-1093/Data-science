{
 "cells": [
  {
   "cell_type": "markdown",
   "metadata": {
    "id": "3vE8y1SwAjLz"
   },
   "source": [
    "1. Linear Regression"
   ]
  },
  {
   "cell_type": "code",
   "execution_count": 1,
   "metadata": {
    "id": "GwUoWQ0vABcg"
   },
   "outputs": [],
   "source": [
    "import pandas as pd\n",
    "from sklearn.linear_model import LinearRegression\n",
    "from sklearn.metrics import mean_squared_error\n"
   ]
  },
  {
   "cell_type": "code",
   "execution_count": null,
   "metadata": {
    "id": "LUeAfSoLB1En"
   },
   "outputs": [],
   "source": [
    "train_data = pd.read_csv('/content/sample_data/train.csv')\n",
    "test_data = pd.read_csv('/content/sample_data/test.csv')"
   ]
  },
  {
   "cell_type": "code",
   "execution_count": null,
   "metadata": {
    "colab": {
     "base_uri": "https://localhost:8080/"
    },
    "id": "qdfvW-OIGHOi",
    "outputId": "f1a0cfae-8b09-4be4-b5aa-86d87abeb46d"
   },
   "outputs": [
    {
     "name": "stdout",
     "output_type": "stream",
     "text": [
      "   Item_Weight  ...  Outlet_Type_Supermarket Type3\n",
      "0     6.800000  ...                              0\n",
      "1    15.600000  ...                              0\n",
      "2    12.911575  ...                              1\n",
      "3    11.800000  ...                              0\n",
      "4    17.850000  ...                              0\n",
      "\n",
      "[5 rows x 36 columns]\n"
     ]
    }
   ],
   "source": [
    "print(train_data.head())"
   ]
  },
  {
   "cell_type": "code",
   "execution_count": null,
   "metadata": {
    "colab": {
     "base_uri": "https://localhost:8080/"
    },
    "id": "EELntCCyGOyM",
    "outputId": "3f1a83e2-f8d9-4716-dd65-c5906af89e49"
   },
   "outputs": [
    {
     "name": "stdout",
     "output_type": "stream",
     "text": [
      "\n",
      "Shape of training data : (1364, 36)\n",
      "\n",
      "Shape of testing data : (341, 36)\n"
     ]
    }
   ],
   "source": [
    "print('\\nShape of training data :',train_data.shape)\n",
    "print('\\nShape of testing data :',test_data.shape)"
   ]
  },
  {
   "cell_type": "code",
   "execution_count": null,
   "metadata": {
    "id": "JlCxfw1jGKi4"
   },
   "outputs": [],
   "source": [
    "train_x = train_data.drop(columns=['Item_Outlet_Sales'],axis=1)\n",
    "train_y = train_data['Item_Outlet_Sales']"
   ]
  },
  {
   "cell_type": "code",
   "execution_count": null,
   "metadata": {
    "id": "V71xCoRjGmlV"
   },
   "outputs": [],
   "source": [
    "test_x = test_data.drop(columns=['Item_Outlet_Sales'],axis=1)\n",
    "test_y = test_data['Item_Outlet_Sales']"
   ]
  },
  {
   "cell_type": "code",
   "execution_count": null,
   "metadata": {
    "id": "tQ6xhlerGyBP"
   },
   "outputs": [],
   "source": [
    "model = LinearRegression()"
   ]
  },
  {
   "cell_type": "code",
   "execution_count": null,
   "metadata": {
    "colab": {
     "base_uri": "https://localhost:8080/"
    },
    "id": "j5HZ2zX6G2Gu",
    "outputId": "a1006916-d5b9-4f6b-8777-75d394876111"
   },
   "outputs": [
    {
     "data": {
      "text/plain": [
       "LinearRegression()"
      ]
     },
     "execution_count": 11,
     "metadata": {},
     "output_type": "execute_result"
    }
   ],
   "source": [
    "model.fit(train_x,train_y)"
   ]
  },
  {
   "cell_type": "code",
   "execution_count": null,
   "metadata": {
    "colab": {
     "base_uri": "https://localhost:8080/"
    },
    "id": "ZIGfyBkyG5Uo",
    "outputId": "a3424ac2-1758-4c6e-fe2c-52141c42023b"
   },
   "outputs": [
    {
     "name": "stdout",
     "output_type": "stream",
     "text": [
      "\n",
      "Coefficient of model : [-3.84197604e+00  9.83065945e+00  1.61711856e+01  6.09197622e+01\n",
      " -8.64161561e+01  1.23593376e+02  2.34714039e+02 -2.44597425e+02\n",
      " -2.72938329e+01 -8.09611456e+00 -3.01147840e+02  1.70727611e+02\n",
      " -5.40194744e+01  7.34248834e+01  1.70313375e+00 -5.07701615e+01\n",
      "  1.63553657e+02 -5.85286125e+01  1.04913492e+02 -6.01944874e+01\n",
      "  1.98948206e+02 -1.40959023e+02  1.19426257e+02  2.66382669e+01\n",
      " -1.85619792e+02  1.43925357e+03  2.16134663e+02  3.54723990e+01\n",
      "  3.54832996e+02 -5.54559635e+00 -3.49287400e+02 -1.39202954e+03\n",
      " -2.57982359e+02 -9.59016062e+02  2.60902796e+03]\n"
     ]
    }
   ],
   "source": [
    "print('\\nCoefficient of model :', model.coef_)"
   ]
  },
  {
   "cell_type": "code",
   "execution_count": null,
   "metadata": {
    "colab": {
     "base_uri": "https://localhost:8080/"
    },
    "id": "TUf9ntZnG8Eh",
    "outputId": "6c049523-9f83-4fea-f276-28f5020ca2cc"
   },
   "outputs": [
    {
     "name": "stdout",
     "output_type": "stream",
     "text": [
      "\n",
      "Intercept of model -121926.97473298332\n"
     ]
    }
   ],
   "source": [
    "print('\\nIntercept of model',model.intercept_)"
   ]
  },
  {
   "cell_type": "code",
   "execution_count": null,
   "metadata": {
    "colab": {
     "base_uri": "https://localhost:8080/"
    },
    "id": "8GidiKDnG-6q",
    "outputId": "dc73b15b-3f2d-46e6-c892-5bb09693b0e9"
   },
   "outputs": [
    {
     "name": "stdout",
     "output_type": "stream",
     "text": [
      "\n",
      "Item_Outlet_Sales on training data [ 803.88817641 1733.98835979 3294.52154482 ...  811.16967914 2343.96927185\n",
      " 2444.98869913]\n"
     ]
    }
   ],
   "source": [
    "predict_train = model.predict(train_x)\n",
    "print('\\nItem_Outlet_Sales on training data',predict_train)"
   ]
  },
  {
   "cell_type": "code",
   "execution_count": null,
   "metadata": {
    "colab": {
     "base_uri": "https://localhost:8080/"
    },
    "id": "Ld9hV5MHHLyO",
    "outputId": "5a3350e6-ece9-43b0-9feb-9becb7122cfe"
   },
   "outputs": [
    {
     "name": "stdout",
     "output_type": "stream",
     "text": [
      "\n",
      "RMSE on train dataset :  1135.8159344155245\n"
     ]
    }
   ],
   "source": [
    "rmse_train = mean_squared_error(train_y,predict_train)**(0.5)\n",
    "print('\\nRMSE on train dataset : ', rmse_train)"
   ]
  },
  {
   "cell_type": "code",
   "execution_count": null,
   "metadata": {
    "colab": {
     "base_uri": "https://localhost:8080/"
    },
    "id": "71vCCeN9HR4h",
    "outputId": "815ea70c-882c-405d-cab1-85b7e9ffe1e9"
   },
   "outputs": [
    {
     "name": "stdout",
     "output_type": "stream",
     "text": [
      "\n",
      "Item_Outlet_Sales on test data [ 1615.37962439  3168.60806673  2564.31326686  2685.29698657\n",
      "  2771.82059109  4223.3788671   2615.10827403   565.8088248\n",
      "  4000.68496927  1035.54578573  2184.60316447  1033.54185437\n",
      "   150.22804639  1616.19932803  2370.37858454  1953.693325\n",
      "  2307.09514556  1429.85271583  2343.42149697  3780.28905363\n",
      "   583.44339124  1089.08346168  2323.64661483  3559.90832258\n",
      "  1829.46789667  1602.03985138   840.70282292  1823.14253132\n",
      "  3145.30906529  1823.30397678  2103.35401623  3025.02597477\n",
      "  2265.03907268   697.33936172  4474.05156681  2270.45195749\n",
      "  1897.45212218  3305.0110824   2228.36615412  3767.90052861\n",
      "  2162.33844917   665.40410258  -926.22966666   738.30407877\n",
      "   197.90808777  2483.25075805  3693.05388376  2458.43116228\n",
      "  1329.02544771   -57.67123156  1952.26612825  3614.4167807\n",
      "  2127.22359714  2486.1932574   1826.90446272   786.7283994\n",
      "  3200.67525412  1981.66000538  2326.98747373  3535.12951812\n",
      "    53.4756877    129.4629475   4259.8975191   3732.15225981\n",
      "  4454.54642228   717.26348394  1431.6614166    581.01605137\n",
      "  1119.93954645  2392.48117429  1155.07145201  3528.03281464\n",
      "  2044.86804694   455.24692632  1342.74411911  1033.2840843\n",
      "  1406.11005231   794.30323743  1098.87255812    83.75695654\n",
      "  1250.60074702  1495.67548794  2424.43083225  1844.12427139\n",
      "  3082.43684194  3765.07357641   771.99003119  4435.95849625\n",
      "   738.14937479   850.57494768  2622.28171329  1655.50682655\n",
      "   907.1351255   4290.06774145   953.43327412  5344.75965244\n",
      "  4088.62424173  2806.91278755  3128.8067004   1928.5781408\n",
      "  4036.11769697  3180.16424086  3139.20756065   542.83160506\n",
      "  2532.07785569  1105.76857669  3504.70144046  3939.48193634\n",
      "   333.08756699  1948.88080922  1231.78773626  2740.61520829\n",
      "  2346.30720313  3424.19140178  3051.02145123  1014.75408262\n",
      "  1782.52495649  1841.62002811  3947.82775657  1614.81023184\n",
      "  1389.86016917  1928.35682551  2619.4880638   2472.77585379\n",
      "  2692.29331855    78.62892708  2330.19059149  4159.73973081\n",
      "  4529.46230433  2264.57300155  1826.88342763  1275.25198009\n",
      "  -457.62680268   329.71458616  5805.46289307 -1450.16404187\n",
      "  1501.61687972  2965.88387942  1611.61916429  1886.73538613\n",
      "  1242.79778954  4296.14339619  1728.68334987  1509.00474116\n",
      "  2260.5918405   4159.20469494  3193.38759006  1509.53713972\n",
      "  2210.42073119  5754.97388686 -1170.50864902  3162.64617061\n",
      "  1994.01620756  1917.42431232  4404.60357762   997.35766781\n",
      "  1742.51236828  2265.77611998  2543.6189625   1469.66880224\n",
      "  1975.14690278  1225.30048856  4218.66518874  1697.85375137\n",
      "  2790.38688349  3935.99362435   625.06246143  2373.6866766\n",
      "  1831.0172668   1796.26777    -1075.85814761   427.15550704\n",
      "  1746.36375123   233.53413014  1774.33869755  2918.17108391\n",
      "  1912.23196062  3497.76791      605.64499947   761.50725234\n",
      "   575.95154528  2460.73367421  1613.43332209  1746.36921802\n",
      "  1366.92450243  2750.82093523  2708.27802108  2113.05123036\n",
      "  4091.83752837  2621.18104708  3834.85938706   866.33297998\n",
      "  3178.14854212  1320.60993899   614.11653153  2996.50726857\n",
      "  4183.21848289  2768.14376223  1894.7224403   2168.35936706\n",
      "  -430.75854506  1752.34512895  2547.47132497  3202.07672874\n",
      "  4158.43802333  2603.79263873  4096.2558171   4530.17698005\n",
      "  2657.59669754  1845.45481481  3390.50113508  2297.02310717\n",
      "  1935.22179911  1039.45233714  1610.06188742  2349.26388899\n",
      "  1687.75642234  1416.88045961  3186.47487698  1380.9005566\n",
      "  2048.98028877  3115.36727803  3192.74829239  2957.81471134\n",
      "  -309.39482285  3792.4834738   3808.61032694  3669.63236467\n",
      "  3736.43245566  2277.01639962   857.76812536  2528.67482118\n",
      "  4700.44879575  2872.01837914  2804.08508738 -1045.53520215\n",
      "  -183.90085944  2556.47193302  3194.77054019  3108.48089695\n",
      "  4718.52624333  3623.54852334  3038.4043458   2900.27886742\n",
      "  1042.6899685   3242.69016168  1632.6328344   3395.96081244\n",
      "  2213.18339089  2707.37203753  4165.66077486  1492.34822792\n",
      "  -132.72238794  1102.63092166  1438.80008104  1443.75837334\n",
      "  1829.01554695   973.12771481  3271.39421376  3254.27432253\n",
      "  -161.46169522    72.58218786  1774.24125644  -632.66831423\n",
      "  2531.55226268  4485.65882169  1796.44459658  2519.74607773\n",
      "  2371.38081459  4194.8355524   -771.30234698  1344.46736265\n",
      "  -967.33576066  1353.05300573  3265.73163044  2670.2925567\n",
      "  1613.75708737  3189.58746374  -810.85964358  2753.09992531\n",
      "  2178.28032441  2732.98784197  2110.04822199  2327.68963809\n",
      "  3870.64913841  2926.04570599  2779.15291241   636.25728977\n",
      "  1194.1928894   4778.71033823  3066.39089093  3328.54835279\n",
      "  4400.46098188  1894.895569    4290.01251609   572.99300136\n",
      "  2579.24830491  3349.60698124  2982.54911796  2674.56165895\n",
      "  3763.95229207  3884.58791149  3782.90713719  3939.12885079\n",
      "  3850.1735489   3870.01081561  3964.5331962   2908.96433528\n",
      "  1001.51593302   509.85548611  2026.75019074  5691.58192484\n",
      "  2105.74552915  1747.54922009  3110.61258139   115.7401617\n",
      "  5172.75086929  3338.73543581  4144.05762646   805.53285192\n",
      "  2331.40657555  3206.99378836   386.55122767  2938.94701141\n",
      "  1873.28577011  2144.49147042  3082.87955228  3870.29871722\n",
      "  1791.43594337  1069.11477182  3294.84134826  5603.61296774\n",
      "  1645.44477396   232.82442927  1181.13519601  3701.34493377\n",
      "  4099.97384712  2877.21991084  3519.04358701  1707.98351381\n",
      "   170.07605396]\n"
     ]
    }
   ],
   "source": [
    "predict_test = model.predict(test_x)\n",
    "print('\\nItem_Outlet_Sales on test data',predict_test) "
   ]
  },
  {
   "cell_type": "code",
   "execution_count": null,
   "metadata": {
    "colab": {
     "base_uri": "https://localhost:8080/"
    },
    "id": "3h5HJxMtHUEK",
    "outputId": "5b324df9-e592-4164-a664-3d1bb556caed"
   },
   "outputs": [
    {
     "name": "stdout",
     "output_type": "stream",
     "text": [
      "\n",
      "RMSE on test dataset :  1009.2517232209692\n"
     ]
    }
   ],
   "source": [
    "rmse_test = mean_squared_error(test_y,predict_test)**(0.5)\n",
    "print('\\nRMSE on test dataset : ', rmse_test)"
   ]
  },
  {
   "cell_type": "markdown",
   "metadata": {
    "id": "UBQn-OIBHfte"
   },
   "source": [
    "2. Logistic Regression"
   ]
  },
  {
   "cell_type": "code",
   "execution_count": null,
   "metadata": {
    "id": "lzliM1inHXwd"
   },
   "outputs": [],
   "source": [
    "import pandas as pd\n",
    "from sklearn.linear_model import LogisticRegression #Main for LogisticRegression()\n",
    "from sklearn.metrics import accuracy_score  \n"
   ]
  },
  {
   "cell_type": "code",
   "execution_count": null,
   "metadata": {
    "id": "WFsfjV8iIAOq"
   },
   "outputs": [],
   "source": [
    "train_data = pd.read_csv('/content/sample_data/train-data.csv')\n",
    "test_data = pd.read_csv('/content/sample_data/test-data.csv')"
   ]
  },
  {
   "cell_type": "code",
   "execution_count": null,
   "metadata": {
    "colab": {
     "base_uri": "https://localhost:8080/"
    },
    "id": "ZFasmlQjI_nr",
    "outputId": "69bc08d7-1671-4f89-8d38-56adfcf392b8"
   },
   "outputs": [
    {
     "name": "stdout",
     "output_type": "stream",
     "text": [
      "   Survived        Age     Fare  ...  Embarked_C  Embarked_Q  Embarked_S\n",
      "0         0  28.500000   7.2292  ...           1           0           0\n",
      "1         1  27.000000  10.5000  ...           0           0           1\n",
      "2         1  29.699118  16.1000  ...           0           0           1\n",
      "3         0  29.699118   0.0000  ...           0           0           1\n",
      "4         0  17.000000   8.6625  ...           0           0           1\n",
      "\n",
      "[5 rows x 25 columns]\n",
      "   Survived   Age      Fare  ...  Embarked_C  Embarked_Q  Embarked_S\n",
      "0         0  35.0    7.1250  ...           0           0           1\n",
      "1         0  20.0    7.0500  ...           0           0           1\n",
      "2         0  26.0    7.8958  ...           0           0           1\n",
      "3         1  58.0  146.5208  ...           1           0           0\n",
      "4         1  35.0   83.4750  ...           0           0           1\n",
      "\n",
      "[5 rows x 25 columns]\n"
     ]
    }
   ],
   "source": [
    "print(train_data.head())\n",
    "print(test_data.head())"
   ]
  },
  {
   "cell_type": "code",
   "execution_count": null,
   "metadata": {
    "colab": {
     "base_uri": "https://localhost:8080/"
    },
    "id": "-WSpLjJjJEHB",
    "outputId": "9c8f1eee-e379-4f20-94e6-69c24aa84be5"
   },
   "outputs": [
    {
     "name": "stdout",
     "output_type": "stream",
     "text": [
      "Shape of training data : (712, 25)\n",
      "Shape of testing data : (179, 25)\n"
     ]
    }
   ],
   "source": [
    "print('Shape of training data :',train_data.shape)\n",
    "print('Shape of testing data :',test_data.shape)"
   ]
  },
  {
   "cell_type": "code",
   "execution_count": null,
   "metadata": {
    "id": "z7_QPT1YJMQk"
   },
   "outputs": [],
   "source": [
    "train_x = train_data.drop(columns=['Survived'],axis=1)\n",
    "train_y = train_data['Survived']\n"
   ]
  },
  {
   "cell_type": "code",
   "execution_count": null,
   "metadata": {
    "colab": {
     "base_uri": "https://localhost:8080/"
    },
    "id": "9hNNc26PJPuD",
    "outputId": "00ece3b8-7703-4d64-87c7-887336602c0f"
   },
   "outputs": [
    {
     "name": "stdout",
     "output_type": "stream",
     "text": [
      "           Age      Fare  Pclass_1  ...  Embarked_C  Embarked_Q  Embarked_S\n",
      "0    28.500000    7.2292         0  ...           1           0           0\n",
      "1    27.000000   10.5000         0  ...           0           0           1\n",
      "2    29.699118   16.1000         0  ...           0           0           1\n",
      "3    29.699118    0.0000         1  ...           0           0           1\n",
      "4    17.000000    8.6625         0  ...           0           0           1\n",
      "..         ...       ...       ...  ...         ...         ...         ...\n",
      "707  24.000000   69.3000         1  ...           1           0           0\n",
      "708  22.000000    7.2500         0  ...           0           0           1\n",
      "709  29.699118  221.7792         1  ...           0           0           1\n",
      "710  12.000000   11.2417         0  ...           1           0           0\n",
      "711  36.000000   10.5000         0  ...           0           0           1\n",
      "\n",
      "[712 rows x 24 columns]\n"
     ]
    }
   ],
   "source": [
    "print(train_x)"
   ]
  },
  {
   "cell_type": "code",
   "execution_count": null,
   "metadata": {
    "colab": {
     "base_uri": "https://localhost:8080/"
    },
    "id": "vFx9NyuRJJ5A",
    "outputId": "c8b73365-5948-40b7-bd15-b277bcf0b117"
   },
   "outputs": [
    {
     "name": "stdout",
     "output_type": "stream",
     "text": [
      "0      0\n",
      "1      1\n",
      "2      1\n",
      "3      0\n",
      "4      0\n",
      "      ..\n",
      "707    1\n",
      "708    0\n",
      "709    0\n",
      "710    1\n",
      "711    0\n",
      "Name: Survived, Length: 712, dtype: int64\n"
     ]
    }
   ],
   "source": [
    "print(train_y)"
   ]
  },
  {
   "cell_type": "code",
   "execution_count": null,
   "metadata": {
    "id": "wb-wS-KnJmQR"
   },
   "outputs": [],
   "source": [
    "test_x = test_data.drop(columns=['Survived'],axis=1)\n",
    "test_y = test_data['Survived']"
   ]
  },
  {
   "cell_type": "code",
   "execution_count": null,
   "metadata": {
    "colab": {
     "base_uri": "https://localhost:8080/"
    },
    "id": "Oj_1aOf6Jw9U",
    "outputId": "3bad6a94-b8d1-49c1-d409-8377c50547e2"
   },
   "outputs": [
    {
     "name": "stdout",
     "output_type": "stream",
     "text": [
      "           Age      Fare  Pclass_1  ...  Embarked_C  Embarked_Q  Embarked_S\n",
      "0    35.000000    7.1250         0  ...           0           0           1\n",
      "1    20.000000    7.0500         0  ...           0           0           1\n",
      "2    26.000000    7.8958         0  ...           0           0           1\n",
      "3    58.000000  146.5208         1  ...           1           0           0\n",
      "4    35.000000   83.4750         1  ...           0           0           1\n",
      "..         ...       ...       ...  ...         ...         ...         ...\n",
      "174  65.000000   26.5500         1  ...           0           0           1\n",
      "175  19.000000   13.0000         0  ...           0           0           1\n",
      "176  44.000000    8.0500         0  ...           0           0           1\n",
      "177  59.000000    7.2500         0  ...           0           0           1\n",
      "178  29.699118   39.6000         1  ...           1           0           0\n",
      "\n",
      "[179 rows x 24 columns]\n"
     ]
    }
   ],
   "source": [
    "print(test_x)"
   ]
  },
  {
   "cell_type": "code",
   "execution_count": null,
   "metadata": {
    "colab": {
     "base_uri": "https://localhost:8080/"
    },
    "id": "P3A_nSm8J0bM",
    "outputId": "a8824670-c1b8-4d00-cd1b-9c9e0129d503"
   },
   "outputs": [
    {
     "name": "stdout",
     "output_type": "stream",
     "text": [
      "0      0\n",
      "1      0\n",
      "2      0\n",
      "3      1\n",
      "4      1\n",
      "      ..\n",
      "174    0\n",
      "175    0\n",
      "176    0\n",
      "177    0\n",
      "178    0\n",
      "Name: Survived, Length: 179, dtype: int64\n"
     ]
    }
   ],
   "source": [
    "print(test_y)"
   ]
  },
  {
   "cell_type": "code",
   "execution_count": null,
   "metadata": {
    "id": "o1S89E6AKG_F"
   },
   "outputs": [],
   "source": [
    "model = LogisticRegression()"
   ]
  },
  {
   "cell_type": "code",
   "execution_count": null,
   "metadata": {
    "colab": {
     "base_uri": "https://localhost:8080/"
    },
    "id": "RBLeOKGbKeqM",
    "outputId": "d11ddca3-189b-4e77-8da1-4b9af499739e"
   },
   "outputs": [
    {
     "name": "stdout",
     "output_type": "stream",
     "text": [
      "LogisticRegression()\n"
     ]
    }
   ],
   "source": [
    "print(model)"
   ]
  },
  {
   "cell_type": "code",
   "execution_count": null,
   "metadata": {
    "colab": {
     "base_uri": "https://localhost:8080/"
    },
    "id": "aPiJsbz2Kgtx",
    "outputId": "cb750df5-d13c-4da2-8f6d-04fd38767e0d"
   },
   "outputs": [
    {
     "name": "stderr",
     "output_type": "stream",
     "text": [
      "/usr/local/lib/python3.7/dist-packages/sklearn/linear_model/_logistic.py:818: ConvergenceWarning: lbfgs failed to converge (status=1):\n",
      "STOP: TOTAL NO. of ITERATIONS REACHED LIMIT.\n",
      "\n",
      "Increase the number of iterations (max_iter) or scale the data as shown in:\n",
      "    https://scikit-learn.org/stable/modules/preprocessing.html\n",
      "Please also refer to the documentation for alternative solver options:\n",
      "    https://scikit-learn.org/stable/modules/linear_model.html#logistic-regression\n",
      "  extra_warning_msg=_LOGISTIC_SOLVER_CONVERGENCE_MSG,\n"
     ]
    },
    {
     "data": {
      "text/plain": [
       "LogisticRegression()"
      ]
     },
     "execution_count": 35,
     "metadata": {},
     "output_type": "execute_result"
    }
   ],
   "source": [
    "model.fit(train_x,train_y)"
   ]
  },
  {
   "cell_type": "code",
   "execution_count": null,
   "metadata": {
    "colab": {
     "base_uri": "https://localhost:8080/"
    },
    "id": "LZlKOUsbKdQA",
    "outputId": "a7f08434-55c7-46a5-f45e-db2890884d77"
   },
   "outputs": [
    {
     "name": "stdout",
     "output_type": "stream",
     "text": [
      "LogisticRegression()\n"
     ]
    }
   ],
   "source": [
    "print(model)"
   ]
  },
  {
   "cell_type": "code",
   "execution_count": null,
   "metadata": {
    "colab": {
     "base_uri": "https://localhost:8080/"
    },
    "id": "UhwoBLJlKqA4",
    "outputId": "d1d29b70-28b0-46de-87db-b334147addd2"
   },
   "outputs": [
    {
     "name": "stdout",
     "output_type": "stream",
     "text": [
      "Coefficient of model : [[-0.03112606  0.00155629  0.93299841  0.08451959 -1.02556785  1.24541941\n",
      "  -1.25346925  1.05047794  0.97898932  0.61562405 -1.14084292 -0.78091604\n",
      "  -0.28356149 -0.4478207   0.16173065  0.6339807  -0.04705229  0.20461808\n",
      "  -0.45766539 -0.33677639 -0.16688521  0.07948039  0.28573972 -0.37326995]]\n"
     ]
    }
   ],
   "source": [
    "print('Coefficient of model :', model.coef_)"
   ]
  },
  {
   "cell_type": "code",
   "execution_count": null,
   "metadata": {
    "colab": {
     "base_uri": "https://localhost:8080/"
    },
    "id": "X7NbJLWVKbNt",
    "outputId": "66106e5f-4549-4453-9666-85d147453835"
   },
   "outputs": [
    {
     "name": "stdout",
     "output_type": "stream",
     "text": [
      "Intercept of model [0.07227482]\n"
     ]
    }
   ],
   "source": [
    "print('Intercept of model',model.intercept_)"
   ]
  },
  {
   "cell_type": "code",
   "execution_count": null,
   "metadata": {
    "colab": {
     "base_uri": "https://localhost:8080/"
    },
    "id": "Z_GjGgQ-KQtY",
    "outputId": "f711cfca-e211-4b3f-8be3-b0b265307b93"
   },
   "outputs": [
    {
     "name": "stdout",
     "output_type": "stream",
     "text": [
      "Target on train data [0 1 1 0 0 0 0 0 0 0 0 1 0 0 0 0 0 0 0 1 0 0 0 0 0 0 0 0 0 1 1 0 0 0 0 0 1\n",
      " 1 0 0 0 1 0 1 1 1 1 0 0 0 1 0 0 1 0 0 0 0 1 0 1 1 1 1 0 0 0 0 0 0 0 0 0 0\n",
      " 0 1 1 0 0 1 0 0 0 1 1 0 0 1 1 0 1 0 0 0 0 1 0 1 1 0 0 1 0 1 0 1 0 1 1 0 1\n",
      " 0 0 0 0 1 0 0 1 1 1 0 0 1 0 0 0 1 0 0 1 1 0 0 1 0 0 0 0 0 0 1 0 1 0 1 1 0\n",
      " 0 0 1 1 0 0 0 1 0 1 0 0 1 1 0 1 1 0 1 0 0 0 0 0 0 0 0 0 0 0 0 0 0 1 0 0 1\n",
      " 0 1 1 1 1 0 0 1 0 1 0 0 1 1 1 1 1 0 0 0 1 1 1 0 0 0 0 1 0 0 0 0 0 0 0 0 0\n",
      " 0 0 0 0 0 0 1 0 1 0 1 0 0 1 0 1 0 0 0 1 0 1 0 1 1 0 0 0 1 1 0 1 0 0 1 1 1\n",
      " 0 0 1 0 1 1 1 1 1 0 0 0 1 0 0 1 1 1 0 0 0 0 0 0 0 1 1 0 0 0 0 0 0 0 1 0 0\n",
      " 0 0 1 1 0 1 1 0 1 0 1 0 0 0 0 0 1 0 1 1 1 0 0 0 1 0 1 0 0 0 1 0 0 1 0 1 1\n",
      " 1 0 0 1 1 0 1 1 0 0 0 0 0 1 0 1 1 0 1 0 0 1 1 1 1 0 0 0 0 1 0 0 0 0 0 0 0\n",
      " 0 0 0 1 0 1 0 0 1 0 0 1 0 0 1 0 0 1 0 0 1 0 0 1 0 0 0 1 1 1 0 1 0 1 1 0 1\n",
      " 0 1 1 0 0 0 0 0 0 0 0 0 1 0 0 0 0 0 1 0 0 0 0 1 0 0 1 1 1 1 0 0 0 0 1 0 0\n",
      " 0 1 0 0 0 0 0 0 1 0 0 1 1 0 1 1 1 0 0 0 0 0 0 1 0 0 1 1 1 0 1 0 0 0 0 0 0\n",
      " 0 0 1 0 0 0 0 0 0 1 1 0 1 1 0 1 1 0 1 0 0 0 0 0 0 0 0 0 0 0 1 0 0 0 1 0 1\n",
      " 1 0 0 0 0 1 0 0 0 1 0 1 0 1 1 1 0 0 0 0 1 0 1 1 1 0 0 1 1 0 1 1 0 0 0 0 1\n",
      " 0 1 0 1 1 0 0 1 0 0 1 0 1 1 0 1 0 1 0 1 0 0 0 0 1 1 0 1 0 0 1 1 0 1 1 0 0\n",
      " 1 0 1 0 0 1 0 1 0 1 0 1 1 0 0 1 0 1 1 0 1 0 0 0 1 0 1 0 0 0 1 0 0 0 0 0 1\n",
      " 0 0 0 0 0 0 1 1 0 0 1 1 0 0 0 1 1 0 0 0 0 0 1 1 1 0 0 0 0 0 0 1 0 1 0 0 0\n",
      " 0 0 0 0 1 0 0 1 0 0 1 0 0 0 0 1 1 0 0 0 0 0 0 0 0 0 1 0 0 0 1 0 0 1 0 1 0\n",
      " 1 0 1 1 1 0 1 0 0]\n"
     ]
    }
   ],
   "source": [
    "predict_train = model.predict(train_x)\n",
    "print('Target on train data',predict_train) "
   ]
  },
  {
   "cell_type": "code",
   "execution_count": null,
   "metadata": {
    "colab": {
     "base_uri": "https://localhost:8080/"
    },
    "id": "j2OF3-oOKE1z",
    "outputId": "7b0fbde0-1eb8-4b2f-ca8f-4e40fd75fe4b"
   },
   "outputs": [
    {
     "name": "stdout",
     "output_type": "stream",
     "text": [
      "accuracy_score on train dataset :  0.8047752808988764\n"
     ]
    }
   ],
   "source": [
    "accuracy_train = accuracy_score(train_y,predict_train)\n",
    "print('accuracy_score on train dataset : ', accuracy_train)"
   ]
  },
  {
   "cell_type": "code",
   "execution_count": null,
   "metadata": {
    "colab": {
     "base_uri": "https://localhost:8080/"
    },
    "id": "Es5lSrQ1K57y",
    "outputId": "5cd8709d-f01d-4585-f6fe-cc30cf2e8736"
   },
   "outputs": [
    {
     "name": "stdout",
     "output_type": "stream",
     "text": [
      "Target on test data [0 0 0 1 1 0 0 0 0 0 0 1 1 0 0 0 0 0 1 0 0 0 1 0 0 0 0 1 0 1 1 0 1 0 1 0 1\n",
      " 0 0 0 0 0 0 0 0 0 0 0 1 0 0 0 0 0 1 1 0 1 1 0 0 1 1 1 0 0 0 0 0 0 0 0 0 0\n",
      " 1 0 0 0 1 0 0 0 0 1 1 0 1 1 0 1 0 0 0 0 1 1 1 0 1 0 0 0 0 0 1 1 0 1 1 1 1\n",
      " 0 1 0 0 0 0 1 1 1 1 0 1 1 0 1 1 0 0 1 1 0 0 1 1 1 0 1 1 0 1 0 0 0 0 0 0 0\n",
      " 0 0 0 0 1 0 0 1 0 0 0 0 0 1 0 0 0 0 0 0 1 0 1 1 0 1 0 0 0 0 1]\n"
     ]
    }
   ],
   "source": [
    "predict_test = model.predict(test_x)\n",
    "print('Target on test data',predict_test) "
   ]
  },
  {
   "cell_type": "code",
   "execution_count": null,
   "metadata": {
    "colab": {
     "base_uri": "https://localhost:8080/"
    },
    "id": "DHsW67oKK9Jg",
    "outputId": "92524c8c-2323-4442-d87e-71c9dd391f84"
   },
   "outputs": [
    {
     "name": "stdout",
     "output_type": "stream",
     "text": [
      "accuracy_score on test dataset :  0.8324022346368715\n"
     ]
    }
   ],
   "source": [
    "accuracy_test = accuracy_score(test_y,predict_test)\n",
    "print('accuracy_score on test dataset : ', accuracy_test)"
   ]
  },
  {
   "cell_type": "markdown",
   "metadata": {
    "id": "v4KdGVa7LMym"
   },
   "source": [
    "3. Decision Tree"
   ]
  },
  {
   "cell_type": "code",
   "execution_count": null,
   "metadata": {
    "id": "m375R5WRLIRo"
   },
   "outputs": [],
   "source": [
    "import pandas as pd\n",
    "from sklearn.tree import DecisionTreeClassifier  #Main for DecisionTreeClassifier()\n",
    "from sklearn.metrics import accuracy_score"
   ]
  },
  {
   "cell_type": "code",
   "execution_count": null,
   "metadata": {
    "id": "0_BFqgMYLAMJ"
   },
   "outputs": [],
   "source": [
    "train_data = pd.read_csv('/content/sample_data/train-data.csv')\n",
    "test_data = pd.read_csv('/content/sample_data/test-data.csv')"
   ]
  },
  {
   "cell_type": "code",
   "execution_count": null,
   "metadata": {
    "colab": {
     "base_uri": "https://localhost:8080/"
    },
    "id": "FtguSqTaMxW8",
    "outputId": "1ec8bf25-3ca4-4fcc-c286-a152d23ce7ff"
   },
   "outputs": [
    {
     "name": "stdout",
     "output_type": "stream",
     "text": [
      "     Survived        Age      Fare  ...  Embarked_C  Embarked_Q  Embarked_S\n",
      "0           0  28.500000    7.2292  ...           1           0           0\n",
      "1           1  27.000000   10.5000  ...           0           0           1\n",
      "2           1  29.699118   16.1000  ...           0           0           1\n",
      "3           0  29.699118    0.0000  ...           0           0           1\n",
      "4           0  17.000000    8.6625  ...           0           0           1\n",
      "..        ...        ...       ...  ...         ...         ...         ...\n",
      "707         1  24.000000   69.3000  ...           1           0           0\n",
      "708         0  22.000000    7.2500  ...           0           0           1\n",
      "709         0  29.699118  221.7792  ...           0           0           1\n",
      "710         1  12.000000   11.2417  ...           1           0           0\n",
      "711         0  36.000000   10.5000  ...           0           0           1\n",
      "\n",
      "[712 rows x 25 columns]\n"
     ]
    }
   ],
   "source": [
    "print(train_data)"
   ]
  },
  {
   "cell_type": "code",
   "execution_count": null,
   "metadata": {
    "colab": {
     "base_uri": "https://localhost:8080/"
    },
    "id": "86vEoY5gM3E5",
    "outputId": "74f3063f-1938-4966-e0cf-76ec709c3576"
   },
   "outputs": [
    {
     "name": "stdout",
     "output_type": "stream",
     "text": [
      "     Survived        Age      Fare  ...  Embarked_C  Embarked_Q  Embarked_S\n",
      "0           0  35.000000    7.1250  ...           0           0           1\n",
      "1           0  20.000000    7.0500  ...           0           0           1\n",
      "2           0  26.000000    7.8958  ...           0           0           1\n",
      "3           1  58.000000  146.5208  ...           1           0           0\n",
      "4           1  35.000000   83.4750  ...           0           0           1\n",
      "..        ...        ...       ...  ...         ...         ...         ...\n",
      "174         0  65.000000   26.5500  ...           0           0           1\n",
      "175         0  19.000000   13.0000  ...           0           0           1\n",
      "176         0  44.000000    8.0500  ...           0           0           1\n",
      "177         0  59.000000    7.2500  ...           0           0           1\n",
      "178         0  29.699118   39.6000  ...           1           0           0\n",
      "\n",
      "[179 rows x 25 columns]\n"
     ]
    }
   ],
   "source": [
    "print(test_data)"
   ]
  },
  {
   "cell_type": "code",
   "execution_count": null,
   "metadata": {
    "colab": {
     "base_uri": "https://localhost:8080/"
    },
    "id": "bQnVi6WENqv4",
    "outputId": "4f1f8f76-26d0-4eed-ed1f-6b46dbd84f67"
   },
   "outputs": [
    {
     "name": "stdout",
     "output_type": "stream",
     "text": [
      "Shape of training data : (712, 25)\n",
      "Shape of testing data : (179, 25)\n"
     ]
    }
   ],
   "source": [
    "print('Shape of training data :',train_data.shape)\n",
    "print('Shape of testing data :',test_data.shape)"
   ]
  },
  {
   "cell_type": "code",
   "execution_count": null,
   "metadata": {
    "id": "I9NXL9mjM8VM"
   },
   "outputs": [],
   "source": [
    "train_x = train_data.drop(columns=['Survived'],axis=1)\n",
    "train_y = train_data['Survived']"
   ]
  },
  {
   "cell_type": "code",
   "execution_count": null,
   "metadata": {
    "colab": {
     "base_uri": "https://localhost:8080/"
    },
    "id": "u3bORxSfNIe_",
    "outputId": "29c07ac1-e07a-490a-e2ca-09ccc3f3878c"
   },
   "outputs": [
    {
     "name": "stdout",
     "output_type": "stream",
     "text": [
      "           Age      Fare  Pclass_1  ...  Embarked_C  Embarked_Q  Embarked_S\n",
      "0    28.500000    7.2292         0  ...           1           0           0\n",
      "1    27.000000   10.5000         0  ...           0           0           1\n",
      "2    29.699118   16.1000         0  ...           0           0           1\n",
      "3    29.699118    0.0000         1  ...           0           0           1\n",
      "4    17.000000    8.6625         0  ...           0           0           1\n",
      "..         ...       ...       ...  ...         ...         ...         ...\n",
      "707  24.000000   69.3000         1  ...           1           0           0\n",
      "708  22.000000    7.2500         0  ...           0           0           1\n",
      "709  29.699118  221.7792         1  ...           0           0           1\n",
      "710  12.000000   11.2417         0  ...           1           0           0\n",
      "711  36.000000   10.5000         0  ...           0           0           1\n",
      "\n",
      "[712 rows x 24 columns]\n"
     ]
    }
   ],
   "source": [
    "print(train_x)"
   ]
  },
  {
   "cell_type": "code",
   "execution_count": null,
   "metadata": {
    "colab": {
     "base_uri": "https://localhost:8080/"
    },
    "id": "aSRlFknONMbE",
    "outputId": "1546962a-cb09-4a5a-fe28-8c0f8dad63a6"
   },
   "outputs": [
    {
     "name": "stdout",
     "output_type": "stream",
     "text": [
      "0      0\n",
      "1      1\n",
      "2      1\n",
      "3      0\n",
      "4      0\n",
      "      ..\n",
      "707    1\n",
      "708    0\n",
      "709    0\n",
      "710    1\n",
      "711    0\n",
      "Name: Survived, Length: 712, dtype: int64\n"
     ]
    }
   ],
   "source": [
    "print(train_y)"
   ]
  },
  {
   "cell_type": "code",
   "execution_count": null,
   "metadata": {
    "id": "jTVfvGtLNQmr"
   },
   "outputs": [],
   "source": [
    "test_x = test_data.drop(columns=['Survived'],axis=1)\n",
    "test_y = test_data['Survived']"
   ]
  },
  {
   "cell_type": "code",
   "execution_count": null,
   "metadata": {
    "colab": {
     "base_uri": "https://localhost:8080/"
    },
    "id": "JYE3kIM2NZYF",
    "outputId": "e6efa646-0e88-45cb-c071-b18a54fc567d"
   },
   "outputs": [
    {
     "name": "stdout",
     "output_type": "stream",
     "text": [
      "           Age      Fare  Pclass_1  ...  Embarked_C  Embarked_Q  Embarked_S\n",
      "0    35.000000    7.1250         0  ...           0           0           1\n",
      "1    20.000000    7.0500         0  ...           0           0           1\n",
      "2    26.000000    7.8958         0  ...           0           0           1\n",
      "3    58.000000  146.5208         1  ...           1           0           0\n",
      "4    35.000000   83.4750         1  ...           0           0           1\n",
      "..         ...       ...       ...  ...         ...         ...         ...\n",
      "174  65.000000   26.5500         1  ...           0           0           1\n",
      "175  19.000000   13.0000         0  ...           0           0           1\n",
      "176  44.000000    8.0500         0  ...           0           0           1\n",
      "177  59.000000    7.2500         0  ...           0           0           1\n",
      "178  29.699118   39.6000         1  ...           1           0           0\n",
      "\n",
      "[179 rows x 24 columns]\n"
     ]
    }
   ],
   "source": [
    "print(test_x)"
   ]
  },
  {
   "cell_type": "code",
   "execution_count": null,
   "metadata": {
    "colab": {
     "base_uri": "https://localhost:8080/"
    },
    "id": "bKgSkDz2NcDk",
    "outputId": "6fd214c1-9d94-4981-c3f3-db548f6dbffe"
   },
   "outputs": [
    {
     "name": "stdout",
     "output_type": "stream",
     "text": [
      "0      0\n",
      "1      0\n",
      "2      0\n",
      "3      1\n",
      "4      1\n",
      "      ..\n",
      "174    0\n",
      "175    0\n",
      "176    0\n",
      "177    0\n",
      "178    0\n",
      "Name: Survived, Length: 179, dtype: int64\n"
     ]
    }
   ],
   "source": [
    "print(test_y)"
   ]
  },
  {
   "cell_type": "code",
   "execution_count": null,
   "metadata": {
    "id": "MqUx8gTANeXs"
   },
   "outputs": [],
   "source": [
    "model = DecisionTreeClassifier()"
   ]
  },
  {
   "cell_type": "code",
   "execution_count": null,
   "metadata": {
    "colab": {
     "base_uri": "https://localhost:8080/"
    },
    "id": "DpWu0yl_OBUs",
    "outputId": "c379e671-95de-44e9-d880-42c231262776"
   },
   "outputs": [
    {
     "name": "stdout",
     "output_type": "stream",
     "text": [
      "DecisionTreeClassifier()\n"
     ]
    }
   ],
   "source": [
    "print(model)"
   ]
  },
  {
   "cell_type": "code",
   "execution_count": null,
   "metadata": {
    "colab": {
     "base_uri": "https://localhost:8080/"
    },
    "id": "m7MO2ivTN6g9",
    "outputId": "2046fb71-582b-4ecc-a034-2f0d3410a375"
   },
   "outputs": [
    {
     "data": {
      "text/plain": [
       "DecisionTreeClassifier()"
      ]
     },
     "execution_count": 61,
     "metadata": {},
     "output_type": "execute_result"
    }
   ],
   "source": [
    "model.fit(train_x,train_y)"
   ]
  },
  {
   "cell_type": "code",
   "execution_count": null,
   "metadata": {
    "colab": {
     "base_uri": "https://localhost:8080/"
    },
    "id": "EGk3KABbOlpQ",
    "outputId": "047490b6-eae2-45b1-8401-2087b82397f2"
   },
   "outputs": [
    {
     "name": "stdout",
     "output_type": "stream",
     "text": [
      "Depth of the Decision Tree : 19\n"
     ]
    }
   ],
   "source": [
    "print('Depth of the Decision Tree :', model.get_depth())"
   ]
  },
  {
   "cell_type": "code",
   "execution_count": null,
   "metadata": {
    "colab": {
     "base_uri": "https://localhost:8080/"
    },
    "id": "DoktxoEVN4Ge",
    "outputId": "fc9c9cf6-8a94-48c5-e136-d5787a0525f1"
   },
   "outputs": [
    {
     "name": "stdout",
     "output_type": "stream",
     "text": [
      "Target on train data [0 1 1 0 0 0 0 0 0 0 0 1 1 1 0 0 1 0 0 1 0 0 1 0 0 0 0 0 0 1 1 0 0 1 0 0 0\n",
      " 1 0 0 0 1 0 1 0 1 0 0 1 0 1 0 0 0 0 0 0 0 1 0 1 1 1 1 0 1 0 0 1 0 0 0 0 0\n",
      " 0 1 1 0 0 1 0 0 1 1 1 0 0 0 1 0 1 0 0 1 0 0 0 1 1 0 0 1 0 1 1 1 0 0 0 0 0\n",
      " 0 0 0 0 1 0 0 1 0 1 0 1 1 0 0 0 1 0 0 1 0 0 0 1 0 1 0 1 0 0 0 0 1 0 1 1 0\n",
      " 0 0 0 1 1 0 0 1 0 0 1 0 1 1 0 1 1 0 1 1 0 0 0 0 0 0 0 1 0 0 0 0 0 1 0 0 1\n",
      " 0 1 1 1 1 0 0 1 0 1 0 0 1 1 1 1 0 0 0 1 1 1 1 0 0 0 0 1 0 0 0 0 0 0 0 0 0\n",
      " 0 0 0 0 1 0 0 0 1 0 1 0 0 0 0 1 0 0 0 1 0 1 0 1 0 0 0 1 1 1 0 1 0 0 0 1 0\n",
      " 0 1 1 0 1 1 1 0 1 1 0 0 1 0 1 1 1 1 1 0 0 1 0 0 0 1 1 0 0 1 1 0 0 0 0 0 0\n",
      " 0 0 1 1 0 1 1 0 1 0 1 1 1 0 0 0 1 0 1 1 0 0 0 0 1 0 1 1 0 0 0 0 0 0 0 0 1\n",
      " 1 0 0 1 1 0 1 0 0 0 1 0 1 0 0 0 1 0 1 0 0 1 0 1 0 0 0 0 0 1 0 0 0 1 0 0 0\n",
      " 0 0 0 0 0 0 1 0 0 1 0 1 0 0 1 0 0 1 1 0 0 0 0 1 0 0 1 1 1 1 0 1 1 0 1 1 1\n",
      " 0 1 1 1 0 0 0 0 0 0 0 0 1 1 1 1 0 0 1 0 0 1 0 0 1 0 1 0 1 1 1 1 0 0 1 0 0\n",
      " 0 1 0 0 0 0 0 1 1 0 0 1 1 0 1 0 1 0 1 0 1 0 0 0 0 0 0 0 1 1 1 0 0 0 0 0 0\n",
      " 0 0 1 1 1 0 0 1 0 1 1 0 1 0 0 0 1 1 1 0 1 0 0 0 0 0 0 0 0 0 0 0 0 0 1 0 1\n",
      " 1 0 0 0 0 1 0 0 0 1 0 1 0 1 1 1 0 0 0 0 0 0 1 1 1 0 0 1 1 1 0 1 0 1 0 0 1\n",
      " 0 0 0 1 1 0 0 1 0 0 1 0 1 0 0 1 0 0 0 1 0 0 1 1 0 1 0 0 0 0 1 1 0 1 1 1 0\n",
      " 1 0 1 0 1 1 0 1 0 1 0 0 1 0 0 1 0 1 1 0 1 0 0 0 1 0 1 0 0 0 0 0 0 0 0 0 1\n",
      " 0 0 0 1 0 1 1 1 1 0 1 1 0 0 1 0 1 0 0 1 0 0 1 1 1 1 0 1 0 0 0 1 0 1 0 1 0\n",
      " 1 0 0 0 1 0 0 1 0 0 1 0 1 0 0 1 1 0 0 0 0 0 0 0 0 0 1 0 0 0 0 0 0 1 0 1 0\n",
      " 1 0 1 1 1 0 0 1 0]\n"
     ]
    }
   ],
   "source": [
    "predict_train = model.predict(train_x)\n",
    "print('Target on train data',predict_train) "
   ]
  },
  {
   "cell_type": "code",
   "execution_count": null,
   "metadata": {
    "colab": {
     "base_uri": "https://localhost:8080/"
    },
    "id": "136sQgVvN18R",
    "outputId": "14f62450-9edd-4759-c9c4-032523febc0e"
   },
   "outputs": [
    {
     "name": "stdout",
     "output_type": "stream",
     "text": [
      "accuracy_score on train dataset :  0.9859550561797753\n"
     ]
    }
   ],
   "source": [
    "accuracy_train = accuracy_score(train_y,predict_train)\n",
    "print('accuracy_score on train dataset : ', accuracy_train)"
   ]
  },
  {
   "cell_type": "code",
   "execution_count": null,
   "metadata": {
    "colab": {
     "base_uri": "https://localhost:8080/"
    },
    "id": "EuWUfJqSNzyr",
    "outputId": "b7a871d4-d31e-4661-b238-28ab5fa1920a"
   },
   "outputs": [
    {
     "name": "stdout",
     "output_type": "stream",
     "text": [
      "Target on test data [0 0 0 1 1 0 0 0 0 0 0 1 1 0 1 0 0 0 0 0 0 1 1 1 1 0 0 1 0 1 1 0 1 1 1 1 0\n",
      " 1 0 0 0 1 0 0 0 1 1 0 1 1 1 0 0 1 1 1 0 1 1 0 0 1 1 1 0 0 0 0 0 1 0 0 0 0\n",
      " 1 0 0 0 0 0 0 0 0 1 0 0 1 1 0 0 0 0 0 0 1 1 0 0 1 0 1 0 1 1 1 1 0 1 1 0 0\n",
      " 0 1 0 0 0 1 1 1 1 1 0 1 1 1 1 1 0 0 1 1 0 0 0 1 0 0 0 1 0 1 0 1 1 0 0 0 0\n",
      " 0 0 0 1 1 0 0 1 0 0 0 0 0 1 0 0 0 1 1 0 1 0 1 1 0 1 0 0 0 0 0]\n"
     ]
    }
   ],
   "source": [
    "predict_test = model.predict(test_x)\n",
    "print('Target on test data',predict_test) "
   ]
  },
  {
   "cell_type": "code",
   "execution_count": null,
   "metadata": {
    "colab": {
     "base_uri": "https://localhost:8080/"
    },
    "id": "DoGS6OeBOwSO",
    "outputId": "55704853-1fb3-4c39-907e-4704edf7d787"
   },
   "outputs": [
    {
     "name": "stdout",
     "output_type": "stream",
     "text": [
      "Target on test data [0 0 0 1 1 0 0 0 0 0 0 1 1 0 1 0 0 0 0 0 0 1 1 1 1 0 0 1 0 1 1 0 1 1 1 1 0\n",
      " 1 0 0 0 1 0 0 0 1 1 0 1 1 1 0 0 1 1 1 0 1 1 0 0 1 1 1 0 0 0 0 0 1 0 0 0 0\n",
      " 1 0 0 0 0 0 0 0 0 1 0 0 1 1 0 0 0 0 0 0 1 1 0 0 1 0 1 0 1 1 1 1 0 1 1 0 0\n",
      " 0 1 0 0 0 1 1 1 1 1 0 1 1 1 1 1 0 0 1 1 0 0 0 1 0 0 0 1 0 1 0 1 1 0 0 0 0\n",
      " 0 0 0 1 1 0 0 1 0 0 0 0 0 1 0 0 0 1 1 0 1 0 1 1 0 1 0 0 0 0 0]\n"
     ]
    }
   ],
   "source": [
    "predict_test = model.predict(test_x)\n",
    "print('Target on test data',predict_test) "
   ]
  },
  {
   "cell_type": "code",
   "execution_count": null,
   "metadata": {
    "colab": {
     "base_uri": "https://localhost:8080/"
    },
    "id": "Ixo_CG5JOy8s",
    "outputId": "d5ac42d4-0381-4565-9e8f-e1c8a4f733b0"
   },
   "outputs": [
    {
     "name": "stdout",
     "output_type": "stream",
     "text": [
      "accuracy_score on test dataset :  0.7653631284916201\n"
     ]
    }
   ],
   "source": [
    "accuracy_test = accuracy_score(test_y,predict_test)\n",
    "print('accuracy_score on test dataset : ', accuracy_test)"
   ]
  },
  {
   "cell_type": "markdown",
   "metadata": {
    "id": "Z8AwxcrDO8bx"
   },
   "source": [
    "4. SVM (Support Vector Machine)"
   ]
  },
  {
   "cell_type": "code",
   "execution_count": null,
   "metadata": {
    "id": "HKkX8unyPMSE"
   },
   "outputs": [],
   "source": [
    "import pandas as pd\n",
    "from sklearn.svm import SVC   #Main\n",
    "from sklearn.metrics import accuracy_score"
   ]
  },
  {
   "cell_type": "code",
   "execution_count": null,
   "metadata": {
    "id": "O2XwzlmVPSdu"
   },
   "outputs": [],
   "source": [
    "train_data = pd.read_csv('/content/sample_data/train-data.csv')\n",
    "test_data = pd.read_csv('/content/sample_data/test-data.csv')"
   ]
  },
  {
   "cell_type": "code",
   "execution_count": null,
   "metadata": {
    "colab": {
     "base_uri": "https://localhost:8080/"
    },
    "id": "9VZCN9EePSiM",
    "outputId": "5a1dc753-6dbc-4798-b8a9-3ab8d23a1b50"
   },
   "outputs": [
    {
     "name": "stdout",
     "output_type": "stream",
     "text": [
      "Shape of training data : (712, 25)\n",
      "Shape of testing data : (179, 25)\n"
     ]
    }
   ],
   "source": [
    "print('Shape of training data :',train_data.shape)\n",
    "print('Shape of testing data :',test_data.shape)"
   ]
  },
  {
   "cell_type": "code",
   "execution_count": null,
   "metadata": {
    "id": "FUX5u1GbPdGL"
   },
   "outputs": [],
   "source": [
    "train_x = train_data.drop(columns=['Survived'],axis=1)\n",
    "train_y = train_data['Survived']"
   ]
  },
  {
   "cell_type": "code",
   "execution_count": null,
   "metadata": {
    "id": "p7LHdHd-PgBp"
   },
   "outputs": [],
   "source": [
    "test_x = test_data.drop(columns=['Survived'],axis=1)\n",
    "test_y = test_data['Survived']\n"
   ]
  },
  {
   "cell_type": "code",
   "execution_count": null,
   "metadata": {
    "id": "pRW7dPAMPh6j"
   },
   "outputs": [],
   "source": [
    "model = SVC()"
   ]
  },
  {
   "cell_type": "code",
   "execution_count": null,
   "metadata": {
    "colab": {
     "base_uri": "https://localhost:8080/"
    },
    "id": "acrXBdm4Pjw0",
    "outputId": "d3e6698a-3c46-4115-c677-ea8acf7bfa8e"
   },
   "outputs": [
    {
     "data": {
      "text/plain": [
       "SVC()"
      ]
     },
     "execution_count": 75,
     "metadata": {},
     "output_type": "execute_result"
    }
   ],
   "source": [
    "model.fit(train_x,train_y)"
   ]
  },
  {
   "cell_type": "code",
   "execution_count": null,
   "metadata": {
    "colab": {
     "base_uri": "https://localhost:8080/"
    },
    "id": "YzdhISzhPmWy",
    "outputId": "d5d15d18-0881-4329-9d28-0cd7fd6a6002"
   },
   "outputs": [
    {
     "name": "stdout",
     "output_type": "stream",
     "text": [
      "Target on train data [0 0 0 0 0 0 0 0 0 0 0 0 0 0 0 0 0 0 0 0 0 0 0 0 0 0 0 0 0 0 0 0 0 0 0 0 0\n",
      " 0 0 0 0 0 0 1 0 0 0 0 0 0 1 0 0 0 0 0 0 0 0 0 0 1 1 0 0 0 0 0 0 0 0 0 1 0\n",
      " 0 1 0 0 0 0 0 0 0 0 1 1 0 0 0 0 1 0 0 0 0 1 0 0 0 0 0 1 0 0 0 0 0 0 0 1 0\n",
      " 0 0 0 0 0 0 1 0 0 0 0 0 0 0 0 0 1 0 0 0 1 0 0 1 0 0 1 0 0 0 0 0 0 0 1 1 0\n",
      " 0 0 0 1 0 0 1 0 0 0 1 0 0 0 0 1 1 0 0 0 0 0 0 0 0 0 1 0 0 0 0 0 0 0 0 0 0\n",
      " 0 0 0 1 0 0 0 1 0 1 0 0 0 0 0 0 0 0 0 1 0 1 0 0 0 0 0 0 0 0 0 0 0 0 0 0 0\n",
      " 0 0 1 0 0 0 1 0 1 0 0 0 0 0 0 0 0 0 0 0 0 0 0 0 1 1 0 0 1 0 0 0 0 0 0 0 0\n",
      " 1 0 0 1 0 0 1 1 0 0 0 0 0 0 0 0 1 1 0 0 0 0 0 0 0 0 0 0 1 0 1 0 0 0 1 0 0\n",
      " 0 0 0 0 0 0 0 0 0 0 0 0 0 0 0 0 0 0 1 1 0 0 0 0 1 0 1 0 0 0 0 0 0 0 0 0 1\n",
      " 0 0 0 0 0 0 1 0 0 0 0 0 0 0 0 0 0 0 0 0 0 0 0 0 0 0 0 0 0 0 0 0 0 0 0 0 0\n",
      " 0 0 0 1 0 0 0 0 0 0 0 0 0 0 0 0 0 1 0 0 0 0 0 1 0 0 0 0 0 0 0 1 0 1 1 0 0\n",
      " 0 1 0 0 0 0 0 0 0 0 0 0 0 0 0 0 0 0 1 0 0 0 0 0 0 0 0 1 0 1 0 0 0 0 1 0 0\n",
      " 0 0 0 0 0 0 0 0 0 0 0 0 0 0 0 0 1 0 0 0 0 0 0 0 0 0 0 0 0 1 0 0 0 0 0 0 1\n",
      " 0 0 0 0 0 0 0 0 0 1 1 1 0 0 0 0 0 0 0 0 0 0 0 0 0 0 0 0 0 0 0 0 0 0 1 0 0\n",
      " 0 0 0 1 0 0 0 0 0 0 0 1 0 0 1 1 0 0 0 1 0 0 0 1 0 0 0 0 0 0 0 1 0 0 0 0 1\n",
      " 0 1 0 0 0 0 1 0 0 0 0 0 0 0 0 1 1 0 0 0 0 0 0 0 1 1 0 0 0 1 1 0 0 1 0 0 0\n",
      " 0 0 0 0 0 0 0 0 0 0 0 1 0 0 0 0 0 0 1 0 0 1 0 0 0 0 1 0 0 0 0 0 1 0 0 0 1\n",
      " 0 0 0 0 0 1 0 0 0 0 0 0 0 0 0 0 1 0 0 0 0 0 0 1 0 0 0 0 0 0 0 0 0 0 0 0 0\n",
      " 0 0 0 0 0 0 0 0 0 0 0 0 1 0 0 0 1 0 0 0 0 0 0 1 0 0 0 0 0 0 0 0 0 1 0 0 0\n",
      " 1 0 0 0 1 0 1 0 0]\n"
     ]
    }
   ],
   "source": [
    "predict_train = model.predict(train_x)\n",
    "print('Target on train data',predict_train) "
   ]
  },
  {
   "cell_type": "code",
   "execution_count": null,
   "metadata": {
    "colab": {
     "base_uri": "https://localhost:8080/"
    },
    "id": "Vg03IlF7Po6z",
    "outputId": "de9cfbfa-04f5-4f21-ab75-ae41c44977e6"
   },
   "outputs": [
    {
     "name": "stdout",
     "output_type": "stream",
     "text": [
      "accuracy_score on train dataset :  0.651685393258427\n"
     ]
    }
   ],
   "source": [
    "accuracy_train = accuracy_score(train_y,predict_train)\n",
    "print('accuracy_score on train dataset : ', accuracy_train)"
   ]
  },
  {
   "cell_type": "code",
   "execution_count": null,
   "metadata": {
    "colab": {
     "base_uri": "https://localhost:8080/"
    },
    "id": "2vOpY7I6Pr6M",
    "outputId": "bb294908-5e02-494e-8a65-c1ffbfbfa79d"
   },
   "outputs": [
    {
     "name": "stdout",
     "output_type": "stream",
     "text": [
      "Target on test data [0 0 0 1 1 0 0 0 0 0 0 0 0 0 0 0 0 0 0 0 0 0 0 0 0 0 0 1 0 1 0 0 0 0 0 0 0\n",
      " 1 0 0 0 0 0 0 0 0 0 0 0 1 0 0 0 0 0 1 0 0 1 0 0 1 0 0 0 0 0 0 0 0 0 0 0 0\n",
      " 0 0 0 0 0 0 0 0 1 1 0 0 1 0 0 0 0 0 0 0 0 0 0 0 0 0 0 0 0 0 0 1 0 1 0 0 0\n",
      " 0 1 0 0 1 0 0 0 1 1 0 1 0 0 0 1 0 0 0 0 0 0 1 0 0 0 0 1 0 0 0 0 0 0 0 0 0\n",
      " 0 0 0 0 1 0 0 0 0 0 0 0 0 0 0 0 0 0 0 0 0 0 0 0 0 0 0 0 0 0 0]\n"
     ]
    }
   ],
   "source": [
    "predict_test = model.predict(test_x)\n",
    "print('Target on test data',predict_test)"
   ]
  },
  {
   "cell_type": "code",
   "execution_count": null,
   "metadata": {
    "colab": {
     "base_uri": "https://localhost:8080/"
    },
    "id": "UgPnqAj7Ptl7",
    "outputId": "bed9ebae-17db-4818-f746-6622c408f071"
   },
   "outputs": [
    {
     "name": "stdout",
     "output_type": "stream",
     "text": [
      "accuracy_score on test dataset :  0.7262569832402235\n"
     ]
    }
   ],
   "source": [
    "accuracy_test = accuracy_score(test_y,predict_test)\n",
    "print('accuracy_score on test dataset : ', accuracy_test)"
   ]
  },
  {
   "cell_type": "markdown",
   "metadata": {
    "id": "IfEySuZlQKla"
   },
   "source": [
    "##5. Naive Bayes"
   ]
  },
  {
   "cell_type": "code",
   "execution_count": null,
   "metadata": {
    "id": "3oJYRgoXPvhS"
   },
   "outputs": [],
   "source": [
    "import pandas as pd\n",
    "from sklearn.naive_bayes import GaussianNB #Main\n",
    "from sklearn.metrics import accuracy_score"
   ]
  },
  {
   "cell_type": "code",
   "execution_count": null,
   "metadata": {
    "id": "WNGaJgP4RBC-"
   },
   "outputs": [],
   "source": [
    "train_data = pd.read_csv('/content/sample_data/train-data.csv')\n",
    "test_data = pd.read_csv('/content/sample_data/test-data.csv')"
   ]
  },
  {
   "cell_type": "code",
   "execution_count": null,
   "metadata": {
    "colab": {
     "base_uri": "https://localhost:8080/"
    },
    "id": "AIky0FCMRGdF",
    "outputId": "84433363-fc17-473c-c427-074eab71dc17"
   },
   "outputs": [
    {
     "name": "stdout",
     "output_type": "stream",
     "text": [
      "Shape of training data : (712, 25)\n",
      "Shape of testing data : (179, 25)\n"
     ]
    }
   ],
   "source": [
    "print('Shape of training data :',train_data.shape)\n",
    "print('Shape of testing data :',test_data.shape)"
   ]
  },
  {
   "cell_type": "code",
   "execution_count": null,
   "metadata": {
    "id": "CZkUG2AjRIKW"
   },
   "outputs": [],
   "source": [
    "train_x = train_data.drop(columns=['Survived'],axis=1)\n",
    "train_y = train_data['Survived']"
   ]
  },
  {
   "cell_type": "code",
   "execution_count": null,
   "metadata": {
    "id": "HsfTVzGmRKA9"
   },
   "outputs": [],
   "source": [
    "test_x = test_data.drop(columns=['Survived'],axis=1)\n",
    "test_y = test_data['Survived']\n"
   ]
  },
  {
   "cell_type": "code",
   "execution_count": null,
   "metadata": {
    "id": "cMVPKvaPRLvH"
   },
   "outputs": [],
   "source": [
    "model = GaussianNB()"
   ]
  },
  {
   "cell_type": "code",
   "execution_count": null,
   "metadata": {
    "colab": {
     "base_uri": "https://localhost:8080/"
    },
    "id": "1Ks_woLERNpA",
    "outputId": "2af0a6ea-bd00-42c6-ba56-f208d5d7f7de"
   },
   "outputs": [
    {
     "data": {
      "text/plain": [
       "GaussianNB()"
      ]
     },
     "execution_count": 87,
     "metadata": {},
     "output_type": "execute_result"
    }
   ],
   "source": [
    "model.fit(train_x,train_y)"
   ]
  },
  {
   "cell_type": "code",
   "execution_count": null,
   "metadata": {
    "colab": {
     "base_uri": "https://localhost:8080/"
    },
    "id": "krSbwhlpRQPj",
    "outputId": "af93346d-6819-41d6-e4ce-221fd505481d"
   },
   "outputs": [
    {
     "name": "stdout",
     "output_type": "stream",
     "text": [
      "Target on train data [1 1 1 1 1 1 1 1 1 1 1 1 0 1 1 1 1 0 1 1 1 1 1 1 1 1 1 1 1 1 1 0 1 1 1 1 1\n",
      " 1 1 1 1 1 1 1 1 1 1 1 1 0 1 1 1 1 1 1 1 1 1 1 1 1 1 1 1 1 1 1 1 1 1 1 0 1\n",
      " 1 1 1 1 1 1 1 1 1 1 1 0 1 1 1 0 1 1 0 1 1 1 0 1 1 1 1 1 1 1 1 1 1 1 1 1 1\n",
      " 1 0 1 1 1 1 0 1 1 1 0 1 1 1 1 1 1 1 1 1 1 1 1 1 0 1 0 1 0 1 1 1 1 1 1 1 1\n",
      " 1 1 1 1 1 1 1 1 1 1 1 1 1 1 1 1 1 1 1 1 1 1 1 1 1 1 1 1 1 1 1 0 1 1 1 1 1\n",
      " 1 1 1 1 1 1 1 0 1 1 1 1 1 1 1 1 1 1 1 1 1 1 1 1 1 1 1 1 1 1 1 1 1 1 1 1 1\n",
      " 1 1 1 0 1 1 1 1 1 1 1 1 1 1 1 1 1 1 0 1 1 1 1 1 1 1 1 1 0 1 1 1 0 1 1 1 1\n",
      " 1 1 1 1 1 1 1 1 1 1 1 1 1 1 1 1 1 1 1 1 1 1 1 1 0 1 1 0 1 1 1 0 1 1 1 0 1\n",
      " 1 1 1 1 0 1 1 1 1 1 1 1 1 1 1 1 1 1 1 1 1 1 1 1 1 1 1 1 1 1 1 1 1 1 1 1 1\n",
      " 1 1 1 1 1 1 1 1 1 1 0 1 1 1 1 1 1 1 1 1 1 1 1 1 1 1 1 1 1 1 1 1 1 1 1 1 1\n",
      " 1 1 1 1 1 1 1 0 1 1 1 1 1 1 1 1 1 1 1 1 1 0 1 1 1 1 1 1 1 1 1 1 1 1 1 1 1\n",
      " 0 1 1 1 1 1 1 1 1 1 1 1 1 1 1 1 1 1 1 1 1 1 1 1 1 1 1 1 1 1 1 1 1 1 1 1 0\n",
      " 1 1 1 1 1 1 1 1 1 1 1 1 1 1 1 1 1 0 1 1 1 1 1 1 1 1 1 1 1 1 1 1 1 1 1 1 0\n",
      " 1 1 1 1 1 1 1 1 1 1 1 1 1 1 1 1 1 1 1 1 1 1 1 1 1 1 1 0 1 1 1 1 1 1 1 1 1\n",
      " 1 1 1 0 1 1 1 1 1 1 1 1 1 1 1 1 1 1 1 1 0 0 1 1 1 1 1 1 1 1 1 1 0 1 1 1 1\n",
      " 1 1 1 1 1 1 0 1 1 1 1 1 1 1 1 1 0 1 1 1 1 1 1 1 1 1 1 1 1 1 1 1 1 1 1 1 1\n",
      " 1 1 1 0 1 1 1 1 1 1 1 1 1 1 1 1 1 1 1 1 1 1 0 1 1 1 1 1 1 1 1 1 1 1 1 0 1\n",
      " 0 1 1 1 1 1 1 1 1 1 1 1 1 1 1 1 1 1 0 1 1 1 1 1 1 1 1 1 1 1 1 1 1 1 1 1 1\n",
      " 1 1 1 1 1 1 1 1 1 0 1 0 1 1 1 1 1 1 1 1 1 1 1 1 1 1 1 1 1 1 1 1 1 1 1 1 1\n",
      " 1 1 1 1 1 1 1 1 1]\n"
     ]
    }
   ],
   "source": [
    "predict_train = model.predict(train_x)\n",
    "print('Target on train data',predict_train) "
   ]
  },
  {
   "cell_type": "code",
   "execution_count": null,
   "metadata": {
    "colab": {
     "base_uri": "https://localhost:8080/"
    },
    "id": "cYXu5CSDRSX-",
    "outputId": "50cb379b-3ebc-4f74-ab6b-f57c99821e91"
   },
   "outputs": [
    {
     "name": "stdout",
     "output_type": "stream",
     "text": [
      "accuracy_score on train dataset :  0.44803370786516855\n"
     ]
    }
   ],
   "source": [
    "accuracy_train = accuracy_score(train_y,predict_train)\n",
    "print('accuracy_score on train dataset : ', accuracy_train)"
   ]
  },
  {
   "cell_type": "code",
   "execution_count": null,
   "metadata": {
    "colab": {
     "base_uri": "https://localhost:8080/"
    },
    "id": "0F1IwnU0RUq2",
    "outputId": "bf37d64f-b03e-4ee8-961a-bdc8d10e765f"
   },
   "outputs": [
    {
     "name": "stdout",
     "output_type": "stream",
     "text": [
      "Target on test data [1 1 1 1 1 1 1 1 1 1 1 1 1 1 1 1 0 0 1 1 1 1 1 1 1 1 1 1 1 1 1 1 1 1 1 1 1\n",
      " 0 1 1 1 1 1 0 1 1 1 1 1 1 1 1 1 1 1 1 0 1 1 1 1 1 1 1 1 1 1 1 1 0 1 1 1 1\n",
      " 1 1 1 0 1 1 1 1 1 1 1 1 1 1 1 1 1 1 1 1 1 1 1 1 1 1 1 1 1 1 1 1 1 1 1 1 1\n",
      " 1 1 1 1 1 1 1 1 1 1 0 1 1 0 1 1 1 1 1 1 1 1 1 1 1 1 1 1 1 1 1 1 1 1 1 1 1\n",
      " 1 1 1 1 1 1 1 1 1 1 1 1 1 1 1 1 1 1 1 1 1 1 1 1 1 1 1 1 1 1 1]\n"
     ]
    }
   ],
   "source": [
    "predict_test = model.predict(test_x)\n",
    "print('Target on test data',predict_test) "
   ]
  },
  {
   "cell_type": "code",
   "execution_count": null,
   "metadata": {
    "colab": {
     "base_uri": "https://localhost:8080/"
    },
    "id": "g97PGDouRWwB",
    "outputId": "9a4daef5-a300-4a9d-bf5a-8b893ca39a8c"
   },
   "outputs": [
    {
     "name": "stdout",
     "output_type": "stream",
     "text": [
      "accuracy_score on test dataset :  0.35195530726256985\n"
     ]
    }
   ],
   "source": [
    "accuracy_test = accuracy_score(test_y,predict_test)\n",
    "print('accuracy_score on test dataset : ', accuracy_test)"
   ]
  },
  {
   "cell_type": "markdown",
   "metadata": {
    "id": "OsexHfOXRdka"
   },
   "source": [
    "##6. kNN (k- Nearest Neighbors)"
   ]
  },
  {
   "cell_type": "code",
   "execution_count": null,
   "metadata": {
    "id": "5gCPS10iRZQ7"
   },
   "outputs": [],
   "source": [
    "import pandas as pd\n",
    "from sklearn.neighbors import KNeighborsClassifier #Main\n",
    "from sklearn.metrics import accuracy_score"
   ]
  },
  {
   "cell_type": "code",
   "execution_count": null,
   "metadata": {
    "id": "PNswfodJR2YT"
   },
   "outputs": [],
   "source": [
    "train_data = pd.read_csv('/content/sample_data/train-data.csv')\n",
    "test_data = pd.read_csv('/content/sample_data/test-data.csv')"
   ]
  },
  {
   "cell_type": "code",
   "execution_count": null,
   "metadata": {
    "colab": {
     "base_uri": "https://localhost:8080/"
    },
    "id": "ruwGYQHxR7Nd",
    "outputId": "7fcf7d7c-bb4a-4a2d-c406-edbfcfe0c997"
   },
   "outputs": [
    {
     "name": "stdout",
     "output_type": "stream",
     "text": [
      "Shape of training data : (712, 25)\n",
      "Shape of testing data : (179, 25)\n"
     ]
    }
   ],
   "source": [
    "print('Shape of training data :',train_data.shape)\n",
    "print('Shape of testing data :',test_data.shape)\n"
   ]
  },
  {
   "cell_type": "code",
   "execution_count": null,
   "metadata": {
    "id": "1O1VV0SiR9Js"
   },
   "outputs": [],
   "source": [
    "train_x = train_data.drop(columns=['Survived'],axis=1)\n",
    "train_y = train_data['Survived']"
   ]
  },
  {
   "cell_type": "code",
   "execution_count": null,
   "metadata": {
    "id": "OIdu4u5fR_8B"
   },
   "outputs": [],
   "source": [
    "test_x = test_data.drop(columns=['Survived'],axis=1)\n",
    "test_y = test_data['Survived']"
   ]
  },
  {
   "cell_type": "code",
   "execution_count": null,
   "metadata": {
    "id": "Yk--qvnxSVDG"
   },
   "outputs": [],
   "source": [
    "model = KNeighborsClassifier()  "
   ]
  },
  {
   "cell_type": "code",
   "execution_count": null,
   "metadata": {
    "colab": {
     "base_uri": "https://localhost:8080/"
    },
    "id": "6uJC_1cBSgH6",
    "outputId": "d0e0d6fa-4b14-4512-c500-594c7997ca94"
   },
   "outputs": [
    {
     "data": {
      "text/plain": [
       "KNeighborsClassifier()"
      ]
     },
     "execution_count": 99,
     "metadata": {},
     "output_type": "execute_result"
    }
   ],
   "source": [
    "model.fit(train_x,train_y)"
   ]
  },
  {
   "cell_type": "code",
   "execution_count": null,
   "metadata": {
    "colab": {
     "base_uri": "https://localhost:8080/"
    },
    "id": "-2RQV43vSiCf",
    "outputId": "c4f98d5a-f458-467f-b912-1fc902f6e5dd"
   },
   "outputs": [
    {
     "name": "stdout",
     "output_type": "stream",
     "text": [
      "\n",
      "The number of neighbors used to predict the target :  5\n"
     ]
    }
   ],
   "source": [
    "print('\\nThe number of neighbors used to predict the target : ',model.n_neighbors)"
   ]
  },
  {
   "cell_type": "code",
   "execution_count": null,
   "metadata": {
    "colab": {
     "base_uri": "https://localhost:8080/"
    },
    "id": "qFeO6O47SvxM",
    "outputId": "5bb514d5-6ccf-4f71-c0ac-f789ea439e24"
   },
   "outputs": [
    {
     "name": "stdout",
     "output_type": "stream",
     "text": [
      "\n",
      "Target on train data [0 1 1 0 0 0 0 0 0 0 0 1 0 1 0 0 0 0 0 0 0 0 1 0 0 0 0 0 0 1 1 0 1 0 0 0 0\n",
      " 1 0 0 0 0 0 1 1 1 0 0 1 0 0 0 0 0 0 0 0 0 1 0 1 1 1 1 0 1 0 1 0 0 0 0 0 0\n",
      " 0 1 1 0 0 0 0 0 1 0 1 0 0 0 1 1 1 0 1 0 0 0 0 0 1 0 0 1 0 1 1 1 0 1 0 1 0\n",
      " 0 1 1 0 1 0 0 1 0 0 0 0 1 0 0 1 1 0 0 1 0 0 0 1 1 0 1 0 0 0 1 0 0 0 1 0 0\n",
      " 0 0 0 1 1 0 0 1 0 0 1 0 1 0 0 1 1 0 1 1 0 0 0 0 0 0 0 0 0 0 0 0 0 1 0 0 1\n",
      " 0 0 1 1 1 0 0 1 0 1 0 0 0 1 1 1 0 0 0 1 1 1 1 0 0 0 0 1 0 0 0 0 0 0 0 0 0\n",
      " 0 0 1 0 0 0 1 0 1 0 0 0 0 1 0 1 0 0 0 0 0 1 0 0 1 0 0 0 1 1 0 1 0 0 0 0 0\n",
      " 1 1 1 1 1 0 1 1 1 1 0 0 0 0 0 1 1 1 1 0 0 0 0 0 0 1 1 0 0 0 1 0 0 0 1 0 0\n",
      " 0 0 0 0 0 1 1 0 0 0 1 0 0 0 0 0 1 1 1 1 0 0 0 0 1 0 1 0 0 0 1 1 0 1 0 0 1\n",
      " 1 0 0 1 0 0 1 0 0 0 0 0 1 0 0 0 1 0 0 0 0 1 1 1 1 0 0 0 0 1 0 0 0 1 0 1 0\n",
      " 0 0 0 1 0 0 1 0 0 1 0 1 0 0 1 0 0 1 0 0 1 1 1 1 0 0 1 1 0 1 0 1 0 1 1 1 1\n",
      " 0 1 1 1 0 0 0 0 0 0 1 0 1 0 0 1 0 0 1 1 1 0 0 0 1 0 1 0 0 1 0 0 0 0 1 0 0\n",
      " 0 1 0 0 0 0 0 0 1 0 0 1 0 0 1 0 1 0 0 0 0 0 0 0 0 0 0 0 1 1 1 0 0 0 0 1 0\n",
      " 0 0 0 1 1 0 0 0 0 1 1 0 0 0 1 0 1 1 1 0 0 0 0 0 0 0 0 0 0 0 1 0 0 0 1 1 1\n",
      " 1 0 0 0 0 1 0 0 0 1 1 0 0 0 1 1 1 0 0 0 0 0 1 1 0 0 0 0 1 1 1 1 0 1 0 0 0\n",
      " 0 1 1 1 1 0 0 1 0 0 0 0 0 0 0 1 0 0 0 1 0 0 0 0 1 1 0 0 0 1 1 1 0 1 1 1 0\n",
      " 1 0 0 0 0 1 0 1 0 1 0 1 1 0 0 1 0 1 1 0 1 0 0 0 1 0 1 1 0 0 0 0 1 0 0 0 1\n",
      " 0 0 0 1 0 1 0 1 0 0 1 1 0 0 0 0 1 0 0 0 0 0 0 1 1 1 0 1 0 0 0 1 0 1 0 0 0\n",
      " 1 1 0 0 0 0 0 1 0 0 1 0 1 0 0 1 1 0 0 0 1 0 1 0 0 1 1 0 0 0 1 0 0 1 0 1 0\n",
      " 1 0 1 1 1 0 0 1 0]\n"
     ]
    }
   ],
   "source": [
    "predict_train = model.predict(train_x)\n",
    "print('\\nTarget on train data',predict_train) "
   ]
  },
  {
   "cell_type": "code",
   "execution_count": null,
   "metadata": {
    "colab": {
     "base_uri": "https://localhost:8080/"
    },
    "id": "2QhSp5MGS9MU",
    "outputId": "fd5333df-77ff-4951-ac3e-8ebc963bf073"
   },
   "outputs": [
    {
     "name": "stdout",
     "output_type": "stream",
     "text": [
      "accuracy_score on train dataset :  0.8047752808988764\n"
     ]
    }
   ],
   "source": [
    "accuracy_train = accuracy_score(train_y,predict_train)\n",
    "print('accuracy_score on train dataset : ', accuracy_train)"
   ]
  },
  {
   "cell_type": "code",
   "execution_count": null,
   "metadata": {
    "colab": {
     "base_uri": "https://localhost:8080/"
    },
    "id": "SkKwXaeBTGNc",
    "outputId": "0f7b3fc7-fc8b-4304-f178-0d4e0c61691c"
   },
   "outputs": [
    {
     "name": "stdout",
     "output_type": "stream",
     "text": [
      "Target on test data [0 0 0 1 1 0 0 0 0 0 0 0 1 0 0 0 0 0 0 0 0 0 0 0 1 0 0 1 0 0 0 0 1 0 1 0 0\n",
      " 1 0 0 0 1 0 0 0 1 0 0 1 1 1 0 0 0 1 1 0 0 0 0 0 1 1 0 0 0 0 0 0 0 1 0 0 0\n",
      " 1 0 0 0 0 0 0 0 0 0 0 0 1 1 1 0 0 0 1 0 1 0 0 0 1 0 1 1 0 1 1 0 0 1 0 0 1\n",
      " 0 1 0 0 1 0 1 0 1 1 0 1 0 0 1 1 0 0 1 0 0 0 1 1 0 0 0 1 0 1 0 1 0 0 0 0 0\n",
      " 0 0 0 0 1 0 0 0 0 1 0 0 0 1 0 0 0 1 1 0 1 0 1 0 0 1 0 0 0 0 0]\n"
     ]
    }
   ],
   "source": [
    "predict_test = model.predict(test_x)\n",
    "print('Target on test data',predict_test) "
   ]
  },
  {
   "cell_type": "code",
   "execution_count": null,
   "metadata": {
    "colab": {
     "base_uri": "https://localhost:8080/"
    },
    "id": "QtcdcXypTJyl",
    "outputId": "2b31d4ed-f2f9-4ff8-c3c5-551a6f721d77"
   },
   "outputs": [
    {
     "name": "stdout",
     "output_type": "stream",
     "text": [
      "accuracy_score on test dataset :  0.7262569832402235\n"
     ]
    }
   ],
   "source": [
    "print('accuracy_score on test dataset : ', accuracy_test)"
   ]
  },
  {
   "cell_type": "markdown",
   "metadata": {
    "id": "mIMSMSFOTOr_"
   },
   "source": [
    "##7. K-Means"
   ]
  },
  {
   "cell_type": "code",
   "execution_count": null,
   "metadata": {
    "id": "A0ZbZrs3TlXf"
   },
   "outputs": [],
   "source": [
    "import pandas as pd\n",
    "from sklearn.cluster import KMeans"
   ]
  },
  {
   "cell_type": "code",
   "execution_count": null,
   "metadata": {
    "id": "jnhnDCr2TrNy"
   },
   "outputs": [],
   "source": [
    "train_data = pd.read_csv('/content/sample_data/train-data.csv')\n",
    "test_data = pd.read_csv('/content/sample_data/test-data.csv')"
   ]
  },
  {
   "cell_type": "code",
   "execution_count": null,
   "metadata": {
    "colab": {
     "base_uri": "https://localhost:8080/"
    },
    "id": "HdBy-UCiTwM9",
    "outputId": "6a954ca0-9d1f-45d9-e9e6-8d77aeb461c1"
   },
   "outputs": [
    {
     "name": "stdout",
     "output_type": "stream",
     "text": [
      "Shape of training data : (712, 25)\n",
      "Shape of testing data : (179, 25)\n"
     ]
    }
   ],
   "source": [
    "print('Shape of training data :',train_data.shape)\n",
    "print('Shape of testing data :',test_data.shape)"
   ]
  },
  {
   "cell_type": "code",
   "execution_count": null,
   "metadata": {
    "id": "azNSFoMvTzIk"
   },
   "outputs": [],
   "source": [
    "model = KMeans()  "
   ]
  },
  {
   "cell_type": "code",
   "execution_count": null,
   "metadata": {
    "colab": {
     "base_uri": "https://localhost:8080/"
    },
    "id": "fb7LhhVaT8JF",
    "outputId": "e650dde5-8002-44f1-c32d-35fb36090148"
   },
   "outputs": [
    {
     "data": {
      "text/plain": [
       "KMeans()"
      ]
     },
     "execution_count": 109,
     "metadata": {},
     "output_type": "execute_result"
    }
   ],
   "source": [
    "model.fit(train_data)"
   ]
  },
  {
   "cell_type": "code",
   "execution_count": null,
   "metadata": {
    "colab": {
     "base_uri": "https://localhost:8080/"
    },
    "id": "-KP6mtbKUHn3",
    "outputId": "8020bb31-d20c-403d-caef-06c222cf8d58"
   },
   "outputs": [
    {
     "name": "stdout",
     "output_type": "stream",
     "text": [
      "\n",
      "Default number of Clusters :  8\n"
     ]
    }
   ],
   "source": [
    "print('\\nDefault number of Clusters : ',model.n_clusters)"
   ]
  },
  {
   "cell_type": "code",
   "execution_count": null,
   "metadata": {
    "colab": {
     "base_uri": "https://localhost:8080/"
    },
    "id": "mNoNLy0tUJva",
    "outputId": "612cce48-b300-4980-91a3-8d3b0db861f3"
   },
   "outputs": [
    {
     "name": "stdout",
     "output_type": "stream",
     "text": [
      "\n",
      "CLusters on train data [0 0 0 0 0 0 6 0 0 6 5 0 7 7 5 6 6 7 6 0 0 6 6 6 0 0 0 4 0 0 4 5 0 0 6 0 0\n",
      " 0 0 0 6 0 0 4 0 5 0 0 4 5 3 0 0 0 7 4 0 0 7 0 0 3 3 7 5 4 0 5 7 6 0 0 4 0\n",
      " 0 1 7 6 0 0 0 5 4 6 1 4 6 0 0 7 4 5 7 7 6 4 5 0 7 6 0 4 0 7 5 7 0 0 5 4 5\n",
      " 0 7 5 0 0 6 4 0 0 7 7 0 7 0 0 4 2 0 6 0 1 6 0 4 7 6 3 0 5 0 0 6 6 0 3 1 0\n",
      " 0 0 6 4 5 0 1 5 6 5 4 0 0 0 0 4 4 0 0 7 4 0 0 6 0 5 4 0 5 0 0 5 0 0 0 0 0\n",
      " 0 4 6 1 5 0 0 3 0 4 0 0 0 4 5 7 0 0 6 4 7 4 5 0 0 0 5 5 0 0 0 0 0 0 0 5 0\n",
      " 0 0 4 5 0 0 3 0 4 5 4 0 0 0 7 0 0 0 7 6 6 0 0 7 3 4 0 0 3 6 0 7 7 5 0 6 7\n",
      " 4 5 0 4 5 5 1 4 4 5 5 5 4 5 0 6 4 4 0 0 0 0 0 6 7 0 4 7 1 6 1 7 6 0 4 7 0\n",
      " 0 0 6 6 7 0 0 6 5 6 7 0 6 0 0 0 7 0 1 1 0 0 5 0 4 5 1 5 6 0 0 5 0 0 0 5 3\n",
      " 0 6 5 5 6 0 4 5 6 0 5 6 0 0 0 0 0 0 7 6 0 7 5 0 7 0 0 0 0 0 0 5 0 5 0 6 0\n",
      " 0 0 0 1 0 5 5 5 0 4 5 5 0 0 7 0 0 1 0 0 4 7 5 4 0 6 6 7 0 0 0 1 0 1 4 7 0\n",
      " 7 2 0 0 0 6 0 0 0 0 5 0 0 6 0 7 0 6 1 6 6 4 6 0 5 0 0 1 0 4 0 0 0 0 4 0 7\n",
      " 0 0 0 0 0 7 0 0 7 0 6 5 5 6 5 6 4 7 0 0 5 0 5 0 5 0 0 0 0 1 7 0 0 5 6 5 4\n",
      " 6 0 7 5 7 5 0 0 5 4 1 4 5 0 4 0 0 6 0 7 0 0 0 5 0 0 0 7 5 0 7 0 0 0 2 4 5\n",
      " 0 0 0 4 0 0 6 0 0 0 5 4 0 0 4 1 0 0 0 4 5 7 0 4 5 0 5 6 7 7 0 4 7 5 0 0 4\n",
      " 0 1 5 0 5 0 4 0 0 0 7 0 5 0 0 3 4 0 4 5 0 0 5 0 1 1 0 5 0 4 1 5 0 4 5 4 0\n",
      " 0 0 6 7 6 7 5 7 0 0 0 3 0 0 0 0 6 4 4 4 0 4 7 0 0 0 4 6 7 6 0 0 4 0 5 5 4\n",
      " 7 0 0 4 0 4 0 5 0 0 5 6 0 0 5 0 4 4 7 6 0 0 6 1 0 4 6 7 0 0 6 0 5 7 0 0 0\n",
      " 5 0 0 0 5 0 0 0 0 5 7 5 4 0 0 7 3 0 6 0 5 0 0 4 0 0 4 0 0 0 0 6 5 4 0 0 0\n",
      " 4 0 0 0 4 0 3 0 0]\n"
     ]
    }
   ],
   "source": [
    "predict_train = model.predict(train_data)\n",
    "print('\\nCLusters on train data',predict_train)"
   ]
  },
  {
   "cell_type": "code",
   "execution_count": null,
   "metadata": {
    "colab": {
     "base_uri": "https://localhost:8080/"
    },
    "id": "yjUnhV_XUL5L",
    "outputId": "8948a896-5f06-42f5-95e9-01fa8442fab4"
   },
   "outputs": [
    {
     "name": "stdout",
     "output_type": "stream",
     "text": [
      "Clusters on test data [0 0 0 1 4 0 0 6 0 0 0 7 5 5 0 0 5 7 0 0 0 0 5 0 7 0 0 4 6 4 4 0 7 0 0 0 0\n",
      " 3 0 0 6 5 0 0 4 5 0 0 4 4 4 5 0 4 7 1 7 0 3 5 0 4 0 0 6 0 5 0 0 5 7 6 0 6\n",
      " 0 0 0 7 5 0 0 0 4 1 0 0 1 6 0 0 0 0 5 0 4 0 0 5 4 0 7 4 0 6 0 4 0 1 5 5 5\n",
      " 6 4 0 0 4 6 5 0 4 1 7 4 0 0 0 4 5 0 7 5 0 0 1 5 0 0 5 3 6 0 0 5 6 0 0 0 6\n",
      " 0 6 0 6 4 6 0 0 0 5 0 0 0 0 5 0 0 5 4 0 0 0 0 7 6 0 6 0 6 6 5]\n"
     ]
    }
   ],
   "source": [
    "predict_test = model.predict(test_data)\n",
    "print('Clusters on test data',predict_test) "
   ]
  },
  {
   "cell_type": "code",
   "execution_count": null,
   "metadata": {
    "id": "qhgtN2YDUOSh"
   },
   "outputs": [],
   "source": [
    "model_n3 = KMeans(n_clusters=3)"
   ]
  },
  {
   "cell_type": "code",
   "execution_count": null,
   "metadata": {
    "colab": {
     "base_uri": "https://localhost:8080/"
    },
    "id": "_TN78hD6UQFR",
    "outputId": "5bbba2b3-94e2-4566-f613-6ce031cedca2"
   },
   "outputs": [
    {
     "data": {
      "text/plain": [
       "KMeans(n_clusters=3)"
      ]
     },
     "execution_count": 114,
     "metadata": {},
     "output_type": "execute_result"
    }
   ],
   "source": [
    "model_n3.fit(train_data)"
   ]
  },
  {
   "cell_type": "code",
   "execution_count": null,
   "metadata": {
    "colab": {
     "base_uri": "https://localhost:8080/"
    },
    "id": "6eau5_lRUR6r",
    "outputId": "4d3d8797-1562-46c9-a0ff-a609e8d121f6"
   },
   "outputs": [
    {
     "name": "stdout",
     "output_type": "stream",
     "text": [
      "\n",
      "Number of Clusters :  3\n"
     ]
    }
   ],
   "source": [
    "print('\\nNumber of Clusters : ',model_n3.n_clusters)"
   ]
  },
  {
   "cell_type": "code",
   "execution_count": null,
   "metadata": {
    "colab": {
     "base_uri": "https://localhost:8080/"
    },
    "id": "zm2JCIWDUTwO",
    "outputId": "a2ed9550-c1b7-4345-b571-841c07e25749"
   },
   "outputs": [
    {
     "name": "stdout",
     "output_type": "stream",
     "text": [
      "\n",
      "CLusters on train data [0 0 0 0 0 0 0 0 0 0 0 0 0 0 0 0 0 0 0 0 0 0 0 0 0 0 0 2 0 0 2 0 0 0 0 0 0\n",
      " 0 0 0 0 0 0 2 0 0 0 0 2 0 1 0 0 0 0 2 0 0 0 0 0 1 1 0 0 2 0 0 0 0 0 0 2 0\n",
      " 0 2 0 0 0 0 0 0 2 0 2 2 0 0 0 0 2 0 0 0 0 2 0 0 0 0 0 2 0 0 0 0 0 0 0 2 0\n",
      " 0 0 0 0 0 0 2 0 0 0 0 0 0 0 0 2 1 0 0 0 2 0 0 2 0 0 1 0 0 0 0 0 0 0 1 2 0\n",
      " 0 0 0 2 0 0 2 0 0 0 2 0 0 0 0 2 2 0 0 0 2 0 0 0 0 0 2 0 0 0 0 0 0 0 0 0 0\n",
      " 0 2 0 2 0 0 0 1 0 2 0 0 0 2 0 0 0 0 0 2 0 2 0 0 0 0 0 0 0 0 0 0 0 0 0 0 0\n",
      " 0 0 2 0 0 0 1 0 2 0 2 0 0 0 0 0 0 0 0 0 0 0 0 0 1 2 0 0 1 0 0 0 0 0 0 0 0\n",
      " 2 0 0 2 0 0 2 2 2 0 0 0 2 0 0 0 2 2 0 0 0 0 0 0 0 0 2 0 2 0 2 0 0 0 2 0 0\n",
      " 0 0 0 0 0 0 0 0 0 0 0 0 0 0 0 0 0 0 2 2 0 0 0 0 2 0 2 0 0 0 0 0 0 0 0 0 1\n",
      " 0 0 0 0 0 0 2 0 0 0 0 0 0 0 0 0 0 0 0 0 0 0 0 0 0 0 0 0 0 0 0 0 0 0 0 0 0\n",
      " 0 0 0 2 0 0 0 0 0 2 0 0 0 0 0 0 0 2 0 0 2 0 0 2 0 0 0 0 0 0 0 2 0 2 2 0 0\n",
      " 0 1 0 0 0 0 0 0 0 0 0 0 0 0 0 0 0 0 2 0 0 2 0 0 0 0 0 2 0 2 0 0 0 0 2 0 0\n",
      " 0 0 0 0 0 0 0 0 0 0 0 0 0 0 0 0 2 0 0 0 0 0 0 0 0 0 0 0 0 2 0 0 0 0 2 0 2\n",
      " 0 0 0 0 0 0 0 0 0 2 2 2 0 0 2 0 0 0 0 0 0 0 0 0 0 0 0 0 0 0 0 0 0 0 1 2 0\n",
      " 0 0 0 2 0 0 0 0 0 0 0 2 0 0 2 2 0 0 0 2 0 0 0 2 0 0 0 0 0 0 0 2 0 0 0 0 2\n",
      " 0 2 0 0 0 0 2 0 0 0 0 0 0 0 0 1 2 0 2 0 0 0 0 0 2 2 0 0 0 2 2 0 0 2 0 2 0\n",
      " 0 0 0 0 0 0 0 0 0 0 0 1 0 0 0 0 0 2 2 2 0 2 0 0 0 0 2 0 0 0 0 0 2 0 0 0 2\n",
      " 0 0 0 2 0 2 0 0 0 0 0 0 0 0 0 0 2 2 0 0 0 0 0 2 0 2 0 0 0 0 0 0 0 0 0 0 0\n",
      " 0 0 0 0 0 0 0 0 0 0 0 0 2 0 0 0 1 0 0 0 0 0 0 2 0 0 2 0 0 0 0 0 0 2 0 0 0\n",
      " 2 0 0 0 2 0 1 0 0]\n"
     ]
    }
   ],
   "source": [
    "predict_train_3 = model_n3.predict(train_data)\n",
    "print('\\nCLusters on train data',predict_train_3) "
   ]
  },
  {
   "cell_type": "code",
   "execution_count": null,
   "metadata": {
    "colab": {
     "base_uri": "https://localhost:8080/"
    },
    "id": "Q-Z3XwrwUV25",
    "outputId": "509c47a9-ec90-43dd-fd85-cb277151af38"
   },
   "outputs": [
    {
     "name": "stdout",
     "output_type": "stream",
     "text": [
      "Clusters on test data [0 0 0 2 2 0 0 0 0 0 0 0 0 0 0 0 0 0 0 0 0 0 0 0 0 0 0 2 0 2 2 0 0 0 0 0 0\n",
      " 1 0 0 0 0 0 0 2 0 0 0 2 2 2 0 0 2 0 2 0 0 1 0 0 2 0 0 0 0 0 0 0 0 0 0 0 0\n",
      " 0 0 0 0 0 0 0 0 2 2 0 0 2 0 0 0 0 0 0 0 2 0 0 0 2 0 0 2 0 0 0 2 0 2 0 0 0\n",
      " 0 2 0 0 2 0 0 0 2 2 0 2 0 0 0 2 0 0 0 0 0 0 2 0 0 0 0 1 0 0 0 0 0 0 0 0 0\n",
      " 0 0 0 0 2 0 0 0 0 0 0 0 0 0 0 0 0 0 2 0 0 0 0 0 0 0 0 0 0 0 0]\n"
     ]
    }
   ],
   "source": [
    "predict_test_3 = model_n3.predict(test_data)\n",
    "print('Clusters on test data',predict_test_3) "
   ]
  },
  {
   "cell_type": "markdown",
   "metadata": {
    "id": "i3CAe-XuUgf1"
   },
   "source": [
    "##8. Random Forest"
   ]
  },
  {
   "cell_type": "code",
   "execution_count": null,
   "metadata": {
    "id": "Y25J2KuEUX_H"
   },
   "outputs": [],
   "source": [
    "import pandas as pd\n",
    "from sklearn.ensemble import RandomForestClassifier  #Main\n",
    "from sklearn.metrics import accuracy_score"
   ]
  },
  {
   "cell_type": "code",
   "execution_count": null,
   "metadata": {
    "id": "bNBuTSxmUuc_"
   },
   "outputs": [],
   "source": [
    "train_data = pd.read_csv('/content/sample_data/train-data.csv')\n",
    "test_data = pd.read_csv('/content/sample_data/test-data.csv')"
   ]
  },
  {
   "cell_type": "code",
   "execution_count": null,
   "metadata": {
    "id": "n8_Z0DFgUzGX"
   },
   "outputs": [],
   "source": [
    "train_x = train_data.drop(columns=['Survived'],axis=1)\n",
    "train_y = train_data['Survived']"
   ]
  },
  {
   "cell_type": "code",
   "execution_count": null,
   "metadata": {
    "id": "Z06rAYUCU1YI"
   },
   "outputs": [],
   "source": [
    "test_x = test_data.drop(columns=['Survived'],axis=1)\n",
    "test_y = test_data['Survived']"
   ]
  },
  {
   "cell_type": "code",
   "execution_count": null,
   "metadata": {
    "id": "CtiWYWkOU3Mt"
   },
   "outputs": [],
   "source": [
    "model = RandomForestClassifier()"
   ]
  },
  {
   "cell_type": "code",
   "execution_count": null,
   "metadata": {
    "colab": {
     "base_uri": "https://localhost:8080/"
    },
    "id": "iXPyc0rMU8Io",
    "outputId": "bc75496f-5aa5-4c54-9c86-4dd2f9d445db"
   },
   "outputs": [
    {
     "data": {
      "text/plain": [
       "RandomForestClassifier()"
      ]
     },
     "execution_count": 123,
     "metadata": {},
     "output_type": "execute_result"
    }
   ],
   "source": [
    "model.fit(train_x,train_y)"
   ]
  },
  {
   "cell_type": "code",
   "execution_count": null,
   "metadata": {
    "colab": {
     "base_uri": "https://localhost:8080/"
    },
    "id": "iOOG7UJ5U-Tz",
    "outputId": "93133bf6-2efb-4c75-c259-c341fa1c6b2e"
   },
   "outputs": [
    {
     "name": "stdout",
     "output_type": "stream",
     "text": [
      "Number of Trees used :  100\n"
     ]
    }
   ],
   "source": [
    "print('Number of Trees used : ', model.n_estimators)"
   ]
  },
  {
   "cell_type": "code",
   "execution_count": null,
   "metadata": {
    "colab": {
     "base_uri": "https://localhost:8080/"
    },
    "id": "I2rlSb6LVA52",
    "outputId": "ac59767d-906c-4b6a-f25e-b9cf1471ac18"
   },
   "outputs": [
    {
     "name": "stdout",
     "output_type": "stream",
     "text": [
      "\n",
      "Target on train data [0 1 1 0 0 0 0 0 0 0 0 1 1 1 0 0 1 0 0 1 0 0 1 0 0 0 0 0 0 1 1 0 0 1 0 0 0\n",
      " 1 0 0 0 1 0 1 0 1 0 0 1 0 1 0 0 0 0 0 0 0 1 0 1 1 1 1 0 1 0 0 1 0 0 0 0 0\n",
      " 0 1 1 0 0 1 0 1 1 1 1 0 0 0 1 0 1 0 0 1 0 0 0 1 1 0 0 1 0 1 1 1 0 0 0 0 0\n",
      " 0 0 0 1 1 0 0 1 0 1 0 1 1 0 0 0 1 0 0 1 0 0 0 1 0 1 0 1 0 0 0 0 1 0 1 1 0\n",
      " 0 0 0 1 1 0 0 1 0 0 1 0 1 1 0 1 1 0 1 1 0 0 0 0 0 0 0 1 0 0 0 0 0 1 0 0 1\n",
      " 0 1 1 1 1 0 0 1 0 1 0 0 1 1 1 1 0 0 0 1 1 1 1 0 0 0 0 1 0 0 0 0 0 0 0 0 0\n",
      " 0 0 0 0 1 0 0 0 1 1 1 0 0 0 0 1 0 0 0 1 0 1 0 1 0 0 0 1 1 1 0 1 0 0 0 1 0\n",
      " 0 1 1 0 1 1 1 0 1 1 0 0 1 0 1 1 1 1 1 0 0 1 0 0 0 1 1 0 0 1 1 0 0 0 0 0 0\n",
      " 0 0 1 1 0 1 1 0 1 0 1 1 1 0 0 0 1 0 1 1 0 0 0 0 1 0 1 1 0 0 0 0 0 0 0 0 1\n",
      " 1 0 0 1 1 0 1 0 0 0 1 0 1 0 0 0 1 0 1 0 0 1 0 1 0 0 0 0 0 1 0 0 0 1 0 0 0\n",
      " 0 0 0 0 0 0 1 0 0 1 0 1 0 0 1 0 0 1 1 0 0 0 0 1 0 0 1 1 1 1 0 1 1 0 1 1 1\n",
      " 0 1 1 1 0 0 0 0 0 0 0 0 1 1 1 1 0 0 1 0 0 1 0 0 1 0 1 0 1 1 1 1 0 0 1 0 0\n",
      " 0 1 0 0 0 0 0 1 1 0 0 1 1 0 1 0 1 0 1 0 1 0 0 0 0 0 0 0 1 1 1 0 0 0 0 0 0\n",
      " 0 0 1 1 1 0 0 1 0 1 1 0 1 0 0 0 1 1 1 0 1 0 0 0 0 0 0 0 0 0 0 0 0 0 1 0 1\n",
      " 1 0 0 0 0 1 0 0 0 1 0 1 0 1 1 1 0 0 0 0 0 0 1 1 1 0 0 1 1 1 0 1 0 1 0 0 1\n",
      " 0 0 0 1 1 0 0 1 0 0 1 0 1 0 0 1 0 0 0 1 0 0 1 1 0 1 0 0 0 0 1 1 0 1 1 1 0\n",
      " 1 0 1 0 1 1 0 1 0 1 0 0 1 0 0 1 0 1 1 0 1 0 0 0 1 0 1 0 0 0 0 0 0 0 0 0 1\n",
      " 0 0 0 1 0 1 1 1 1 0 1 1 0 0 1 0 1 0 0 1 0 0 1 1 1 1 0 1 0 0 0 1 0 1 0 1 0\n",
      " 1 0 0 0 1 0 0 1 0 0 1 0 1 0 0 1 1 0 0 1 0 0 0 0 0 0 1 0 0 0 0 0 0 1 0 1 0\n",
      " 1 0 1 1 1 0 0 1 0]\n"
     ]
    }
   ],
   "source": [
    "predict_train = model.predict(train_x)\n",
    "print('\\nTarget on train data',predict_train) "
   ]
  },
  {
   "cell_type": "code",
   "execution_count": null,
   "metadata": {
    "colab": {
     "base_uri": "https://localhost:8080/"
    },
    "id": "C-GirTchVDFM",
    "outputId": "3863edd0-24ce-4922-8a00-c7a39d09bf6f"
   },
   "outputs": [
    {
     "name": "stdout",
     "output_type": "stream",
     "text": [
      "\n",
      "accuracy_score on train dataset :  0.9859550561797753\n"
     ]
    }
   ],
   "source": [
    "accuracy_train = accuracy_score(train_y,predict_train)\n",
    "print('\\naccuracy_score on train dataset : ', accuracy_train)"
   ]
  },
  {
   "cell_type": "code",
   "execution_count": null,
   "metadata": {
    "colab": {
     "base_uri": "https://localhost:8080/"
    },
    "id": "wUiNgtY-VFXP",
    "outputId": "ab9d3efd-daf5-4711-d5fd-e1eb53bc61f8"
   },
   "outputs": [
    {
     "name": "stdout",
     "output_type": "stream",
     "text": [
      "\n",
      "Target on test data [0 0 0 1 1 0 0 0 0 0 0 1 1 0 0 0 0 0 0 0 0 1 1 1 1 0 0 1 0 1 1 0 1 0 1 1 0\n",
      " 1 0 0 0 0 0 0 0 1 0 0 1 0 0 0 0 1 1 1 0 1 1 0 0 1 1 1 0 0 0 0 0 1 0 0 0 0\n",
      " 1 0 0 0 0 0 0 0 0 1 0 0 1 1 0 1 0 0 1 0 1 1 0 0 1 0 0 0 0 1 1 1 0 1 1 0 1\n",
      " 0 1 0 0 0 0 1 0 1 1 0 1 1 0 1 1 0 0 1 1 0 0 1 1 0 0 0 1 0 1 0 1 1 0 0 0 0\n",
      " 0 0 0 1 1 0 0 1 0 0 0 0 0 1 0 0 0 0 1 0 1 0 1 1 0 0 0 0 0 0 0]\n"
     ]
    }
   ],
   "source": [
    "predict_test = model.predict(test_x)\n",
    "print('\\nTarget on test data',predict_test) "
   ]
  },
  {
   "cell_type": "code",
   "execution_count": null,
   "metadata": {
    "colab": {
     "base_uri": "https://localhost:8080/"
    },
    "id": "5oRdCvpLVG4o",
    "outputId": "22c5cb93-7e30-4fa5-e4a9-7ad83a2f880d"
   },
   "outputs": [
    {
     "name": "stdout",
     "output_type": "stream",
     "text": [
      "\n",
      "accuracy_score on test dataset :  0.8044692737430168\n"
     ]
    }
   ],
   "source": [
    "accuracy_test = accuracy_score(test_y,predict_test)\n",
    "print('\\naccuracy_score on test dataset : ', accuracy_test)"
   ]
  },
  {
   "cell_type": "markdown",
   "metadata": {
    "id": "-p8r0oYeVQTH"
   },
   "source": [
    "##9. Dimensionality Reduction Algorithms"
   ]
  },
  {
   "cell_type": "code",
   "execution_count": null,
   "metadata": {
    "id": "VlQE0fAAVJO6"
   },
   "outputs": [],
   "source": [
    "import pandas as pd\n",
    "from sklearn.decomposition import PCA\n",
    "from sklearn.linear_model import LinearRegression\n",
    "from sklearn.metrics import mean_squared_error"
   ]
  },
  {
   "cell_type": "code",
   "execution_count": null,
   "metadata": {
    "id": "IUnn6CYnVV7j"
   },
   "outputs": [],
   "source": [
    "train_data = pd.read_csv('/content/sample_data/train.csv')\n",
    "test_data = pd.read_csv('/content/sample_data/test.csv')"
   ]
  },
  {
   "cell_type": "code",
   "execution_count": null,
   "metadata": {
    "colab": {
     "base_uri": "https://localhost:8080/"
    },
    "id": "-lDLNkxjVbZm",
    "outputId": "7638ffff-eb7f-4ac5-c961-fc6fbcafb073"
   },
   "outputs": [
    {
     "name": "stdout",
     "output_type": "stream",
     "text": [
      "   Item_Weight  ...  Outlet_Type_Supermarket Type3\n",
      "0     6.800000  ...                              0\n",
      "1    15.600000  ...                              0\n",
      "2    12.911575  ...                              1\n",
      "\n",
      "[3 rows x 36 columns]\n"
     ]
    }
   ],
   "source": [
    "print(train_data.head(3))"
   ]
  },
  {
   "cell_type": "code",
   "execution_count": null,
   "metadata": {
    "colab": {
     "base_uri": "https://localhost:8080/"
    },
    "id": "hOH3brQ7VeAO",
    "outputId": "401fe632-9b63-44a5-c891-8931c628c5c5"
   },
   "outputs": [
    {
     "name": "stdout",
     "output_type": "stream",
     "text": [
      "\n",
      "Shape of training data : (1364, 36)\n",
      "\n",
      "Shape of testing data : (341, 36)\n"
     ]
    }
   ],
   "source": [
    "print('\\nShape of training data :',train_data.shape)\n",
    "print('\\nShape of testing data :',test_data.shape)"
   ]
  },
  {
   "cell_type": "code",
   "execution_count": null,
   "metadata": {
    "id": "-yfIBhjDVhZJ"
   },
   "outputs": [],
   "source": [
    "train_x = train_data.drop(columns=['Item_Outlet_Sales'],axis=1)\n",
    "train_y = train_data['Item_Outlet_Sales']\n"
   ]
  },
  {
   "cell_type": "code",
   "execution_count": null,
   "metadata": {
    "id": "t9k__mgsVkwg"
   },
   "outputs": [],
   "source": [
    "test_x = test_data.drop(columns=['Item_Outlet_Sales'],axis=1)\n",
    "test_y = test_data['Item_Outlet_Sales']"
   ]
  },
  {
   "cell_type": "code",
   "execution_count": null,
   "metadata": {
    "colab": {
     "base_uri": "https://localhost:8080/"
    },
    "id": "uSDyF2OMVmn-",
    "outputId": "267a911f-fb72-445c-fd6e-0af8f11ad1a4"
   },
   "outputs": [
    {
     "name": "stdout",
     "output_type": "stream",
     "text": [
      "\n",
      "Training model with 35 dimensions.\n"
     ]
    }
   ],
   "source": [
    "print('\\nTraining model with {} dimensions.'.format(train_x.shape[1]))"
   ]
  },
  {
   "cell_type": "code",
   "execution_count": null,
   "metadata": {
    "id": "sgrdvH9qVoT1"
   },
   "outputs": [],
   "source": [
    "model = LinearRegression()"
   ]
  },
  {
   "cell_type": "code",
   "execution_count": null,
   "metadata": {
    "colab": {
     "base_uri": "https://localhost:8080/"
    },
    "id": "noNAN8xfVqNL",
    "outputId": "66b2e750-6993-4756-eaa6-ae4460e0e318"
   },
   "outputs": [
    {
     "data": {
      "text/plain": [
       "LinearRegression()"
      ]
     },
     "execution_count": 137,
     "metadata": {},
     "output_type": "execute_result"
    }
   ],
   "source": [
    "model.fit(train_x,train_y)"
   ]
  },
  {
   "cell_type": "code",
   "execution_count": null,
   "metadata": {
    "id": "dhpHNKtoVr58"
   },
   "outputs": [],
   "source": [
    "predict_train = model.predict(train_x)"
   ]
  },
  {
   "cell_type": "code",
   "execution_count": null,
   "metadata": {
    "colab": {
     "base_uri": "https://localhost:8080/"
    },
    "id": "cthjHIhsVtQR",
    "outputId": "d2df536f-8c29-4c4e-e9ff-a0f587a9e87c"
   },
   "outputs": [
    {
     "name": "stdout",
     "output_type": "stream",
     "text": [
      "\n",
      "RMSE on train dataset :  1135.8159344155245\n"
     ]
    }
   ],
   "source": [
    "rmse_train = mean_squared_error(train_y,predict_train)**(0.5)\n",
    "print('\\nRMSE on train dataset : ', rmse_train)"
   ]
  },
  {
   "cell_type": "code",
   "execution_count": null,
   "metadata": {
    "id": "Y34hJZuIVuxD"
   },
   "outputs": [],
   "source": [
    "predict_test = model.predict(test_x)"
   ]
  },
  {
   "cell_type": "code",
   "execution_count": null,
   "metadata": {
    "colab": {
     "base_uri": "https://localhost:8080/"
    },
    "id": "w-3GvZLgVxwS",
    "outputId": "6bed3025-bb90-41c2-e8b7-268df4da9bbe"
   },
   "outputs": [
    {
     "name": "stdout",
     "output_type": "stream",
     "text": [
      "\n",
      "RMSE on test dataset :  1009.2517232209692\n"
     ]
    }
   ],
   "source": [
    "rmse_test = mean_squared_error(test_y,predict_test)**(0.5)\n",
    "print('\\nRMSE on test dataset : ', rmse_test)"
   ]
  },
  {
   "cell_type": "code",
   "execution_count": null,
   "metadata": {
    "id": "2pa4nclBVzVk"
   },
   "outputs": [],
   "source": [
    "model_pca = PCA(n_components=12)\n",
    "\n",
    "new_train = model_pca.fit_transform(train_x)\n",
    "new_test  = model_pca.fit_transform(test_x)"
   ]
  },
  {
   "cell_type": "code",
   "execution_count": null,
   "metadata": {
    "colab": {
     "base_uri": "https://localhost:8080/"
    },
    "id": "N_MneLrhV2Lg",
    "outputId": "2f6ffc61-19e6-4634-dff4-1d80b5b75f4b"
   },
   "outputs": [
    {
     "name": "stdout",
     "output_type": "stream",
     "text": [
      "\n",
      "Training model with 12 dimensions.\n"
     ]
    }
   ],
   "source": [
    "print('\\nTraining model with {} dimensions.'.format(new_train.shape[1]))"
   ]
  },
  {
   "cell_type": "code",
   "execution_count": null,
   "metadata": {
    "id": "q84lERQQV4qo"
   },
   "outputs": [],
   "source": [
    "model_new = LinearRegression()"
   ]
  },
  {
   "cell_type": "code",
   "execution_count": null,
   "metadata": {
    "colab": {
     "base_uri": "https://localhost:8080/"
    },
    "id": "TIJTfc0-V65b",
    "outputId": "e2acb21e-5af6-4361-dd36-14491a1658d8"
   },
   "outputs": [
    {
     "data": {
      "text/plain": [
       "LinearRegression()"
      ]
     },
     "execution_count": 145,
     "metadata": {},
     "output_type": "execute_result"
    }
   ],
   "source": [
    "model_new.fit(new_train,train_y)"
   ]
  },
  {
   "cell_type": "code",
   "execution_count": null,
   "metadata": {
    "id": "BgLjQYjdV8Sy"
   },
   "outputs": [],
   "source": [
    "predict_train_pca = model_new.predict(new_train)"
   ]
  },
  {
   "cell_type": "code",
   "execution_count": null,
   "metadata": {
    "colab": {
     "base_uri": "https://localhost:8080/"
    },
    "id": "I8J60kIRV9uA",
    "outputId": "79340ea8-ca8c-493b-b9b8-3d79ac87e158"
   },
   "outputs": [
    {
     "name": "stdout",
     "output_type": "stream",
     "text": [
      "\n",
      "RMSE on new train dataset :  1159.998162929229\n"
     ]
    }
   ],
   "source": [
    "rmse_train_pca = mean_squared_error(train_y,predict_train_pca)**(0.5)\n",
    "print('\\nRMSE on new train dataset : ', rmse_train_pca)"
   ]
  },
  {
   "cell_type": "code",
   "execution_count": null,
   "metadata": {
    "id": "vkB__8fkWAPF"
   },
   "outputs": [],
   "source": [
    "predict_test_pca = model_new.predict(new_test)"
   ]
  },
  {
   "cell_type": "code",
   "execution_count": null,
   "metadata": {
    "colab": {
     "base_uri": "https://localhost:8080/"
    },
    "id": "tpHc6oUgWCMC",
    "outputId": "45cde8f6-ebf1-4434-b5ba-0ddc5ff3857c"
   },
   "outputs": [
    {
     "name": "stdout",
     "output_type": "stream",
     "text": [
      "\n",
      "RMSE on new test dataset :  1014.4104005078585\n"
     ]
    }
   ],
   "source": [
    "rmse_test_pca = mean_squared_error(test_y,predict_test_pca)**(0.5)\n",
    "print('\\nRMSE on new test dataset : ', rmse_test_pca)"
   ]
  },
  {
   "cell_type": "markdown",
   "metadata": {
    "id": "HfPZ2hwJWWPI"
   },
   "source": [
    "##10. Gradient Boosting Algorithms\n",
    "###10.1. GBM"
   ]
  },
  {
   "cell_type": "code",
   "execution_count": null,
   "metadata": {
    "id": "mubVJBDZWEK5"
   },
   "outputs": [],
   "source": [
    "import pandas as pd\n",
    "from sklearn.ensemble import GradientBoostingClassifier #Main\n",
    "from sklearn.metrics import accuracy_score"
   ]
  },
  {
   "cell_type": "code",
   "execution_count": null,
   "metadata": {
    "id": "tvIGej0AWeqc"
   },
   "outputs": [],
   "source": [
    "train_data = pd.read_csv('/content/sample_data/train-data.csv')\n",
    "test_data = pd.read_csv('/content/sample_data/test-data.csv')"
   ]
  },
  {
   "cell_type": "code",
   "execution_count": null,
   "metadata": {
    "colab": {
     "base_uri": "https://localhost:8080/"
    },
    "id": "E-RO892KW_A1",
    "outputId": "f6a538b4-0ddf-4fd3-fcf3-ce8cb8192d6f"
   },
   "outputs": [
    {
     "name": "stdout",
     "output_type": "stream",
     "text": [
      "Shape of training data : (712, 25)\n",
      "Shape of testing data : (179, 25)\n"
     ]
    }
   ],
   "source": [
    "print('Shape of training data :',train_data.shape)\n",
    "print('Shape of testing data :',test_data.shape)"
   ]
  },
  {
   "cell_type": "code",
   "execution_count": null,
   "metadata": {
    "id": "H7fUDkaGXBO9"
   },
   "outputs": [],
   "source": [
    "train_x = train_data.drop(columns=['Survived'],axis=1)\n",
    "train_y = train_data['Survived']"
   ]
  },
  {
   "cell_type": "code",
   "execution_count": null,
   "metadata": {
    "colab": {
     "base_uri": "https://localhost:8080/"
    },
    "id": "kknVVireXD3s",
    "outputId": "70017c65-eef9-44ba-9085-de3e238d1011"
   },
   "outputs": [
    {
     "name": "stdout",
     "output_type": "stream",
     "text": [
      "Shape of training data : (712, 25)\n",
      "Shape of testing data : (179, 25)\n"
     ]
    }
   ],
   "source": [
    "print('Shape of training data :',train_data.shape)\n",
    "print('Shape of testing data :',test_data.shape)"
   ]
  },
  {
   "cell_type": "code",
   "execution_count": null,
   "metadata": {
    "id": "4NkMN8mWXGcC"
   },
   "outputs": [],
   "source": [
    "test_x = test_data.drop(columns=['Survived'],axis=1)\n",
    "test_y = test_data['Survived']"
   ]
  },
  {
   "cell_type": "code",
   "execution_count": null,
   "metadata": {
    "id": "t5gN7QidXMut"
   },
   "outputs": [],
   "source": [
    "model = GradientBoostingClassifier(n_estimators=100,max_depth=5)"
   ]
  },
  {
   "cell_type": "code",
   "execution_count": null,
   "metadata": {
    "colab": {
     "base_uri": "https://localhost:8080/"
    },
    "id": "YCr27BHBXPgz",
    "outputId": "30fad612-576b-4fb9-e8f9-481a04e68051"
   },
   "outputs": [
    {
     "data": {
      "text/plain": [
       "GradientBoostingClassifier(max_depth=5)"
      ]
     },
     "execution_count": 166,
     "metadata": {},
     "output_type": "execute_result"
    }
   ],
   "source": [
    "model.fit(train_x,train_y)"
   ]
  },
  {
   "cell_type": "code",
   "execution_count": null,
   "metadata": {
    "colab": {
     "base_uri": "https://localhost:8080/"
    },
    "id": "4JZ9ZhLjXRQq",
    "outputId": "963b4438-9436-4210-af10-1035d8f8e6ba"
   },
   "outputs": [
    {
     "name": "stdout",
     "output_type": "stream",
     "text": [
      "\n",
      "Target on train data [0 1 1 0 0 0 0 0 0 0 0 1 1 1 0 0 1 0 0 1 0 0 1 0 0 0 0 0 0 1 1 0 0 1 0 0 0\n",
      " 1 0 0 0 1 0 1 0 1 0 0 1 0 1 0 0 0 0 0 0 0 1 0 1 1 1 1 0 1 0 0 1 0 0 0 0 0\n",
      " 0 1 1 0 0 1 0 1 1 1 1 0 0 0 1 0 1 0 0 1 0 0 0 1 1 0 0 1 0 1 1 1 0 1 0 0 0\n",
      " 0 0 0 0 1 0 0 1 0 1 0 1 1 0 0 0 1 0 0 1 0 0 0 1 0 1 0 1 0 0 0 0 1 0 1 1 0\n",
      " 0 0 0 1 1 0 0 1 0 0 1 0 1 1 0 1 1 0 1 1 0 0 0 0 0 0 0 1 0 0 0 0 0 1 0 0 1\n",
      " 0 1 1 1 1 0 0 1 0 1 0 0 1 1 1 1 1 0 0 1 1 1 1 0 0 0 0 1 0 0 0 0 0 0 0 0 0\n",
      " 0 0 0 0 0 0 0 0 1 1 1 0 0 0 0 1 0 0 0 1 0 1 0 1 0 0 0 1 1 1 0 1 0 0 0 1 0\n",
      " 0 1 1 0 1 1 1 0 1 1 0 0 1 0 0 1 1 1 1 0 0 1 0 0 0 1 1 0 0 1 1 0 0 0 0 0 0\n",
      " 0 0 1 1 0 1 1 0 1 0 1 0 1 0 0 0 1 0 1 1 0 0 0 0 1 0 1 1 0 0 0 0 0 0 0 0 1\n",
      " 1 0 0 1 1 0 1 0 0 0 1 0 0 0 0 0 1 0 1 0 0 1 1 1 0 0 0 0 0 1 0 0 0 0 0 0 0\n",
      " 0 0 0 0 0 1 1 0 0 1 0 1 0 0 1 0 0 1 0 0 0 0 0 1 0 0 1 1 1 1 0 1 0 0 1 1 1\n",
      " 0 1 1 0 0 0 0 0 0 0 0 0 1 1 1 1 0 0 1 0 0 1 0 0 1 0 1 0 1 1 0 1 0 0 1 0 0\n",
      " 0 1 0 0 0 0 0 0 1 0 0 1 1 0 1 0 1 0 1 0 1 0 0 0 0 0 0 0 1 1 1 0 0 0 0 0 0\n",
      " 0 0 1 1 1 0 0 1 0 1 1 0 1 0 0 0 1 1 1 0 1 0 0 0 0 0 0 0 0 0 0 0 0 0 1 0 1\n",
      " 1 0 0 0 0 1 0 0 0 1 0 1 0 1 1 1 0 0 0 0 0 0 1 1 1 0 0 1 1 1 0 1 0 1 0 0 1\n",
      " 0 0 0 1 1 0 0 1 0 0 1 0 1 0 0 1 0 1 0 1 0 0 1 0 0 1 0 0 0 0 1 1 0 1 1 1 0\n",
      " 1 0 1 0 0 1 0 1 0 1 0 0 1 0 0 1 0 1 1 0 1 0 0 0 1 0 1 0 0 0 1 0 0 0 0 0 1\n",
      " 0 0 0 1 0 1 1 1 1 0 1 1 0 0 1 0 1 0 0 1 0 0 1 1 1 1 0 1 0 0 0 1 0 1 0 1 0\n",
      " 0 0 0 0 1 0 0 1 0 0 1 0 1 0 0 1 1 0 0 0 0 0 0 0 0 0 1 0 0 0 0 0 0 1 0 1 0\n",
      " 1 0 1 1 1 0 0 1 0]\n"
     ]
    }
   ],
   "source": [
    "predict_train = model.predict(train_x)\n",
    "print('\\nTarget on train data',predict_train) "
   ]
  },
  {
   "cell_type": "code",
   "execution_count": null,
   "metadata": {
    "colab": {
     "base_uri": "https://localhost:8080/"
    },
    "id": "jHaCDOXXXUAL",
    "outputId": "a8ddef0c-8410-4951-f383-e09bfdf0b6a7"
   },
   "outputs": [
    {
     "name": "stdout",
     "output_type": "stream",
     "text": [
      "\n",
      "accuracy_score on train dataset :  0.9592696629213483\n"
     ]
    }
   ],
   "source": [
    "accuracy_train = accuracy_score(train_y,predict_train)\n",
    "print('\\naccuracy_score on train dataset : ', accuracy_train)"
   ]
  },
  {
   "cell_type": "code",
   "execution_count": null,
   "metadata": {
    "colab": {
     "base_uri": "https://localhost:8080/"
    },
    "id": "WvEzFBMnXXU1",
    "outputId": "fc675594-872d-4370-977c-a2dfb3ea3892"
   },
   "outputs": [
    {
     "name": "stdout",
     "output_type": "stream",
     "text": [
      "\n",
      "Target on test data [0 0 0 1 1 0 0 0 0 0 0 1 1 0 0 0 0 0 0 0 0 0 1 1 1 0 0 1 0 1 1 0 0 0 1 0 0\n",
      " 0 0 0 0 0 0 0 0 1 0 0 1 0 0 0 0 0 1 1 0 1 1 0 0 1 1 1 0 0 1 0 0 1 0 0 0 0\n",
      " 1 0 0 0 0 0 0 0 0 0 1 0 1 1 0 1 0 0 0 0 1 1 0 0 1 0 1 0 0 0 1 1 0 1 1 0 1\n",
      " 0 1 0 0 0 0 1 0 1 1 0 1 1 0 1 1 0 0 1 1 0 0 1 1 0 0 0 1 0 1 0 1 0 0 0 1 0\n",
      " 0 0 0 1 1 0 0 1 0 0 0 0 0 1 0 0 0 1 1 0 1 0 1 1 0 0 0 0 0 0 0]\n"
     ]
    }
   ],
   "source": [
    "predict_test = model.predict(test_x)\n",
    "print('\\nTarget on test data',predict_test) "
   ]
  },
  {
   "cell_type": "code",
   "execution_count": null,
   "metadata": {
    "colab": {
     "base_uri": "https://localhost:8080/"
    },
    "id": "kuyHQsoPXsBG",
    "outputId": "2630188b-9a52-40b9-d8b5-596a6d09a5ab"
   },
   "outputs": [
    {
     "name": "stdout",
     "output_type": "stream",
     "text": [
      "\n",
      "accuracy_score on test dataset :  0.8268156424581006\n"
     ]
    }
   ],
   "source": [
    "accuracy_test = accuracy_score(test_y,predict_test)\n",
    "print('\\naccuracy_score on test dataset : ', accuracy_test)"
   ]
  },
  {
   "cell_type": "markdown",
   "metadata": {
    "id": "OnYlE7phX7hZ"
   },
   "source": [
    "##10.2. XGBoost"
   ]
  },
  {
   "cell_type": "code",
   "execution_count": null,
   "metadata": {
    "id": "MFTVdorlXzWR"
   },
   "outputs": [],
   "source": [
    "import pandas as pd\n",
    "from xgboost import XGBClassifier\n",
    "from sklearn.metrics import accuracy_score"
   ]
  },
  {
   "cell_type": "code",
   "execution_count": null,
   "metadata": {
    "id": "U1UoIl6aX_7T"
   },
   "outputs": [],
   "source": [
    "train_data = pd.read_csv('/content/sample_data/train-data.csv')\n",
    "test_data = pd.read_csv('/content/sample_data/test-data.csv')"
   ]
  },
  {
   "cell_type": "code",
   "execution_count": null,
   "metadata": {
    "colab": {
     "base_uri": "https://localhost:8080/"
    },
    "id": "bs9Juoi5YCcO",
    "outputId": "3b84fa62-5939-4b15-812f-32c40021c6c5"
   },
   "outputs": [
    {
     "name": "stdout",
     "output_type": "stream",
     "text": [
      "Shape of training data : (712, 25)\n",
      "Shape of testing data : (179, 25)\n"
     ]
    }
   ],
   "source": [
    "print('Shape of training data :',train_data.shape)\n",
    "print('Shape of testing data :',test_data.shape)"
   ]
  },
  {
   "cell_type": "code",
   "execution_count": null,
   "metadata": {
    "id": "5F8KH5vrYEj3"
   },
   "outputs": [],
   "source": [
    "train_x = train_data.drop(columns=['Survived'],axis=1)\n",
    "train_y = train_data['Survived']"
   ]
  },
  {
   "cell_type": "code",
   "execution_count": null,
   "metadata": {
    "id": "EyQJy0dXYYL_"
   },
   "outputs": [],
   "source": [
    "test_x = test_data.drop(columns=['Survived'],axis=1)\n",
    "test_y = test_data['Survived']"
   ]
  },
  {
   "cell_type": "code",
   "execution_count": null,
   "metadata": {
    "id": "YZpFR0GLYZhk"
   },
   "outputs": [],
   "source": [
    "model = XGBClassifier()"
   ]
  },
  {
   "cell_type": "code",
   "execution_count": null,
   "metadata": {
    "colab": {
     "base_uri": "https://localhost:8080/"
    },
    "id": "4eIptPw7Ybi0",
    "outputId": "dc0eb707-6c6b-41ae-a96e-3bde8d5d7c86"
   },
   "outputs": [
    {
     "data": {
      "text/plain": [
       "XGBClassifier()"
      ]
     },
     "execution_count": 187,
     "metadata": {},
     "output_type": "execute_result"
    }
   ],
   "source": [
    "model.fit(train_x,train_y)"
   ]
  },
  {
   "cell_type": "code",
   "execution_count": null,
   "metadata": {
    "colab": {
     "base_uri": "https://localhost:8080/"
    },
    "id": "O8uA9v08YdHT",
    "outputId": "b160909d-cfc4-4d28-be52-efa7db2e671a"
   },
   "outputs": [
    {
     "name": "stdout",
     "output_type": "stream",
     "text": [
      "\n",
      "Target on train data [0 1 1 0 0 0 0 0 0 0 0 1 0 0 0 0 0 0 0 1 0 0 0 0 0 0 0 0 0 1 1 0 0 0 0 0 0\n",
      " 1 0 0 0 1 0 1 1 1 0 0 0 1 1 0 0 1 0 0 0 0 1 0 1 1 1 1 0 0 0 0 1 0 0 0 0 0\n",
      " 0 1 1 0 0 1 0 1 0 1 1 0 0 0 1 0 1 0 0 1 0 0 0 1 1 0 0 1 0 1 1 1 0 1 0 0 1\n",
      " 0 0 0 0 1 0 0 1 0 1 0 0 1 0 0 0 1 0 0 1 0 0 0 1 0 0 0 0 0 0 0 0 1 0 1 1 0\n",
      " 0 0 1 1 1 0 0 1 0 0 0 0 1 0 0 1 1 0 1 0 0 0 0 0 0 0 0 0 0 0 0 0 0 1 0 0 1\n",
      " 0 1 1 1 1 0 0 1 0 1 0 0 0 1 1 1 1 0 0 0 1 1 1 0 0 0 0 1 0 0 0 0 0 0 0 0 0\n",
      " 0 0 0 0 0 0 0 0 1 1 1 0 0 1 0 1 0 0 0 1 0 1 0 1 0 0 0 0 1 1 0 1 0 0 1 1 0\n",
      " 0 1 1 0 1 1 1 0 1 1 0 0 1 0 0 1 1 1 0 0 0 0 0 0 0 1 1 0 0 0 0 0 0 0 0 0 0\n",
      " 0 0 1 1 0 1 1 0 0 0 1 0 0 0 0 0 1 0 1 1 1 0 0 0 1 0 1 0 0 0 1 0 0 0 0 0 1\n",
      " 1 0 0 1 1 0 1 0 0 0 0 0 0 0 0 0 1 0 1 0 0 1 1 1 1 0 0 0 0 1 0 0 0 0 0 0 0\n",
      " 0 0 0 0 0 1 0 0 0 1 0 1 0 0 1 0 0 1 0 0 0 0 0 1 0 0 0 1 1 1 0 1 0 0 1 1 1\n",
      " 0 1 1 0 0 0 0 0 0 0 0 0 1 0 0 1 0 0 1 0 0 0 0 0 1 0 1 1 1 1 0 0 0 0 1 0 0\n",
      " 0 1 0 0 0 0 0 0 1 0 0 1 1 0 1 0 1 0 0 0 1 0 0 0 0 0 0 0 1 0 1 0 0 0 0 0 0\n",
      " 0 0 1 0 1 0 0 0 0 1 1 0 1 0 0 0 1 0 1 0 0 0 0 0 0 0 0 0 0 0 1 0 0 0 1 0 1\n",
      " 1 0 0 0 0 1 0 0 0 1 0 1 0 1 1 1 0 0 0 0 0 0 1 1 0 0 0 1 1 1 1 1 0 0 0 0 1\n",
      " 0 0 0 1 1 0 0 1 0 0 1 0 1 0 0 1 0 1 0 1 0 0 0 0 1 1 0 1 0 0 1 1 0 1 1 1 0\n",
      " 1 0 1 0 0 1 0 1 0 0 0 0 1 0 0 1 0 1 1 0 1 0 0 0 1 0 1 0 0 0 1 0 0 0 0 0 1\n",
      " 0 0 0 0 0 0 1 1 0 0 1 1 0 0 1 1 1 0 0 0 0 0 1 1 1 0 0 1 0 0 0 1 0 1 0 0 0\n",
      " 0 0 0 0 1 0 0 1 0 0 1 0 0 0 0 1 1 0 0 0 0 0 0 0 0 0 1 0 0 0 1 0 0 1 0 1 0\n",
      " 1 0 1 1 1 0 0 1 0]\n"
     ]
    }
   ],
   "source": [
    "predict_train = model.predict(train_x)\n",
    "print('\\nTarget on train data',predict_train) "
   ]
  },
  {
   "cell_type": "code",
   "execution_count": null,
   "metadata": {
    "colab": {
     "base_uri": "https://localhost:8080/"
    },
    "id": "KOqzXkPJYfaR",
    "outputId": "718fe9cd-5c92-4f28-ec2d-3ca4645ca18f"
   },
   "outputs": [
    {
     "name": "stdout",
     "output_type": "stream",
     "text": [
      "\n",
      "accuracy_score on train dataset :  0.8693820224719101\n"
     ]
    }
   ],
   "source": [
    "accuracy_train = accuracy_score(train_y,predict_train)\n",
    "print('\\naccuracy_score on train dataset : ', accuracy_train)"
   ]
  },
  {
   "cell_type": "code",
   "execution_count": null,
   "metadata": {
    "colab": {
     "base_uri": "https://localhost:8080/"
    },
    "id": "uL6WG4nNYhpQ",
    "outputId": "867fb670-17e9-4c37-b93e-7750daccb4ef"
   },
   "outputs": [
    {
     "name": "stdout",
     "output_type": "stream",
     "text": [
      "\n",
      "Target on test data [0 0 0 1 1 0 0 0 0 0 0 1 1 0 0 0 0 1 0 0 0 0 1 0 1 0 0 1 0 1 1 0 1 0 1 0 0\n",
      " 0 0 0 0 0 0 0 0 0 0 0 1 0 0 0 0 0 1 1 0 1 1 0 0 1 1 1 0 0 0 0 0 1 0 0 0 0\n",
      " 1 0 0 0 1 0 0 0 0 0 1 0 1 1 0 1 0 0 0 0 1 1 0 0 1 0 1 0 0 0 1 1 0 0 1 0 1\n",
      " 0 1 0 0 0 0 1 0 1 1 0 1 1 0 1 1 0 0 1 1 0 0 1 1 1 0 1 1 0 1 0 0 0 0 0 0 0\n",
      " 0 0 0 0 1 0 0 1 0 0 0 0 0 1 0 0 0 0 0 0 1 0 1 1 0 1 0 0 0 0 0]\n"
     ]
    }
   ],
   "source": [
    "predict_test = model.predict(test_x)\n",
    "print('\\nTarget on test data',predict_test) "
   ]
  },
  {
   "cell_type": "code",
   "execution_count": null,
   "metadata": {
    "colab": {
     "base_uri": "https://localhost:8080/"
    },
    "id": "M4hrRM-5YkWy",
    "outputId": "a337150b-2cd2-49cc-edb2-f221f536ba72"
   },
   "outputs": [
    {
     "name": "stdout",
     "output_type": "stream",
     "text": [
      "\n",
      "accuracy_score on test dataset :  0.8212290502793296\n"
     ]
    }
   ],
   "source": [
    "accuracy_test = accuracy_score(test_y,predict_test)\n",
    "print('\\naccuracy_score on test dataset : ', accuracy_test)"
   ]
  },
  {
   "cell_type": "markdown",
   "metadata": {
    "id": "ipgHh6XCYoKW"
   },
   "source": [
    "##10.3. LightGBM"
   ]
  },
  {
   "cell_type": "code",
   "execution_count": null,
   "metadata": {
    "id": "7kcLPnokYuiS"
   },
   "outputs": [],
   "source": [
    "import pandas as pd\n",
    "import lightgbm as lgb #Main\n",
    "from sklearn.metrics import accuracy_score"
   ]
  },
  {
   "cell_type": "code",
   "execution_count": null,
   "metadata": {
    "id": "h_U-_nMaY9KU"
   },
   "outputs": [],
   "source": [
    "train_data = pd.read_csv('/content/sample_data/train-data.csv')\n",
    "test_data = pd.read_csv('/content/sample_data/test-data.csv')"
   ]
  },
  {
   "cell_type": "code",
   "execution_count": null,
   "metadata": {
    "colab": {
     "base_uri": "https://localhost:8080/"
    },
    "id": "TGJ2jhB6ZTG-",
    "outputId": "daca6a9a-98f3-4ba8-88ff-303df57ae177"
   },
   "outputs": [
    {
     "name": "stdout",
     "output_type": "stream",
     "text": [
      "Shape of training data : (712, 25)\n",
      "Shape of testing data : (179, 25)\n"
     ]
    }
   ],
   "source": [
    "print('Shape of training data :',train_data.shape)\n",
    "print('Shape of testing data :',test_data.shape)"
   ]
  },
  {
   "cell_type": "code",
   "execution_count": null,
   "metadata": {
    "id": "5lmGcXgMY-5e"
   },
   "outputs": [],
   "source": [
    "train_x = train_data.drop(columns=['Survived'],axis=1)\n",
    "train_y = train_data['Survived']"
   ]
  },
  {
   "cell_type": "code",
   "execution_count": null,
   "metadata": {
    "id": "pfJaAm4OZZZz"
   },
   "outputs": [],
   "source": [
    "test_x = test_data.drop(columns=['Survived'],axis=1)\n",
    "test_y = test_data['Survived']"
   ]
  },
  {
   "cell_type": "code",
   "execution_count": null,
   "metadata": {
    "id": "UKnhFxs4Za2_"
   },
   "outputs": [],
   "source": [
    "model = lgb.LGBMClassifier()"
   ]
  },
  {
   "cell_type": "code",
   "execution_count": null,
   "metadata": {
    "colab": {
     "base_uri": "https://localhost:8080/"
    },
    "id": "VZHNQrQDZcOj",
    "outputId": "18dfe437-143a-4dec-c60f-9142ce479b47"
   },
   "outputs": [
    {
     "data": {
      "text/plain": [
       "LGBMClassifier()"
      ]
     },
     "execution_count": 199,
     "metadata": {},
     "output_type": "execute_result"
    }
   ],
   "source": [
    "model.fit(train_x,train_y)"
   ]
  },
  {
   "cell_type": "code",
   "execution_count": null,
   "metadata": {
    "colab": {
     "base_uri": "https://localhost:8080/"
    },
    "id": "BfffUt40ZdeG",
    "outputId": "42a00612-5553-4121-ec59-7f28ae9e26f5"
   },
   "outputs": [
    {
     "name": "stdout",
     "output_type": "stream",
     "text": [
      "\n",
      "Target on train data [0 1 1 0 0 0 0 0 0 0 0 1 1 1 0 0 0 0 0 1 0 0 1 0 0 0 0 0 0 1 1 0 0 1 0 0 0\n",
      " 1 0 0 0 1 0 1 0 1 0 0 1 0 1 0 0 0 0 0 0 0 1 0 1 1 1 1 0 1 0 0 1 0 0 0 0 0\n",
      " 0 1 1 0 0 1 0 1 1 1 1 0 0 0 1 0 1 0 0 1 0 0 0 1 1 0 0 1 0 1 1 1 0 1 0 0 0\n",
      " 0 0 0 0 1 0 0 1 0 1 0 1 1 0 0 0 1 0 0 1 0 0 0 1 0 0 0 1 0 0 0 0 1 0 1 1 0\n",
      " 0 0 1 1 1 0 0 1 0 0 1 0 1 1 0 1 1 0 1 1 0 0 0 0 0 0 0 0 0 0 0 0 0 1 0 0 1\n",
      " 0 1 1 1 1 0 0 1 0 1 0 0 1 1 1 1 0 0 0 1 1 1 1 0 0 0 0 1 0 0 0 0 0 0 0 0 0\n",
      " 0 0 0 0 0 0 0 0 1 1 1 0 0 1 0 1 0 0 0 1 0 1 0 1 0 0 0 1 1 1 0 1 0 0 0 1 0\n",
      " 0 1 1 0 1 1 1 0 1 1 0 0 1 0 0 1 1 1 1 0 0 1 0 0 0 1 1 0 0 0 1 0 0 0 0 0 0\n",
      " 0 0 1 1 0 1 1 0 1 0 1 0 1 0 0 0 1 0 1 1 0 0 0 0 1 0 1 1 0 0 0 0 0 0 0 0 1\n",
      " 1 0 0 1 1 0 1 0 0 0 1 0 1 0 0 0 0 0 1 0 0 1 0 1 1 0 0 0 0 1 0 0 0 0 0 0 0\n",
      " 0 0 0 0 0 1 1 0 0 1 0 1 0 0 1 0 0 0 1 0 0 0 0 1 0 0 1 1 1 1 0 1 0 0 1 1 1\n",
      " 0 1 1 1 0 0 0 0 0 0 0 0 1 1 1 1 0 0 1 0 0 1 0 0 1 0 1 0 1 1 1 0 0 0 1 0 0\n",
      " 0 1 0 0 0 0 0 0 1 0 0 1 1 0 1 0 1 0 0 0 1 0 0 0 0 0 0 0 1 1 1 0 0 0 0 0 0\n",
      " 0 0 1 1 1 0 0 0 0 1 1 0 1 0 0 0 1 1 1 0 1 0 0 0 0 0 0 0 0 0 0 0 0 0 1 0 1\n",
      " 1 0 0 0 0 1 0 0 0 1 0 1 0 1 1 1 0 0 0 0 0 0 1 1 1 0 0 1 1 1 0 1 0 1 0 0 1\n",
      " 0 0 0 1 1 0 0 1 0 0 1 0 1 0 0 1 0 1 0 1 0 0 1 0 0 1 0 0 0 0 1 1 0 1 1 1 0\n",
      " 1 0 1 0 0 1 0 1 0 1 0 0 1 0 0 1 0 1 1 0 1 0 0 0 1 0 1 0 0 0 0 0 0 0 0 0 1\n",
      " 0 0 0 1 0 1 1 1 1 0 1 1 0 0 1 0 1 0 0 1 0 0 1 1 1 1 0 1 0 0 0 1 0 1 0 0 0\n",
      " 0 0 0 0 1 0 0 1 0 0 1 0 1 0 0 1 1 0 0 0 0 0 0 0 0 0 1 0 0 0 1 0 0 1 0 1 0\n",
      " 1 0 1 1 1 0 0 1 0]\n"
     ]
    }
   ],
   "source": [
    "predict_train = model.predict(train_x)\n",
    "print('\\nTarget on train data',predict_train) "
   ]
  },
  {
   "cell_type": "code",
   "execution_count": null,
   "metadata": {
    "colab": {
     "base_uri": "https://localhost:8080/"
    },
    "id": "xtys0Tm5ZepE",
    "outputId": "19fa3899-5cb1-4896-9d84-4e24d5b00cd8"
   },
   "outputs": [
    {
     "name": "stdout",
     "output_type": "stream",
     "text": [
      "\n",
      "accuracy_score on train dataset :  0.949438202247191\n"
     ]
    }
   ],
   "source": [
    "accuracy_train = accuracy_score(train_y,predict_train)\n",
    "print('\\naccuracy_score on train dataset : ', accuracy_train)"
   ]
  },
  {
   "cell_type": "code",
   "execution_count": null,
   "metadata": {
    "colab": {
     "base_uri": "https://localhost:8080/"
    },
    "id": "0L0ok17vZhWE",
    "outputId": "c9a04905-6340-4c5a-b63f-c90893644a24"
   },
   "outputs": [
    {
     "name": "stdout",
     "output_type": "stream",
     "text": [
      "\n",
      "Target on test data [0 0 0 1 1 0 0 0 0 0 0 1 1 0 0 0 0 0 0 0 0 0 1 0 1 0 0 1 0 1 1 0 0 0 1 0 0\n",
      " 0 0 0 0 0 0 0 0 1 0 0 1 0 0 0 0 1 1 1 0 1 1 0 0 1 1 1 0 0 0 0 0 1 0 0 0 0\n",
      " 1 0 0 0 0 0 0 0 0 0 0 0 1 1 0 1 0 0 1 0 1 0 0 0 1 0 1 0 0 0 1 1 0 1 1 1 1\n",
      " 0 1 0 0 0 1 1 1 1 1 0 1 0 0 1 1 0 0 1 1 0 0 1 1 0 0 0 1 0 1 0 1 0 0 0 0 0\n",
      " 0 0 0 1 1 0 0 0 0 0 0 0 0 1 0 0 0 0 1 0 1 0 1 1 0 0 0 0 0 0 0]\n"
     ]
    }
   ],
   "source": [
    "predict_test = model.predict(test_x)\n",
    "print('\\nTarget on test data',predict_test) "
   ]
  },
  {
   "cell_type": "code",
   "execution_count": null,
   "metadata": {
    "colab": {
     "base_uri": "https://localhost:8080/"
    },
    "id": "z2NcJGviZirV",
    "outputId": "21f4d0c1-2be1-4145-daa3-1501f752762f"
   },
   "outputs": [
    {
     "name": "stdout",
     "output_type": "stream",
     "text": [
      "\n",
      "accuracy_score on test dataset :  0.8547486033519553\n"
     ]
    }
   ],
   "source": [
    "accuracy_test = accuracy_score(test_y,predict_test)\n",
    "print('\\naccuracy_score on test dataset : ', accuracy_test)"
   ]
  },
  {
   "cell_type": "markdown",
   "metadata": {
    "id": "E7PkuRfqZtwo"
   },
   "source": [
    "10.4. Catboost"
   ]
  },
  {
   "cell_type": "code",
   "execution_count": null,
   "metadata": {
    "colab": {
     "base_uri": "https://localhost:8080/"
    },
    "id": "XJIk91xsZvLz",
    "outputId": "4923e58c-e04e-426e-c337-cfd4e1385774"
   },
   "outputs": [
    {
     "name": "stdout",
     "output_type": "stream",
     "text": [
      "Collecting catboost\n",
      "  Downloading catboost-1.0.3-cp37-none-manylinux1_x86_64.whl (76.3 MB)\n",
      "\u001b[K     |████████████████████████████████| 76.3 MB 1.3 MB/s \n",
      "\u001b[?25hRequirement already satisfied: pandas>=0.24.0 in /usr/local/lib/python3.7/dist-packages (from catboost) (1.1.5)\n",
      "Requirement already satisfied: matplotlib in /usr/local/lib/python3.7/dist-packages (from catboost) (3.2.2)\n",
      "Requirement already satisfied: graphviz in /usr/local/lib/python3.7/dist-packages (from catboost) (0.10.1)\n",
      "Requirement already satisfied: six in /usr/local/lib/python3.7/dist-packages (from catboost) (1.15.0)\n",
      "Requirement already satisfied: numpy>=1.16.0 in /usr/local/lib/python3.7/dist-packages (from catboost) (1.19.5)\n",
      "Requirement already satisfied: plotly in /usr/local/lib/python3.7/dist-packages (from catboost) (4.4.1)\n",
      "Requirement already satisfied: scipy in /usr/local/lib/python3.7/dist-packages (from catboost) (1.4.1)\n",
      "Requirement already satisfied: pytz>=2017.2 in /usr/local/lib/python3.7/dist-packages (from pandas>=0.24.0->catboost) (2018.9)\n",
      "Requirement already satisfied: python-dateutil>=2.7.3 in /usr/local/lib/python3.7/dist-packages (from pandas>=0.24.0->catboost) (2.8.2)\n",
      "Requirement already satisfied: cycler>=0.10 in /usr/local/lib/python3.7/dist-packages (from matplotlib->catboost) (0.11.0)\n",
      "Requirement already satisfied: kiwisolver>=1.0.1 in /usr/local/lib/python3.7/dist-packages (from matplotlib->catboost) (1.3.2)\n",
      "Requirement already satisfied: pyparsing!=2.0.4,!=2.1.2,!=2.1.6,>=2.0.1 in /usr/local/lib/python3.7/dist-packages (from matplotlib->catboost) (3.0.6)\n",
      "Requirement already satisfied: retrying>=1.3.3 in /usr/local/lib/python3.7/dist-packages (from plotly->catboost) (1.3.3)\n",
      "Installing collected packages: catboost\n",
      "Successfully installed catboost-1.0.3\n"
     ]
    }
   ],
   "source": [
    "pip install catboost"
   ]
  },
  {
   "cell_type": "code",
   "execution_count": null,
   "metadata": {
    "id": "mtxAATg7ZzGv"
   },
   "outputs": [],
   "source": [
    "import pandas as pd\n",
    "import numpy as np\n",
    "from catboost import CatBoostClassifier #Main\n",
    "from sklearn.metrics import accuracy_score"
   ]
  },
  {
   "cell_type": "code",
   "execution_count": null,
   "metadata": {
    "id": "yx0wmQ-7Z3_D"
   },
   "outputs": [],
   "source": [
    "train_data = pd.read_csv('/content/sample_data/train-data2.csv')\n",
    "test_data = pd.read_csv('/content/sample_data/test-data2.csv')"
   ]
  },
  {
   "cell_type": "code",
   "execution_count": null,
   "metadata": {
    "colab": {
     "base_uri": "https://localhost:8080/"
    },
    "id": "PibYhzV2aACT",
    "outputId": "7249999a-91c2-43d1-f6da-a2dc9eaf0e9a"
   },
   "outputs": [
    {
     "name": "stdout",
     "output_type": "stream",
     "text": [
      "Shape of training data : (1176, 35)\n",
      "Shape of testing data : (294, 35)\n"
     ]
    }
   ],
   "source": [
    "print('Shape of training data :',train_data.shape)\n",
    "print('Shape of testing data :',test_data.shape)"
   ]
  },
  {
   "cell_type": "code",
   "execution_count": null,
   "metadata": {
    "id": "-GXpZFyxZkq2"
   },
   "outputs": [],
   "source": [
    "train_x = train_data.drop(columns=['Attrition'],axis=1)\n",
    "train_y = train_data['Attrition']"
   ]
  },
  {
   "cell_type": "code",
   "execution_count": null,
   "metadata": {
    "id": "PP0ATQVTaMjY"
   },
   "outputs": [],
   "source": [
    "test_x = test_data.drop(columns=['Attrition'],axis=1)\n",
    "test_y = test_data['Attrition']"
   ]
  },
  {
   "cell_type": "code",
   "execution_count": null,
   "metadata": {
    "colab": {
     "base_uri": "https://localhost:8080/"
    },
    "id": "Gq_dRrd2aN9K",
    "outputId": "b2ba1e00-eecc-40a7-f59a-8457f2ffc1a0"
   },
   "outputs": [
    {
     "name": "stdout",
     "output_type": "stream",
     "text": [
      "\n",
      "Categorical Variables indices :  [ 0  1  2  3  4  5  6  7  8  9 10 11 12 13 14 15 16 17 18 19 20 21 22 23\n",
      " 24 25 26 27 28 29 30 31 32 33]\n"
     ]
    }
   ],
   "source": [
    "categorical_var = np.where(train_x.dtypes != np.float)[0]\n",
    "print('\\nCategorical Variables indices : ',categorical_var)"
   ]
  },
  {
   "cell_type": "code",
   "execution_count": null,
   "metadata": {
    "colab": {
     "base_uri": "https://localhost:8080/"
    },
    "id": "wt1PHbjFaPJF",
    "outputId": "8702c3a9-6027-44b3-ba28-cd5203f971f0"
   },
   "outputs": [
    {
     "name": "stdout",
     "output_type": "stream",
     "text": [
      "\n",
      " Training CatBoost Model..........\n"
     ]
    }
   ],
   "source": [
    "print('\\n Training CatBoost Model..........')\n",
    "model = CatBoostClassifier(iterations=50)"
   ]
  },
  {
   "cell_type": "code",
   "execution_count": null,
   "metadata": {
    "colab": {
     "base_uri": "https://localhost:8080/"
    },
    "id": "_5cSK_c8aRt1",
    "outputId": "9f06311b-9646-4528-de2b-82a27833a544"
   },
   "outputs": [
    {
     "name": "stdout",
     "output_type": "stream",
     "text": [
      "Learning rate set to 0.172204\n",
      "0:\tlearn: 0.6028609\ttotal: 55.5ms\tremaining: 2.72s\n",
      "1:\tlearn: 0.5428621\ttotal: 59.7ms\tremaining: 1.43s\n",
      "2:\tlearn: 0.5018961\ttotal: 66ms\tremaining: 1.03s\n",
      "3:\tlearn: 0.4562355\ttotal: 77.6ms\tremaining: 892ms\n",
      "4:\tlearn: 0.4337903\ttotal: 85ms\tremaining: 765ms\n",
      "5:\tlearn: 0.4117519\ttotal: 92.4ms\tremaining: 677ms\n",
      "6:\tlearn: 0.3941772\ttotal: 99.5ms\tremaining: 611ms\n",
      "7:\tlearn: 0.3765734\ttotal: 106ms\tremaining: 558ms\n",
      "8:\tlearn: 0.3663712\ttotal: 112ms\tremaining: 509ms\n",
      "9:\tlearn: 0.3517369\ttotal: 117ms\tremaining: 469ms\n",
      "10:\tlearn: 0.3454326\ttotal: 123ms\tremaining: 436ms\n",
      "11:\tlearn: 0.3433598\ttotal: 125ms\tremaining: 396ms\n",
      "12:\tlearn: 0.3334597\ttotal: 132ms\tremaining: 376ms\n",
      "13:\tlearn: 0.3236337\ttotal: 138ms\tremaining: 355ms\n",
      "14:\tlearn: 0.3139081\ttotal: 144ms\tremaining: 336ms\n",
      "15:\tlearn: 0.3045607\ttotal: 150ms\tremaining: 318ms\n",
      "16:\tlearn: 0.2955388\ttotal: 156ms\tremaining: 303ms\n",
      "17:\tlearn: 0.2869364\ttotal: 162ms\tremaining: 288ms\n",
      "18:\tlearn: 0.2833813\ttotal: 168ms\tremaining: 274ms\n",
      "19:\tlearn: 0.2757368\ttotal: 174ms\tremaining: 261ms\n",
      "20:\tlearn: 0.2747201\ttotal: 178ms\tremaining: 245ms\n",
      "21:\tlearn: 0.2687348\ttotal: 184ms\tremaining: 234ms\n",
      "22:\tlearn: 0.2651255\ttotal: 195ms\tremaining: 228ms\n",
      "23:\tlearn: 0.2584641\ttotal: 201ms\tremaining: 218ms\n",
      "24:\tlearn: 0.2553888\ttotal: 207ms\tremaining: 207ms\n",
      "25:\tlearn: 0.2508095\ttotal: 214ms\tremaining: 197ms\n",
      "26:\tlearn: 0.2472911\ttotal: 220ms\tremaining: 187ms\n",
      "27:\tlearn: 0.2459396\ttotal: 225ms\tremaining: 177ms\n",
      "28:\tlearn: 0.2413008\ttotal: 231ms\tremaining: 167ms\n",
      "29:\tlearn: 0.2382361\ttotal: 237ms\tremaining: 158ms\n",
      "30:\tlearn: 0.2346784\ttotal: 242ms\tremaining: 149ms\n",
      "31:\tlearn: 0.2307883\ttotal: 248ms\tremaining: 140ms\n",
      "32:\tlearn: 0.2263057\ttotal: 254ms\tremaining: 131ms\n",
      "33:\tlearn: 0.2224747\ttotal: 260ms\tremaining: 122ms\n",
      "34:\tlearn: 0.2207120\ttotal: 266ms\tremaining: 114ms\n",
      "35:\tlearn: 0.2168637\ttotal: 272ms\tremaining: 106ms\n",
      "36:\tlearn: 0.2136101\ttotal: 278ms\tremaining: 97.6ms\n",
      "37:\tlearn: 0.2112578\ttotal: 284ms\tremaining: 89.5ms\n",
      "38:\tlearn: 0.2073264\ttotal: 289ms\tremaining: 81.6ms\n",
      "39:\tlearn: 0.2073111\ttotal: 291ms\tremaining: 72.9ms\n",
      "40:\tlearn: 0.2054230\ttotal: 297ms\tremaining: 65.2ms\n",
      "41:\tlearn: 0.2051986\ttotal: 303ms\tremaining: 57.7ms\n",
      "42:\tlearn: 0.2024051\ttotal: 309ms\tremaining: 50.2ms\n",
      "43:\tlearn: 0.1980064\ttotal: 314ms\tremaining: 42.8ms\n",
      "44:\tlearn: 0.1958278\ttotal: 320ms\tremaining: 35.5ms\n",
      "45:\tlearn: 0.1933148\ttotal: 327ms\tremaining: 28.4ms\n",
      "46:\tlearn: 0.1917611\ttotal: 333ms\tremaining: 21.2ms\n",
      "47:\tlearn: 0.1904644\ttotal: 338ms\tremaining: 14.1ms\n",
      "48:\tlearn: 0.1878339\ttotal: 344ms\tremaining: 7.02ms\n",
      "49:\tlearn: 0.1863225\ttotal: 350ms\tremaining: 0us\n",
      "\n",
      " Model Trainied\n"
     ]
    }
   ],
   "source": [
    "model.fit(train_x,train_y,cat_features = categorical_var,plot=False)\n",
    "print('\\n Model Trainied')"
   ]
  },
  {
   "cell_type": "code",
   "execution_count": null,
   "metadata": {
    "colab": {
     "base_uri": "https://localhost:8080/"
    },
    "id": "t5Dx6wlDaUZ1",
    "outputId": "0f76a1d9-5d78-455c-c5de-331b1befd135"
   },
   "outputs": [
    {
     "name": "stdout",
     "output_type": "stream",
     "text": [
      "\n",
      "Target on train data [0 0 0 ... 0 0 0]\n"
     ]
    }
   ],
   "source": [
    "predict_train = model.predict(train_x)\n",
    "print('\\nTarget on train data',predict_train) "
   ]
  },
  {
   "cell_type": "code",
   "execution_count": null,
   "metadata": {
    "colab": {
     "base_uri": "https://localhost:8080/"
    },
    "id": "tALMwK5iaWqS",
    "outputId": "d03c7b9c-700c-432c-b29c-19751e3df9df"
   },
   "outputs": [
    {
     "name": "stdout",
     "output_type": "stream",
     "text": [
      "\n",
      "accuracy_score on train dataset :  0.9141156462585034\n"
     ]
    }
   ],
   "source": [
    "accuracy_train = accuracy_score(train_y,predict_train)\n",
    "print('\\naccuracy_score on train dataset : ', accuracy_train)"
   ]
  },
  {
   "cell_type": "code",
   "execution_count": null,
   "metadata": {
    "colab": {
     "base_uri": "https://localhost:8080/"
    },
    "id": "ns8sZuf5aYf7",
    "outputId": "ceed56ee-e55a-4489-9c84-fb168b0be7f4"
   },
   "outputs": [
    {
     "name": "stdout",
     "output_type": "stream",
     "text": [
      "\n",
      "Target on test data [0 1 0 0 0 1 0 1 0 0 0 0 0 1 0 0 0 0 0 0 0 0 0 0 0 0 0 0 0 0 0 0 0 0 0 0 0\n",
      " 0 0 0 1 0 0 0 0 1 0 0 0 1 1 0 0 0 0 0 0 0 0 0 0 0 0 0 0 1 0 0 0 0 0 1 0 0\n",
      " 0 0 0 0 0 0 0 0 0 0 0 1 0 0 0 0 0 1 0 0 1 0 0 0 0 1 0 1 0 0 1 0 1 0 0 0 0\n",
      " 0 1 0 1 0 0 0 1 0 0 0 0 0 0 0 0 0 0 0 0 0 1 0 0 0 0 0 0 0 0 0 0 0 0 0 0 1\n",
      " 0 0 0 0 0 0 0 0 0 0 0 0 0 0 0 0 0 0 0 0 0 0 1 0 0 0 0 1 0 0 0 0 0 0 0 0 0\n",
      " 1 0 0 0 0 0 0 0 0 0 0 0 0 0 0 0 0 0 0 0 0 0 0 0 0 0 0 0 0 0 0 0 0 0 0 0 1\n",
      " 0 0 0 0 0 0 0 0 0 0 0 0 0 0 0 0 0 0 0 0 0 0 0 0 0 0 0 0 0 0 0 0 0 0 0 0 0\n",
      " 0 0 1 0 0 0 0 0 0 0 0 0 0 0 0 0 0 0 0 0 0 0 0 0 1 0 0 0 0 0 0 0 0 0 0]\n"
     ]
    }
   ],
   "source": [
    "predict_test = model.predict(test_x)\n",
    "print('\\nTarget on test data',predict_test) "
   ]
  },
  {
   "cell_type": "code",
   "execution_count": null,
   "metadata": {
    "colab": {
     "base_uri": "https://localhost:8080/"
    },
    "id": "HS_gWvKXaZos",
    "outputId": "b2cd028d-3571-45b7-c865-b8f98ca5a672"
   },
   "outputs": [
    {
     "name": "stdout",
     "output_type": "stream",
     "text": [
      "\n",
      "accuracy_score on test dataset :  0.8605442176870748\n"
     ]
    }
   ],
   "source": [
    "accuracy_test = accuracy_score(test_y,predict_test)\n",
    "print('\\naccuracy_score on test dataset : ', accuracy_test)"
   ]
  },
  {
   "cell_type": "markdown",
   "metadata": {
    "id": "LutDb9Dya1ll"
   },
   "source": []
  }
 ],
 "metadata": {
  "colab": {
   "collapsed_sections": [],
   "name": "24_Commonly_used_Machine_Learning_Algorithms_(with_Python).ipynb",
   "provenance": []
  },
  "kernelspec": {
   "display_name": "Python 3",
   "language": "python",
   "name": "python3"
  },
  "language_info": {
   "codemirror_mode": {
    "name": "ipython",
    "version": 3
   },
   "file_extension": ".py",
   "mimetype": "text/x-python",
   "name": "python",
   "nbconvert_exporter": "python",
   "pygments_lexer": "ipython3",
   "version": "3.6.13"
  }
 },
 "nbformat": 4,
 "nbformat_minor": 1
}
