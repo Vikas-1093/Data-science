{
  "nbformat": 4,
  "nbformat_minor": 0,
  "metadata": {
    "colab": {
      "name": "PG Lab FDS S2 Numpy-20/08/2021.ipynb",
      "provenance": [],
      "collapsed_sections": [],
      "authorship_tag": "ABX9TyOlWqHOsCF8ZDUvNYXM7/eY",
      "include_colab_link": true
    },
    "kernelspec": {
      "name": "python3",
      "display_name": "Python 3"
    },
    "language_info": {
      "name": "python"
    }
  },
  "cells": [
    {
      "cell_type": "markdown",
      "metadata": {
        "id": "view-in-github",
        "colab_type": "text"
      },
      "source": [
        "<a href=\"https://colab.research.google.com/github/Vikas-1093/Data-science/blob/main/23_PG_Lab_FDS_S2Numpy.ipynb\" target=\"_parent\"><img src=\"https://colab.research.google.com/assets/colab-badge.svg\" alt=\"Open In Colab\"/></a>"
      ]
    },
    {
      "cell_type": "markdown",
      "metadata": {
        "id": "nytxQgdhSf-K"
      },
      "source": [
        "**Array**"
      ]
    },
    {
      "cell_type": "code",
      "metadata": {
        "colab": {
          "base_uri": "https://localhost:8080/"
        },
        "id": "NWv8M-IsagwG",
        "outputId": "42cfb7d3-9abf-4a5b-b038-22e2f7acca3a"
      },
      "source": [
        "list1=[]\n",
        "list1"
      ],
      "execution_count": null,
      "outputs": [
        {
          "output_type": "execute_result",
          "data": {
            "text/plain": [
              "[]"
            ]
          },
          "metadata": {},
          "execution_count": 1
        }
      ]
    },
    {
      "cell_type": "code",
      "metadata": {
        "colab": {
          "base_uri": "https://localhost:8080/"
        },
        "id": "4zvDHE-Rcqi_",
        "outputId": "9268d012-c322-4438-af1a-79269a6e713d"
      },
      "source": [
        "type(list1)"
      ],
      "execution_count": null,
      "outputs": [
        {
          "output_type": "execute_result",
          "data": {
            "text/plain": [
              "list"
            ]
          },
          "metadata": {},
          "execution_count": 2
        }
      ]
    },
    {
      "cell_type": "code",
      "metadata": {
        "colab": {
          "base_uri": "https://localhost:8080/"
        },
        "id": "dv0T6G9ac1Rp",
        "outputId": "f26a93dd-8415-4a22-b0ff-57168f8dfb4c"
      },
      "source": [
        "list2=list(range(10))\n",
        "list2"
      ],
      "execution_count": null,
      "outputs": [
        {
          "output_type": "execute_result",
          "data": {
            "text/plain": [
              "[0, 1, 2, 3, 4, 5, 6, 7, 8, 9]"
            ]
          },
          "metadata": {},
          "execution_count": 4
        }
      ]
    },
    {
      "cell_type": "code",
      "metadata": {
        "colab": {
          "base_uri": "https://localhost:8080/"
        },
        "id": "uVd7VGXVduf-",
        "outputId": "3f161c91-0851-4d35-d39f-736dc54aea02"
      },
      "source": [
        "list3 = [str(c) for c in list2]\n",
        "list3"
      ],
      "execution_count": null,
      "outputs": [
        {
          "output_type": "execute_result",
          "data": {
            "text/plain": [
              "['0', '1', '2', '3', '4', '5', '6', '7', '8', '9']"
            ]
          },
          "metadata": {},
          "execution_count": 5
        }
      ]
    },
    {
      "cell_type": "code",
      "metadata": {
        "colab": {
          "base_uri": "https://localhost:8080/"
        },
        "id": "8KBug8AteE4O",
        "outputId": "bcff8b7d-357c-424d-9594-5ccf92ae7d20"
      },
      "source": [
        "list4=[1, 10.2 , 'c', 'Amit', True]\n",
        "list4"
      ],
      "execution_count": null,
      "outputs": [
        {
          "output_type": "execute_result",
          "data": {
            "text/plain": [
              "[1, 10.2, 'c', 'Amit', True]"
            ]
          },
          "metadata": {},
          "execution_count": 6
        }
      ]
    },
    {
      "cell_type": "code",
      "metadata": {
        "colab": {
          "base_uri": "https://localhost:8080/"
        },
        "id": "3T9MurBSe5Q6",
        "outputId": "c7a6f52a-157b-46df-fb38-64d2ae7018fc"
      },
      "source": [
        "type(list4)"
      ],
      "execution_count": null,
      "outputs": [
        {
          "output_type": "execute_result",
          "data": {
            "text/plain": [
              "list"
            ]
          },
          "metadata": {},
          "execution_count": 7
        }
      ]
    },
    {
      "cell_type": "code",
      "metadata": {
        "colab": {
          "base_uri": "https://localhost:8080/"
        },
        "id": "VZOceXu3fDuX",
        "outputId": "f3e6a977-7377-44d9-98f1-92ad8865c792"
      },
      "source": [
        "[type(Item) for Item in list4]"
      ],
      "execution_count": null,
      "outputs": [
        {
          "output_type": "execute_result",
          "data": {
            "text/plain": [
              "[int, float, str, str, bool]"
            ]
          },
          "metadata": {},
          "execution_count": 9
        }
      ]
    },
    {
      "cell_type": "code",
      "metadata": {
        "id": "mWuS1jcuiQjV"
      },
      "source": [
        "import array"
      ],
      "execution_count": null,
      "outputs": []
    },
    {
      "cell_type": "code",
      "metadata": {
        "colab": {
          "base_uri": "https://localhost:8080/"
        },
        "id": "bPbBbbW4iXE_",
        "outputId": "f7f1fc12-6e8b-4add-9c9d-d456dda818eb"
      },
      "source": [
        "L = list(range(10))\n",
        "A = array.array('i', L)\n",
        "A"
      ],
      "execution_count": null,
      "outputs": [
        {
          "output_type": "execute_result",
          "data": {
            "text/plain": [
              "array('i', [0, 1, 2, 3, 4, 5, 6, 7, 8, 9])"
            ]
          },
          "metadata": {},
          "execution_count": 11
        }
      ]
    },
    {
      "cell_type": "code",
      "metadata": {
        "id": "3yfUYlRclzhj"
      },
      "source": [
        "import numpy as np\n"
      ],
      "execution_count": null,
      "outputs": []
    },
    {
      "cell_type": "code",
      "metadata": {
        "colab": {
          "base_uri": "https://localhost:8080/"
        },
        "id": "BYnkXACgl3J6",
        "outputId": "20547009-4e4f-4c24-819f-c463147d9cd3"
      },
      "source": [
        "np.array([1, 4, 2, 5, 3])"
      ],
      "execution_count": null,
      "outputs": [
        {
          "output_type": "execute_result",
          "data": {
            "text/plain": [
              "array([1, 4, 2, 5, 3])"
            ]
          },
          "metadata": {},
          "execution_count": 13
        }
      ]
    },
    {
      "cell_type": "code",
      "metadata": {
        "colab": {
          "base_uri": "https://localhost:8080/"
        },
        "id": "ORovwDpKl8D5",
        "outputId": "24e14b2e-eeaf-4b68-e062-2d9c48014cb8"
      },
      "source": [
        "np.array([10.1,2,3,4])\n"
      ],
      "execution_count": null,
      "outputs": [
        {
          "output_type": "execute_result",
          "data": {
            "text/plain": [
              "array([10.1,  2. ,  3. ,  4. ])"
            ]
          },
          "metadata": {},
          "execution_count": 14
        }
      ]
    },
    {
      "cell_type": "code",
      "metadata": {
        "colab": {
          "base_uri": "https://localhost:8080/"
        },
        "id": "nHb-AgNEl_6k",
        "outputId": "dce1711f-1666-489c-9658-5b40c14645fc"
      },
      "source": [
        "np.array([1, 2, 3, 4], dtype='float32')"
      ],
      "execution_count": null,
      "outputs": [
        {
          "output_type": "execute_result",
          "data": {
            "text/plain": [
              "array([1., 2., 3., 4.], dtype=float32)"
            ]
          },
          "metadata": {},
          "execution_count": 15
        }
      ]
    },
    {
      "cell_type": "code",
      "metadata": {
        "colab": {
          "base_uri": "https://localhost:8080/"
        },
        "id": "oy0W5JvZmFAg",
        "outputId": "d1fd156f-55a1-404a-ddd1-10e5c110dffe"
      },
      "source": [
        "np.array([range(i, i + 3) for i in [2, 4, 6]])"
      ],
      "execution_count": null,
      "outputs": [
        {
          "output_type": "execute_result",
          "data": {
            "text/plain": [
              "array([[2, 3, 4],\n",
              "       [4, 5, 6],\n",
              "       [6, 7, 8]])"
            ]
          },
          "metadata": {},
          "execution_count": 16
        }
      ]
    },
    {
      "cell_type": "code",
      "metadata": {
        "colab": {
          "base_uri": "https://localhost:8080/"
        },
        "id": "JorapedHmJRt",
        "outputId": "617935b9-f899-49f7-e32e-09beb1a39b71"
      },
      "source": [
        "np.zeros(10, dtype=int)"
      ],
      "execution_count": null,
      "outputs": [
        {
          "output_type": "execute_result",
          "data": {
            "text/plain": [
              "array([0, 0, 0, 0, 0, 0, 0, 0, 0, 0])"
            ]
          },
          "metadata": {},
          "execution_count": 17
        }
      ]
    },
    {
      "cell_type": "code",
      "metadata": {
        "colab": {
          "base_uri": "https://localhost:8080/"
        },
        "id": "UIh4UATvmeho",
        "outputId": "b7b0f518-c843-4408-cb3d-7527389733cb"
      },
      "source": [
        "np.zeros((2,5), dtype=float)"
      ],
      "execution_count": null,
      "outputs": [
        {
          "output_type": "execute_result",
          "data": {
            "text/plain": [
              "array([[0., 0., 0., 0., 0.],\n",
              "       [0., 0., 0., 0., 0.]])"
            ]
          },
          "metadata": {},
          "execution_count": 18
        }
      ]
    },
    {
      "cell_type": "code",
      "metadata": {
        "colab": {
          "base_uri": "https://localhost:8080/"
        },
        "id": "zmKQ7oFmmwXo",
        "outputId": "246e7851-43a8-4f14-a573-10d8ef90430e"
      },
      "source": [
        "np.zeros((2,5),dtype=float)"
      ],
      "execution_count": null,
      "outputs": [
        {
          "output_type": "execute_result",
          "data": {
            "text/plain": [
              "array([[0., 0., 0., 0., 0.],\n",
              "       [0., 0., 0., 0., 0.]])"
            ]
          },
          "metadata": {},
          "execution_count": 19
        }
      ]
    },
    {
      "cell_type": "code",
      "metadata": {
        "colab": {
          "base_uri": "https://localhost:8080/"
        },
        "id": "MC968UF6nqJn",
        "outputId": "e377ff2c-8bdf-4db6-b2c2-0f44b1b5f3a5"
      },
      "source": [
        "np.arange(0, 20, 3)\n"
      ],
      "execution_count": null,
      "outputs": [
        {
          "output_type": "execute_result",
          "data": {
            "text/plain": [
              "array([ 0,  3,  6,  9, 12, 15, 18])"
            ]
          },
          "metadata": {},
          "execution_count": 20
        }
      ]
    },
    {
      "cell_type": "code",
      "metadata": {
        "colab": {
          "base_uri": "https://localhost:8080/"
        },
        "id": "ul1HnoU_ohiT",
        "outputId": "51c8eaca-e103-4f21-da5d-d94f414a72d2"
      },
      "source": [
        "np.full((3, 5), 3.0)"
      ],
      "execution_count": null,
      "outputs": [
        {
          "output_type": "execute_result",
          "data": {
            "text/plain": [
              "array([[3., 3., 3., 3., 3.],\n",
              "       [3., 3., 3., 3., 3.],\n",
              "       [3., 3., 3., 3., 3.]])"
            ]
          },
          "metadata": {},
          "execution_count": 21
        }
      ]
    },
    {
      "cell_type": "code",
      "metadata": {
        "colab": {
          "base_uri": "https://localhost:8080/"
        },
        "id": "i64uODWGpVo_",
        "outputId": "ef86ae11-1466-4f64-82fb-b7892c06bbe1"
      },
      "source": [
        "np.linspace(0, 1, 10)"
      ],
      "execution_count": null,
      "outputs": [
        {
          "output_type": "execute_result",
          "data": {
            "text/plain": [
              "array([0.        , 0.11111111, 0.22222222, 0.33333333, 0.44444444,\n",
              "       0.55555556, 0.66666667, 0.77777778, 0.88888889, 1.        ])"
            ]
          },
          "metadata": {},
          "execution_count": 22
        }
      ]
    },
    {
      "cell_type": "code",
      "metadata": {
        "colab": {
          "base_uri": "https://localhost:8080/"
        },
        "id": "WiQakXtppbJL",
        "outputId": "49a5690e-fbd2-4074-8c9f-462334e8c06d"
      },
      "source": [
        "np.random.random((3, 4))"
      ],
      "execution_count": null,
      "outputs": [
        {
          "output_type": "execute_result",
          "data": {
            "text/plain": [
              "array([[0.17219267, 0.52606061, 0.6159208 , 0.2647451 ],\n",
              "       [0.17059742, 0.33184675, 0.15440634, 0.07372501],\n",
              "       [0.63031685, 0.24819881, 0.82257359, 0.29436069]])"
            ]
          },
          "metadata": {},
          "execution_count": 23
        }
      ]
    },
    {
      "cell_type": "code",
      "metadata": {
        "colab": {
          "base_uri": "https://localhost:8080/"
        },
        "id": "UNu0jClfp3wo",
        "outputId": "2e90450e-0c6c-481d-d677-25ccdfe669aa"
      },
      "source": [
        "np.random.normal(0, 1, (3, 3))"
      ],
      "execution_count": null,
      "outputs": [
        {
          "output_type": "execute_result",
          "data": {
            "text/plain": [
              "array([[ 0.34677857, -1.27737112, -0.14809706],\n",
              "       [-0.50910601,  0.26895082, -0.33367755],\n",
              "       [ 0.36914844,  0.21546951, -2.18621472]])"
            ]
          },
          "metadata": {},
          "execution_count": 24
        }
      ]
    },
    {
      "cell_type": "code",
      "metadata": {
        "colab": {
          "base_uri": "https://localhost:8080/"
        },
        "id": "ngJA81nDqGoV",
        "outputId": "45e789cc-b668-4cc0-dab8-b70e2a38d22d"
      },
      "source": [
        "np.random.randint(0, 10, (3, 3))"
      ],
      "execution_count": null,
      "outputs": [
        {
          "output_type": "execute_result",
          "data": {
            "text/plain": [
              "array([[9, 2, 4],\n",
              "       [5, 8, 1],\n",
              "       [2, 8, 0]])"
            ]
          },
          "metadata": {},
          "execution_count": 25
        }
      ]
    },
    {
      "cell_type": "code",
      "metadata": {
        "colab": {
          "base_uri": "https://localhost:8080/"
        },
        "id": "2y76WGqvqWlf",
        "outputId": "b56fd71e-bb67-4175-8c42-8cc24d43edd5"
      },
      "source": [
        "np.eye(3)"
      ],
      "execution_count": null,
      "outputs": [
        {
          "output_type": "execute_result",
          "data": {
            "text/plain": [
              "array([[1., 0., 0.],\n",
              "       [0., 1., 0.],\n",
              "       [0., 0., 1.]])"
            ]
          },
          "metadata": {},
          "execution_count": 26
        }
      ]
    },
    {
      "cell_type": "code",
      "metadata": {
        "colab": {
          "base_uri": "https://localhost:8080/"
        },
        "id": "Vu3MMgKXqp4j",
        "outputId": "5698a8b2-c062-480e-c824-e2fd8037ab90"
      },
      "source": [
        "np.empty(3)"
      ],
      "execution_count": null,
      "outputs": [
        {
          "output_type": "execute_result",
          "data": {
            "text/plain": [
              "array([1., 1., 1.])"
            ]
          },
          "metadata": {},
          "execution_count": 27
        }
      ]
    },
    {
      "cell_type": "code",
      "metadata": {
        "id": "JBq5cjs-sQ4V"
      },
      "source": [
        "import numpy as np"
      ],
      "execution_count": null,
      "outputs": []
    },
    {
      "cell_type": "code",
      "metadata": {
        "id": "2J9sNqDIsWQ5"
      },
      "source": [
        "np.random.seed(40)"
      ],
      "execution_count": null,
      "outputs": []
    },
    {
      "cell_type": "code",
      "metadata": {
        "id": "k-f-F425sX7o"
      },
      "source": [
        "x1 = np.random.randint(10, size=6)"
      ],
      "execution_count": null,
      "outputs": []
    },
    {
      "cell_type": "code",
      "metadata": {
        "colab": {
          "base_uri": "https://localhost:8080/"
        },
        "id": "1FJjq4EFsd3A",
        "outputId": "30effa51-4218-48a8-c234-90919678f9ae"
      },
      "source": [
        "x1"
      ],
      "execution_count": null,
      "outputs": [
        {
          "output_type": "execute_result",
          "data": {
            "text/plain": [
              "array([6, 7, 5, 8, 8, 2])"
            ]
          },
          "metadata": {},
          "execution_count": 31
        }
      ]
    },
    {
      "cell_type": "code",
      "metadata": {
        "colab": {
          "base_uri": "https://localhost:8080/"
        },
        "id": "s6Iviv9hs92s",
        "outputId": "7384189c-4a3b-4fc3-a5a2-ec5c60cd41c4"
      },
      "source": [
        "#Seed 100    200       5  6   7\n",
        "np.random.seed(100)\n",
        "x2 = np.random.randint(200, size=(5,6,7))\n",
        "x2"
      ],
      "execution_count": null,
      "outputs": [
        {
          "output_type": "execute_result",
          "data": {
            "text/plain": [
              "array([[[  8,  24,  67, 103,  87,  79, 176],\n",
              "        [138,  94, 180,  98,  53,  66,  14],\n",
              "        [ 34,  24, 143, 107,  60,  58, 144],\n",
              "        [137,  93,  86, 130, 155, 108, 132],\n",
              "        [159, 129, 141, 100,   4,  91, 187],\n",
              "        [ 67, 135,  49, 175, 193,  61,  14]],\n",
              "\n",
              "       [[183, 199,  80,   2, 121, 105, 147],\n",
              "        [ 63, 181,  27,  56, 113, 158, 176],\n",
              "        [ 47, 167, 109,  38, 172,  18, 192],\n",
              "        [184, 162, 181,  17,  72,  13, 106],\n",
              "        [ 30,  17,  53,  68, 178,  91, 181],\n",
              "        [ 78,   0,  13, 185, 106, 131,  70]],\n",
              "\n",
              "       [[131, 138, 188, 131, 105, 176, 180],\n",
              "        [ 43,  36,   5,  71,  38,  94, 170],\n",
              "        [ 84,  95, 114, 119,  76,  33,  58],\n",
              "        [102, 170, 150,   0, 183, 147,  53],\n",
              "        [196, 190,  50, 196, 163, 151,   9],\n",
              "        [176,  21, 153, 182,   6, 165, 102]],\n",
              "\n",
              "       [[122, 116, 186,  39, 107,  51,  30],\n",
              "        [121,  66, 152, 183,  17,  45,  89],\n",
              "        [173,  35,  16,  12,  86, 109,  67],\n",
              "        [ 20, 138,   8, 158, 140, 146,  93],\n",
              "        [119,  92,  44,  57, 127,   0,  73],\n",
              "        [182,  66, 144, 133, 179,  90,  34]],\n",
              "\n",
              "       [[195,  94, 182,  77, 129,  14, 115],\n",
              "        [ 33, 148, 168,  24, 186,  28, 135],\n",
              "        [  2,  63, 113, 130, 145,  74, 181],\n",
              "        [ 30,  67, 156, 165,  82, 145, 138],\n",
              "        [141,  81, 117,  25, 194, 143, 108],\n",
              "        [122,  11, 101,  38, 116,  22,  55]]])"
            ]
          },
          "metadata": {},
          "execution_count": 32
        }
      ]
    },
    {
      "cell_type": "code",
      "metadata": {
        "colab": {
          "base_uri": "https://localhost:8080/"
        },
        "id": "8zy1ANNgttuA",
        "outputId": "859b47ac-db0f-41b6-8822-37eb0dc53553"
      },
      "source": [
        "np.random.seed(100)\n",
        "x2 = np.random.randint(200, size=(2,2,3))\n",
        "x2"
      ],
      "execution_count": null,
      "outputs": [
        {
          "output_type": "execute_result",
          "data": {
            "text/plain": [
              "array([[[  8,  24,  67],\n",
              "        [103,  87,  79]],\n",
              "\n",
              "       [[176, 138,  94],\n",
              "        [180,  98,  53]]])"
            ]
          },
          "metadata": {},
          "execution_count": 33
        }
      ]
    },
    {
      "cell_type": "code",
      "metadata": {
        "colab": {
          "base_uri": "https://localhost:8080/"
        },
        "id": "NhrSK4kruCRc",
        "outputId": "8e8a704c-45bd-4d7b-cde4-1b683d18f80e"
      },
      "source": [
        "np.random.seed(100)\n",
        "x2 = np.random.randint(200, size=(4,2,2,3))\n",
        "x2"
      ],
      "execution_count": null,
      "outputs": [
        {
          "output_type": "execute_result",
          "data": {
            "text/plain": [
              "array([[[[  8,  24,  67],\n",
              "         [103,  87,  79]],\n",
              "\n",
              "        [[176, 138,  94],\n",
              "         [180,  98,  53]]],\n",
              "\n",
              "\n",
              "       [[[ 66,  14,  34],\n",
              "         [ 24, 143, 107]],\n",
              "\n",
              "        [[ 60,  58, 144],\n",
              "         [137,  93,  86]]],\n",
              "\n",
              "\n",
              "       [[[130, 155, 108],\n",
              "         [132, 159, 129]],\n",
              "\n",
              "        [[141, 100,   4],\n",
              "         [ 91, 187,  67]]],\n",
              "\n",
              "\n",
              "       [[[135,  49, 175],\n",
              "         [193,  61,  14]],\n",
              "\n",
              "        [[183, 199,  80],\n",
              "         [  2, 121, 105]]]])"
            ]
          },
          "metadata": {},
          "execution_count": 34
        }
      ]
    },
    {
      "cell_type": "code",
      "metadata": {
        "colab": {
          "base_uri": "https://localhost:8080/"
        },
        "id": "Y7ZAVAsIvzYK",
        "outputId": "e01282f9-1dc4-47e0-a088-0b467fc60fe1"
      },
      "source": [
        "np.random.seed(100)\n",
        "x2 = np.random.randint(200, size=(5,4,6,7))\n",
        "x2"
      ],
      "execution_count": null,
      "outputs": [
        {
          "output_type": "execute_result",
          "data": {
            "text/plain": [
              "array([[[[  8,  24,  67, 103,  87,  79, 176],\n",
              "         [138,  94, 180,  98,  53,  66,  14],\n",
              "         [ 34,  24, 143, 107,  60,  58, 144],\n",
              "         [137,  93,  86, 130, 155, 108, 132],\n",
              "         [159, 129, 141, 100,   4,  91, 187],\n",
              "         [ 67, 135,  49, 175, 193,  61,  14]],\n",
              "\n",
              "        [[183, 199,  80,   2, 121, 105, 147],\n",
              "         [ 63, 181,  27,  56, 113, 158, 176],\n",
              "         [ 47, 167, 109,  38, 172,  18, 192],\n",
              "         [184, 162, 181,  17,  72,  13, 106],\n",
              "         [ 30,  17,  53,  68, 178,  91, 181],\n",
              "         [ 78,   0,  13, 185, 106, 131,  70]],\n",
              "\n",
              "        [[131, 138, 188, 131, 105, 176, 180],\n",
              "         [ 43,  36,   5,  71,  38,  94, 170],\n",
              "         [ 84,  95, 114, 119,  76,  33,  58],\n",
              "         [102, 170, 150,   0, 183, 147,  53],\n",
              "         [196, 190,  50, 196, 163, 151,   9],\n",
              "         [176,  21, 153, 182,   6, 165, 102]],\n",
              "\n",
              "        [[122, 116, 186,  39, 107,  51,  30],\n",
              "         [121,  66, 152, 183,  17,  45,  89],\n",
              "         [173,  35,  16,  12,  86, 109,  67],\n",
              "         [ 20, 138,   8, 158, 140, 146,  93],\n",
              "         [119,  92,  44,  57, 127,   0,  73],\n",
              "         [182,  66, 144, 133, 179,  90,  34]]],\n",
              "\n",
              "\n",
              "       [[[195,  94, 182,  77, 129,  14, 115],\n",
              "         [ 33, 148, 168,  24, 186,  28, 135],\n",
              "         [  2,  63, 113, 130, 145,  74, 181],\n",
              "         [ 30,  67, 156, 165,  82, 145, 138],\n",
              "         [141,  81, 117,  25, 194, 143, 108],\n",
              "         [122,  11, 101,  38, 116,  22,  55]],\n",
              "\n",
              "        [[ 57,  87, 179, 176, 181, 145, 193],\n",
              "         [ 42,  93, 172, 144,  51, 182, 183],\n",
              "         [ 83, 100,  42, 189,  37, 112, 113],\n",
              "         [ 99,   2,  62,  99,  16,  70,  53],\n",
              "         [175, 176, 137, 177,  53, 111, 162],\n",
              "         [131, 102, 139,  49,  29,  36,  93]],\n",
              "\n",
              "        [[195, 154, 113,  52, 164, 159,  85],\n",
              "         [ 92, 115, 126,  68, 119,  71,  61],\n",
              "         [ 93,  36, 123,  42,  13,  48,  32],\n",
              "         [ 38,  40, 181,  93, 142,  38, 116],\n",
              "         [165, 128, 104, 187, 104, 101,  41],\n",
              "         [172, 147,  66, 141,  87,  65,  68]],\n",
              "\n",
              "        [[182, 128,  87,  83,  10,  65, 130],\n",
              "         [ 39,  36,  35,  99,  26, 147, 132],\n",
              "         [ 39,  74,  52, 172, 141, 161, 143],\n",
              "         [145,  88, 151,  59,   8, 168,  77],\n",
              "         [ 47, 173,  25, 112, 159,  10,  38],\n",
              "         [101,  60, 145,  15,  85, 117, 147]]],\n",
              "\n",
              "\n",
              "       [[[148, 131, 101, 187,  11, 112,  48],\n",
              "         [134, 145, 105, 186,   0, 179, 121],\n",
              "         [123, 158, 110,  27,  70, 181, 101],\n",
              "         [167, 179,  45,  39,  88, 178, 174],\n",
              "         [ 60, 197,  80, 121,  34,  16,  47],\n",
              "         [127, 131, 119, 115,   5, 194,  64]],\n",
              "\n",
              "        [[ 45, 187, 137, 141,  67, 126,  79],\n",
              "         [ 82,  84,  79, 141,  75,  49,  88],\n",
              "         [ 81,  39, 124,  38, 165,  88, 147],\n",
              "         [155,  21,   0,  73, 129,  36, 179],\n",
              "         [ 33,  96,  86, 154, 121,  86, 134],\n",
              "         [131,  28,  35, 159,  19, 180, 169]],\n",
              "\n",
              "        [[122,  50,  46,  71,  49, 178,  77],\n",
              "         [186,  76,  99,   2, 121,  61,  60],\n",
              "         [146,  35, 130,  55,  96,  63,  70],\n",
              "         [153, 126, 107, 184, 186,  82,  76],\n",
              "         [188,  17,  33, 194,  18,  66, 164],\n",
              "         [113,   7, 100, 190, 129,  77, 185]],\n",
              "\n",
              "        [[158,  92, 144,  96,  20, 163,  82],\n",
              "         [ 23, 170,  99,   7,  77,  47,  18],\n",
              "         [ 43,  87,  92,   1,  91,  41, 150],\n",
              "         [ 77, 176,  89, 111, 187, 137, 197],\n",
              "         [ 50,  62, 170, 199,  49,  14,  90],\n",
              "         [  1, 135,  63, 120,  47, 113, 104]]],\n",
              "\n",
              "\n",
              "       [[[185,  26,  82, 144,  51,  87,  10],\n",
              "         [196, 167,  98, 128,   1, 132,  58],\n",
              "         [169,   6,  37,  84,  37,  41, 165],\n",
              "         [195, 175, 160,  32, 150,  28,  56],\n",
              "         [ 86, 166, 129, 177,  91, 199, 109],\n",
              "         [ 44, 184,  14,   5,  96, 184,  27]],\n",
              "\n",
              "        [[ 94,  14, 170,  92, 113,  87, 124],\n",
              "         [ 29,  81, 178, 197,   7,   4, 194],\n",
              "         [ 19,  86,  82,  98, 180,  83,  76],\n",
              "         [139,  37,  79, 123, 137,  11,  30],\n",
              "         [197, 193,  51, 154, 183, 115,  37],\n",
              "         [ 36,  39,  82, 131,  33, 165,  41]],\n",
              "\n",
              "        [[ 53,   6, 112,  14, 126,  18,  18],\n",
              "         [127,  94, 147,  84,  15,  77,  25],\n",
              "         [ 47, 165,  57,  26, 110, 187,  53],\n",
              "         [174,  47,  86, 113,  45, 188, 172],\n",
              "         [136,  93, 135, 181,  36, 192, 162],\n",
              "         [  4, 140, 168,  34,  93, 123,  15]],\n",
              "\n",
              "        [[140,  85, 151,  67, 111,  60,  79],\n",
              "         [137,  63, 183,  72, 144, 127, 154],\n",
              "         [ 27,  88, 162, 151,  58, 140, 172],\n",
              "         [182, 135, 100, 179,  82, 169,  29],\n",
              "         [ 75,  70, 142,   9,  78, 150, 155],\n",
              "         [ 55, 130, 111,  20, 127, 174,  58]]],\n",
              "\n",
              "\n",
              "       [[[  7,  60, 128, 193, 194,  20, 192],\n",
              "         [ 78,  67, 136,  99, 140, 123,  95],\n",
              "         [148,  37, 168,  82,  27, 139,  71],\n",
              "         [ 36,  47, 190, 102, 147,  38, 163],\n",
              "         [129,  95,  46,  52, 115,  92, 141],\n",
              "         [150,  83,  75,  11,  31, 166,  49]],\n",
              "\n",
              "        [[144,  44, 123,  35,  58, 148, 165],\n",
              "         [ 63,   3,  64, 198, 128, 104, 188],\n",
              "         [144, 199,  88,  61,  89,  42,  66],\n",
              "         [ 59, 124, 150,  27,  53,  68, 161],\n",
              "         [ 95,  85,  69, 100, 116, 155,  36],\n",
              "         [ 66,  78,  71,   1, 105,  63,  59]],\n",
              "\n",
              "        [[111, 187,  67,  95,  22, 154,  56],\n",
              "         [ 47, 181, 177,  81,  93, 113,  54],\n",
              "         [102, 191,  25, 121, 163, 126, 193],\n",
              "         [ 18,  26, 108,  71,  31, 117,  12],\n",
              "         [ 86,  35, 184,  51,  84, 123,   2],\n",
              "         [108,  21, 160,  64,  78, 145,  49]],\n",
              "\n",
              "        [[145,  52, 132,  31,  49, 153,  61],\n",
              "         [103, 129, 109,  13,  23,  33,  99],\n",
              "         [137, 110,  35, 197, 123,  84,  54],\n",
              "         [ 27, 195,  37,  32,  46, 108,  80],\n",
              "         [132, 132,  26,  60, 187,  99,  68],\n",
              "         [151, 172, 152,  74,  31,  76, 111]]]])"
            ]
          },
          "metadata": {},
          "execution_count": 37
        }
      ]
    },
    {
      "cell_type": "code",
      "metadata": {
        "colab": {
          "base_uri": "https://localhost:8080/"
        },
        "id": "g_LQaxVTv9Pe",
        "outputId": "f64d8a17-c3b1-4d7d-cdba-05f8fcdc2e5f"
      },
      "source": [
        "x2.shape"
      ],
      "execution_count": null,
      "outputs": [
        {
          "output_type": "execute_result",
          "data": {
            "text/plain": [
              "(5, 4, 6, 7)"
            ]
          },
          "metadata": {},
          "execution_count": 38
        }
      ]
    },
    {
      "cell_type": "code",
      "metadata": {
        "colab": {
          "base_uri": "https://localhost:8080/"
        },
        "id": "U9--ro_MwZh9",
        "outputId": "fa091fd1-da4b-4bd9-b926-a37aeaa22599"
      },
      "source": [
        "x2.ndim "
      ],
      "execution_count": null,
      "outputs": [
        {
          "output_type": "execute_result",
          "data": {
            "text/plain": [
              "4"
            ]
          },
          "metadata": {},
          "execution_count": 39
        }
      ]
    },
    {
      "cell_type": "code",
      "metadata": {
        "colab": {
          "base_uri": "https://localhost:8080/"
        },
        "id": "3n7YdIPLwdPh",
        "outputId": "7fc2504e-963d-4f7f-9f16-53309c6d160f"
      },
      "source": [
        "x2.size"
      ],
      "execution_count": null,
      "outputs": [
        {
          "output_type": "execute_result",
          "data": {
            "text/plain": [
              "840"
            ]
          },
          "metadata": {},
          "execution_count": 40
        }
      ]
    },
    {
      "cell_type": "code",
      "metadata": {
        "colab": {
          "base_uri": "https://localhost:8080/"
        },
        "id": "Wgx9-ERCwhv3",
        "outputId": "227d85f1-b527-43b2-f092-de8d9825edd4"
      },
      "source": [
        "x2.nbytes "
      ],
      "execution_count": null,
      "outputs": [
        {
          "output_type": "execute_result",
          "data": {
            "text/plain": [
              "6720"
            ]
          },
          "metadata": {},
          "execution_count": 41
        }
      ]
    },
    {
      "cell_type": "code",
      "metadata": {
        "colab": {
          "base_uri": "https://localhost:8080/"
        },
        "id": "rjuTj8uswmZV",
        "outputId": "d3e98ecf-43e2-469e-a00e-5fa4ad998ab3"
      },
      "source": [
        "x2.itemsize "
      ],
      "execution_count": null,
      "outputs": [
        {
          "output_type": "execute_result",
          "data": {
            "text/plain": [
              "8"
            ]
          },
          "metadata": {},
          "execution_count": 42
        }
      ]
    }
  ]
}